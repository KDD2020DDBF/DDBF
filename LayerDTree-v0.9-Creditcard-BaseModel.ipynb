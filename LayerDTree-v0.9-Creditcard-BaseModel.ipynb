{
 "cells": [
  {
   "cell_type": "code",
   "execution_count": 1,
   "metadata": {},
   "outputs": [],
   "source": [
    "import pandas as pd"
   ]
  },
  {
   "cell_type": "code",
   "execution_count": 3,
   "metadata": {},
   "outputs": [
    {
     "data": {
      "text/html": [
       "<div>\n",
       "<style scoped>\n",
       "    .dataframe tbody tr th:only-of-type {\n",
       "        vertical-align: middle;\n",
       "    }\n",
       "\n",
       "    .dataframe tbody tr th {\n",
       "        vertical-align: top;\n",
       "    }\n",
       "\n",
       "    .dataframe thead th {\n",
       "        text-align: right;\n",
       "    }\n",
       "</style>\n",
       "<table border=\"1\" class=\"dataframe\">\n",
       "  <thead>\n",
       "    <tr style=\"text-align: right;\">\n",
       "      <th></th>\n",
       "      <th>Time</th>\n",
       "      <th>V1</th>\n",
       "      <th>V2</th>\n",
       "      <th>V3</th>\n",
       "      <th>V4</th>\n",
       "      <th>V5</th>\n",
       "      <th>V6</th>\n",
       "      <th>V7</th>\n",
       "      <th>V8</th>\n",
       "      <th>V9</th>\n",
       "      <th>...</th>\n",
       "      <th>V21</th>\n",
       "      <th>V22</th>\n",
       "      <th>V23</th>\n",
       "      <th>V24</th>\n",
       "      <th>V25</th>\n",
       "      <th>V26</th>\n",
       "      <th>V27</th>\n",
       "      <th>V28</th>\n",
       "      <th>Amount</th>\n",
       "      <th>Class</th>\n",
       "    </tr>\n",
       "  </thead>\n",
       "  <tbody>\n",
       "    <tr>\n",
       "      <th>0</th>\n",
       "      <td>119907.0</td>\n",
       "      <td>-0.611712</td>\n",
       "      <td>-0.769705</td>\n",
       "      <td>-0.149759</td>\n",
       "      <td>-0.224877</td>\n",
       "      <td>2.028577</td>\n",
       "      <td>-2.019887</td>\n",
       "      <td>0.292491</td>\n",
       "      <td>-0.523020</td>\n",
       "      <td>0.358468</td>\n",
       "      <td>...</td>\n",
       "      <td>-0.075208</td>\n",
       "      <td>0.045536</td>\n",
       "      <td>0.380739</td>\n",
       "      <td>0.023440</td>\n",
       "      <td>-2.220686</td>\n",
       "      <td>-0.201146</td>\n",
       "      <td>0.066501</td>\n",
       "      <td>0.221180</td>\n",
       "      <td>1.79</td>\n",
       "      <td>0</td>\n",
       "    </tr>\n",
       "    <tr>\n",
       "      <th>1</th>\n",
       "      <td>78340.0</td>\n",
       "      <td>-0.814682</td>\n",
       "      <td>1.319219</td>\n",
       "      <td>1.329415</td>\n",
       "      <td>0.027273</td>\n",
       "      <td>-0.284871</td>\n",
       "      <td>-0.653985</td>\n",
       "      <td>0.321552</td>\n",
       "      <td>0.435975</td>\n",
       "      <td>-0.704298</td>\n",
       "      <td>...</td>\n",
       "      <td>-0.128619</td>\n",
       "      <td>-0.368565</td>\n",
       "      <td>0.090660</td>\n",
       "      <td>0.401147</td>\n",
       "      <td>-0.261034</td>\n",
       "      <td>0.080621</td>\n",
       "      <td>0.162427</td>\n",
       "      <td>0.059456</td>\n",
       "      <td>1.98</td>\n",
       "      <td>0</td>\n",
       "    </tr>\n",
       "    <tr>\n",
       "      <th>2</th>\n",
       "      <td>82382.0</td>\n",
       "      <td>-0.318193</td>\n",
       "      <td>1.118618</td>\n",
       "      <td>0.969864</td>\n",
       "      <td>-0.127052</td>\n",
       "      <td>0.569563</td>\n",
       "      <td>-0.532484</td>\n",
       "      <td>0.706252</td>\n",
       "      <td>-0.064966</td>\n",
       "      <td>-0.463271</td>\n",
       "      <td>...</td>\n",
       "      <td>-0.305402</td>\n",
       "      <td>-0.774704</td>\n",
       "      <td>-0.123884</td>\n",
       "      <td>-0.495687</td>\n",
       "      <td>-0.018148</td>\n",
       "      <td>0.121679</td>\n",
       "      <td>0.249050</td>\n",
       "      <td>0.092516</td>\n",
       "      <td>0.89</td>\n",
       "      <td>0</td>\n",
       "    </tr>\n",
       "    <tr>\n",
       "      <th>3</th>\n",
       "      <td>31717.0</td>\n",
       "      <td>-1.328271</td>\n",
       "      <td>1.018378</td>\n",
       "      <td>1.775426</td>\n",
       "      <td>-1.574193</td>\n",
       "      <td>-0.117696</td>\n",
       "      <td>-0.457733</td>\n",
       "      <td>0.681867</td>\n",
       "      <td>-0.031641</td>\n",
       "      <td>0.383872</td>\n",
       "      <td>...</td>\n",
       "      <td>-0.220815</td>\n",
       "      <td>-0.419013</td>\n",
       "      <td>-0.239197</td>\n",
       "      <td>0.009967</td>\n",
       "      <td>0.232829</td>\n",
       "      <td>0.814177</td>\n",
       "      <td>0.098797</td>\n",
       "      <td>-0.004273</td>\n",
       "      <td>15.98</td>\n",
       "      <td>0</td>\n",
       "    </tr>\n",
       "    <tr>\n",
       "      <th>4</th>\n",
       "      <td>80923.0</td>\n",
       "      <td>1.276712</td>\n",
       "      <td>0.617120</td>\n",
       "      <td>-0.578014</td>\n",
       "      <td>0.879173</td>\n",
       "      <td>0.061706</td>\n",
       "      <td>-1.472002</td>\n",
       "      <td>0.373692</td>\n",
       "      <td>-0.287204</td>\n",
       "      <td>-0.084482</td>\n",
       "      <td>...</td>\n",
       "      <td>-0.160161</td>\n",
       "      <td>-0.430404</td>\n",
       "      <td>-0.076738</td>\n",
       "      <td>0.258708</td>\n",
       "      <td>0.552170</td>\n",
       "      <td>0.370701</td>\n",
       "      <td>-0.034255</td>\n",
       "      <td>0.041709</td>\n",
       "      <td>0.76</td>\n",
       "      <td>0</td>\n",
       "    </tr>\n",
       "  </tbody>\n",
       "</table>\n",
       "<p>5 rows × 31 columns</p>\n",
       "</div>"
      ],
      "text/plain": [
       "       Time        V1        V2        V3        V4        V5        V6  \\\n",
       "0  119907.0 -0.611712 -0.769705 -0.149759 -0.224877  2.028577 -2.019887   \n",
       "1   78340.0 -0.814682  1.319219  1.329415  0.027273 -0.284871 -0.653985   \n",
       "2   82382.0 -0.318193  1.118618  0.969864 -0.127052  0.569563 -0.532484   \n",
       "3   31717.0 -1.328271  1.018378  1.775426 -1.574193 -0.117696 -0.457733   \n",
       "4   80923.0  1.276712  0.617120 -0.578014  0.879173  0.061706 -1.472002   \n",
       "\n",
       "         V7        V8        V9  ...       V21       V22       V23       V24  \\\n",
       "0  0.292491 -0.523020  0.358468  ... -0.075208  0.045536  0.380739  0.023440   \n",
       "1  0.321552  0.435975 -0.704298  ... -0.128619 -0.368565  0.090660  0.401147   \n",
       "2  0.706252 -0.064966 -0.463271  ... -0.305402 -0.774704 -0.123884 -0.495687   \n",
       "3  0.681867 -0.031641  0.383872  ... -0.220815 -0.419013 -0.239197  0.009967   \n",
       "4  0.373692 -0.287204 -0.084482  ... -0.160161 -0.430404 -0.076738  0.258708   \n",
       "\n",
       "        V25       V26       V27       V28  Amount  Class  \n",
       "0 -2.220686 -0.201146  0.066501  0.221180    1.79      0  \n",
       "1 -0.261034  0.080621  0.162427  0.059456    1.98      0  \n",
       "2 -0.018148  0.121679  0.249050  0.092516    0.89      0  \n",
       "3  0.232829  0.814177  0.098797 -0.004273   15.98      0  \n",
       "4  0.552170  0.370701 -0.034255  0.041709    0.76      0  \n",
       "\n",
       "[5 rows x 31 columns]"
      ]
     },
     "execution_count": 3,
     "metadata": {},
     "output_type": "execute_result"
    }
   ],
   "source": [
    "df = pd.read_csv(\"./datasetes/credit/creditcard.csv\", low_memory=False)\n",
    "# df = pd.read_csv('creditcard.csv', low_memory=False)\n",
    "df = df.sample(frac=1, random_state=1).reset_index(drop=True)\n",
    "df.head()"
   ]
  },
  {
   "cell_type": "code",
   "execution_count": 5,
   "metadata": {},
   "outputs": [
    {
     "name": "stdout",
     "output_type": "stream",
     "text": [
      "We have 492 fraud data points and 284315 nonfraudulent data points.\n"
     ]
    }
   ],
   "source": [
    "frauds = df.loc[df['Class'] == 1]\n",
    "non_frauds = df.loc[df['Class'] == 0]\n",
    "print(\"We have\", len(frauds), \"fraud data points and\", len(non_frauds), \"nonfraudulent data points.\")"
   ]
  },
  {
   "cell_type": "code",
   "execution_count": 6,
   "metadata": {},
   "outputs": [],
   "source": [
    "from sklearn import datasets, linear_model\n",
    "from sklearn.preprocessing import PolynomialFeatures\n",
    "from sklearn.model_selection import train_test_split"
   ]
  },
  {
   "cell_type": "code",
   "execution_count": 10,
   "metadata": {},
   "outputs": [
    {
     "name": "stdout",
     "output_type": "stream",
     "text": [
      "X and y sizes, respectively: 284807 284807\n",
      "Train and test sizes, respectively: 185124 185124 | 99683 99683\n",
      "Total number of frauds: 492 0.001727485630620034\n",
      "Number of frauds on y_test: 182 0.0018257877471584924\n",
      "Number of frauds on y_train: 310 0.0016745532724012013\n"
     ]
    }
   ],
   "source": [
    "X = df.iloc[:,:-1]\n",
    "y = df['Class']\n",
    "print(\"X and y sizes, respectively:\", len(X), len(y))\n",
    "\n",
    "X_train, X_test, y_train, y_test = train_test_split(X, y, test_size=0.35, random_state=500)\n",
    "print(\"Train and test sizes, respectively:\", len(X_train), len(y_train), \"|\", len(X_test), len(y_test))\n",
    "print(\"Total number of frauds:\", len(y.loc[df['Class'] == 1]), len(y.loc[df['Class'] == 1])/len(y))\n",
    "print(\"Number of frauds on y_test:\", len(y_test.loc[df['Class'] == 1]), len(y_test.loc[df['Class'] == 1]) / len(y_test))\n",
    "print(\"Number of frauds on y_train:\", len(y_train.loc[df['Class'] == 1]), len(y_train.loc[df['Class'] == 1])/len(y_train))\n",
    "\n",
    "X_train = X_train.values\n",
    "X_test = X_test.values\n",
    "y_train = y_train.values\n",
    "y_test = y_test.values"
   ]
  },
  {
   "cell_type": "code",
   "execution_count": 12,
   "metadata": {},
   "outputs": [
    {
     "data": {
      "text/plain": [
       "(array([ 4.05680000e+04,  1.07986004e+00,  3.74335739e-02,  4.05189660e-01,\n",
       "         1.11623980e+00, -3.52652667e-01, -4.05465558e-01,  1.48082619e-02,\n",
       "         1.37820957e-03,  2.03991389e-01, -5.03189566e-02, -2.98616675e-01,\n",
       "        -1.76794270e-01, -8.90378215e-01,  5.41904085e-01,  1.40271242e+00,\n",
       "        -4.02862035e-02, -1.52854308e-01, -4.93987693e-01, -7.41539707e-01,\n",
       "        -1.17354908e-01, -2.28408518e-02, -1.78534699e-01, -8.77119112e-03,\n",
       "         4.11553535e-02,  3.84051242e-01, -4.37645941e-01,  2.44553934e-02,\n",
       "         3.11215578e-02,  5.93500000e+01]), 0)"
      ]
     },
     "execution_count": 12,
     "metadata": {},
     "output_type": "execute_result"
    }
   ],
   "source": [
    "X_train[0], y_train[0]"
   ]
  },
  {
   "cell_type": "code",
   "execution_count": 13,
   "metadata": {},
   "outputs": [
    {
     "data": {
      "text/plain": [
       "(array([ 1.52093000e+05,  7.44982141e-03,  1.13163011e+00, -2.66036367e+00,\n",
       "        -6.75345504e-01,  1.81505622e+00, -5.32755745e-01,  1.19830550e+00,\n",
       "         4.38943170e-02, -5.81932719e-01, -7.11666890e-02, -5.36796316e-01,\n",
       "         1.16766819e-01, -7.22340099e-01,  1.37877058e+00, -1.05032091e+00,\n",
       "        -6.54230796e-01, -5.43860498e-01,  5.89924506e-01,  9.33565770e-01,\n",
       "        -4.09520114e-01,  5.82155900e-01,  1.66838208e+00, -5.99436990e-02,\n",
       "        -2.95606238e-01, -1.03082614e+00, -1.61548812e-01, -6.69506565e-02,\n",
       "         2.40108311e-01,  1.00000000e+00]), 0)"
      ]
     },
     "execution_count": 13,
     "metadata": {},
     "output_type": "execute_result"
    }
   ],
   "source": [
    "X_test[0], y_test[0]"
   ]
  },
  {
   "cell_type": "code",
   "execution_count": 14,
   "metadata": {},
   "outputs": [],
   "source": [
    "train_pd = pd.DataFrame(X_test, columns=['x'+str(i) for i in range(30)])\n",
    "train_pd['y'] = y_test\n",
    "train_pd.to_csv(\"./datasetes/credit/credit_test1.csv\", index=False)"
   ]
  },
  {
   "cell_type": "code",
   "execution_count": 15,
   "metadata": {},
   "outputs": [],
   "source": [
    "train_pd = pd.DataFrame(X_train, columns=['x'+str(i) for i in range(30)])\n",
    "train_pd['y'] = y_train\n",
    "train_pd.to_csv(\"./datasetes/credit/credit_train1.csv\", index=False)"
   ]
  },
  {
   "cell_type": "code",
   "execution_count": 16,
   "metadata": {},
   "outputs": [],
   "source": [
    "from sklearn import metrics\n",
    "\n",
    "def roc_metrix_mult(a, p, labels=[0,1]):\n",
    "# #     print(p)\n",
    "#     if len(set(a)) == 1:\n",
    "# #         return \"acc\", metrics.accuracy_score(a, p)\n",
    "#         return \"acc\", len(a) - len(np.where(a == p)[0])\n",
    "#     if type(p) == np.float64 or type(p) == float or type(p) == np.int64 or type(p) == int:\n",
    "    if len(p.shape) == 1:\n",
    "        print(type(p), p.shape)\n",
    "        return \"roc\", metrics.roc_auc_score(a, p)\n",
    "#     elif len(p[0]) == 2:\n",
    "    elif len(p.shape) == 2:\n",
    "        p = [i[1] for i in p]\n",
    "        return \"roc\", metrics.roc_auc_score(a, p)\n",
    "    else:\n",
    "        print(type(p), p.shape, \"error\")"
   ]
  },
  {
   "cell_type": "code",
   "execution_count": 18,
   "metadata": {},
   "outputs": [
    {
     "data": {
      "text/plain": [
       "<module 'ModelUtils' from 'C:\\\\Users\\\\dxeec\\\\Desktop\\\\EcoForest-master\\\\ModelUtils.py'>"
      ]
     },
     "execution_count": 18,
     "metadata": {},
     "output_type": "execute_result"
    }
   ],
   "source": [
    "import ModelUtils\n",
    "import importlib\n",
    "from collections import Counter\n",
    "import numpy as np\n",
    "importlib.reload(ModelUtils)"
   ]
  },
  {
   "cell_type": "code",
   "execution_count": 19,
   "metadata": {},
   "outputs": [
    {
     "name": "stdout",
     "output_type": "stream",
     "text": [
      "train ('roc', 0.5)\n",
      "test ('roc', 0.5)\n",
      "Wall time: 5min 55s\n"
     ]
    },
    {
     "data": {
      "text/plain": [
       "(MLPClassifier(activation='relu', alpha=0.0001, batch_size='auto', beta_1=0.9,\n",
       "        beta_2=0.999, early_stopping=False, epsilon=1e-08,\n",
       "        hidden_layer_sizes=(200, 100, 10), learning_rate='constant',\n",
       "        learning_rate_init=0.001, max_iter=1000, momentum=0.9,\n",
       "        n_iter_no_change=10, nesterovs_momentum=True, power_t=0.5,\n",
       "        random_state=None, shuffle=True, solver='adam', tol=0.0001,\n",
       "        validation_fraction=0.1, verbose=False, warm_start=False),\n",
       " array([[0.99833081, 0.00166919],\n",
       "        [0.99833081, 0.00166919],\n",
       "        [0.99833081, 0.00166919],\n",
       "        ...,\n",
       "        [0.99833081, 0.00166919],\n",
       "        [0.99833081, 0.00166919],\n",
       "        [0.99833081, 0.00166919]]))"
      ]
     },
     "execution_count": 19,
     "metadata": {},
     "output_type": "execute_result"
    }
   ],
   "source": [
    "%%time\n",
    "ModelUtils.mlp_classifier(X_train, y_train, X_test, y_test, feval=roc_metrix_mult)"
   ]
  },
  {
   "cell_type": "code",
   "execution_count": 20,
   "metadata": {},
   "outputs": [
    {
     "data": {
      "text/plain": [
       "(array([0.9262, 0.9352, 0.9309, 0.8828, 0.9107]),\n",
       " 0.019069829574487544,\n",
       " 0.91716,\n",
       " 0.9352,\n",
       " 0.8828)"
      ]
     },
     "execution_count": 20,
     "metadata": {},
     "output_type": "execute_result"
    }
   ],
   "source": [
    "test_1 = np.array([0.9262, 0.9352, 0.9309, 0.8828, 0.9107])\n",
    "test_1, np.std(test_1), np.average(test_1), np.max(test_1), np.min(test_1)"
   ]
  },
  {
   "cell_type": "code",
   "execution_count": 21,
   "metadata": {},
   "outputs": [
    {
     "data": {
      "text/plain": [
       "(array([5.65, 6.18, 7.19, 5.12, 4.25]), 0.9888862421937117, 5.678, 7.19, 4.25)"
      ]
     },
     "execution_count": 21,
     "metadata": {},
     "output_type": "execute_result"
    }
   ],
   "source": [
    "test_1 = np.array([5.65, 6.18, 7.19, 5.12, 4.25])\n",
    "test_1, np.std(test_1), np.average(test_1), np.max(test_1), np.min(test_1)"
   ]
  },
  {
   "cell_type": "code",
   "execution_count": 22,
   "metadata": {},
   "outputs": [
    {
     "data": {
      "text/plain": [
       "(array([51.65, 62.18, 71.19, 52.12, 53.8 ]),\n",
       " 7.534038492070505,\n",
       " 58.188,\n",
       " 71.19,\n",
       " 51.65)"
      ]
     },
     "execution_count": 22,
     "metadata": {},
     "output_type": "execute_result"
    }
   ],
   "source": [
    "test_1 = np.array([51.65, 62.18, 71.19, 52.12, 53.8])\n",
    "test_1, np.std(test_1), np.average(test_1), np.max(test_1), np.min(test_1)"
   ]
  },
  {
   "cell_type": "code",
   "execution_count": 23,
   "metadata": {},
   "outputs": [
    {
     "name": "stdout",
     "output_type": "stream",
     "text": [
      "train ('roc', 1.0)\n",
      "test ('roc', 0.8761173475422578)\n",
      "Wall time: 14.7 s\n"
     ]
    },
    {
     "data": {
      "text/plain": [
       "(DecisionTreeClassifier(class_weight=None, criterion='gini', max_depth=None,\n",
       "             max_features=None, max_leaf_nodes=None,\n",
       "             min_impurity_decrease=0.0, min_impurity_split=None,\n",
       "             min_samples_leaf=1, min_samples_split=2,\n",
       "             min_weight_fraction_leaf=0.0, presort=False, random_state=None,\n",
       "             splitter='best'), array([[1., 0.],\n",
       "        [1., 0.],\n",
       "        [1., 0.],\n",
       "        ...,\n",
       "        [1., 0.],\n",
       "        [1., 0.],\n",
       "        [1., 0.]]))"
      ]
     },
     "execution_count": 23,
     "metadata": {},
     "output_type": "execute_result"
    }
   ],
   "source": [
    "%%time\n",
    "ModelUtils.decision_tree(X_train, y_train, X_test, y_test, feval=roc_metrix_mult)"
   ]
  },
  {
   "cell_type": "code",
   "execution_count": 24,
   "metadata": {},
   "outputs": [
    {
     "data": {
      "text/plain": [
       "(array([0.8734, 0.8953, 0.8816, 0.8706, 0.8734]),\n",
       " 0.009007019484824045,\n",
       " 0.8788600000000001,\n",
       " 0.8953,\n",
       " 0.8706)"
      ]
     },
     "execution_count": 24,
     "metadata": {},
     "output_type": "execute_result"
    }
   ],
   "source": [
    "test_1 = np.array([0.8734, 0.8953, 0.8816, 0.8706, 0.8734])\n",
    "test_1, np.std(test_1), np.average(test_1), np.max(test_1), np.min(test_1)"
   ]
  },
  {
   "cell_type": "code",
   "execution_count": 25,
   "metadata": {},
   "outputs": [
    {
     "data": {
      "text/plain": [
       "(array([16.6, 16.4, 16.4, 16.4, 16.4]),\n",
       " 0.08000000000000114,\n",
       " 16.439999999999998,\n",
       " 16.6,\n",
       " 16.4)"
      ]
     },
     "execution_count": 25,
     "metadata": {},
     "output_type": "execute_result"
    }
   ],
   "source": [
    "test_1 = np.array([16.6, 16.4, 16.4, 16.4, 16.4])\n",
    "test_1, np.std(test_1), np.average(test_1), np.max(test_1), np.min(test_1)"
   ]
  },
  {
   "cell_type": "code",
   "execution_count": 26,
   "metadata": {},
   "outputs": [
    {
     "name": "stdout",
     "output_type": "stream",
     "text": [
      "start train: 2019-08-13 17:03:47.411823\n",
      "start test: 2019-08-13 17:22:50.743717\n",
      "end test: 2019-08-13 17:22:58.283556\n",
      "test ('roc', 0.9688458319100224)\n",
      "train ('roc', 1.0)\n",
      "Wall time: 19min 33s\n"
     ]
    },
    {
     "data": {
      "text/plain": [
       "(RandomForestClassifier(bootstrap=True, class_weight=None, criterion='gini',\n",
       "             max_depth=None, max_features='auto', max_leaf_nodes=None,\n",
       "             min_impurity_decrease=0.0, min_impurity_split=None,\n",
       "             min_samples_leaf=1, min_samples_split=2,\n",
       "             min_weight_fraction_leaf=0.0, n_estimators=4050, n_jobs=-1,\n",
       "             oob_score=False, random_state=None, verbose=0,\n",
       "             warm_start=False), array([[1.00000000e+00, 0.00000000e+00],\n",
       "        [9.99506173e-01, 4.93827160e-04],\n",
       "        [9.99506173e-01, 4.93827160e-04],\n",
       "        ...,\n",
       "        [1.00000000e+00, 0.00000000e+00],\n",
       "        [1.00000000e+00, 0.00000000e+00],\n",
       "        [1.00000000e+00, 0.00000000e+00]]))"
      ]
     },
     "execution_count": 26,
     "metadata": {},
     "output_type": "execute_result"
    }
   ],
   "source": [
    "%%time\n",
    "ModelUtils.random_forest(X_train, y_train, X_test, y_test, n_estimators=4050, feval=roc_metrix_mult,\\\n",
    "                         max_depth=3, min_samples_leaf=1, min_samples_split=2)"
   ]
  },
  {
   "cell_type": "code",
   "execution_count": 27,
   "metadata": {},
   "outputs": [
    {
     "name": "stdout",
     "output_type": "stream",
     "text": [
      "start train: 2019-08-13 17:27:39.147887\n",
      "start test: 2019-08-13 17:28:36.811094\n",
      "end test: 2019-08-13 17:28:37.238977\n",
      "test ('roc', 0.9535513807305045)\n",
      "train ('roc', 1.0)\n",
      "Wall time: 59.6 s\n"
     ]
    },
    {
     "data": {
      "text/plain": [
       "(RandomForestClassifier(bootstrap=True, class_weight=None, criterion='gini',\n",
       "             max_depth=None, max_features='auto', max_leaf_nodes=None,\n",
       "             min_impurity_decrease=0.0, min_impurity_split=None,\n",
       "             min_samples_leaf=1, min_samples_split=2,\n",
       "             min_weight_fraction_leaf=0.0, n_estimators=200, n_jobs=-1,\n",
       "             oob_score=False, random_state=None, verbose=0,\n",
       "             warm_start=False), array([[1., 0.],\n",
       "        [1., 0.],\n",
       "        [1., 0.],\n",
       "        ...,\n",
       "        [1., 0.],\n",
       "        [1., 0.],\n",
       "        [1., 0.]]))"
      ]
     },
     "execution_count": 27,
     "metadata": {},
     "output_type": "execute_result"
    }
   ],
   "source": [
    "%%time\n",
    "ModelUtils.random_forest(X_train, y_train, X_test, y_test, n_estimators=200, feval=roc_metrix_mult,\\\n",
    "                         max_depth=3, min_samples_leaf=1, min_samples_split=2)"
   ]
  },
  {
   "cell_type": "code",
   "execution_count": 28,
   "metadata": {},
   "outputs": [
    {
     "data": {
      "text/plain": [
       "(array([0.948 , 0.9479, 0.9509, 0.9509, 0.9563]),\n",
       " 0.003050245891727448,\n",
       " 0.9507999999999999,\n",
       " 0.9563,\n",
       " 0.9479)"
      ]
     },
     "execution_count": 28,
     "metadata": {},
     "output_type": "execute_result"
    }
   ],
   "source": [
    "test_1 = np.array([0.9480, 0.9479, 0.9509, 0.9509, 0.9563])\n",
    "test_1, np.std(test_1), np.average(test_1), np.max(test_1), np.min(test_1)"
   ]
  },
  {
   "cell_type": "code",
   "execution_count": 29,
   "metadata": {},
   "outputs": [
    {
     "data": {
      "text/plain": [
       "(array([322, 323, 297, 302, 312]), 10.419213022104884, 311.2, 323, 297)"
      ]
     },
     "execution_count": 29,
     "metadata": {},
     "output_type": "execute_result"
    }
   ],
   "source": [
    "test_1 = np.array([5*60+22, 5*60+23, 4*60+57, 5*60+2, 5*60+12])\n",
    "test_1, np.std(test_1), np.average(test_1), np.max(test_1), np.min(test_1)"
   ]
  },
  {
   "cell_type": "code",
   "execution_count": 30,
   "metadata": {},
   "outputs": [
    {
     "name": "stdout",
     "output_type": "stream",
     "text": [
      "train ('roc', 0.9777502018594457)\n",
      "test ('roc', 0.9598434650444178)\n",
      "Wall time: 16min 38s\n"
     ]
    },
    {
     "data": {
      "text/plain": [
       "(GradientBoostingClassifier(criterion='friedman_mse', init=None,\n",
       "               learning_rate=0.1, loss='deviance', max_depth=3,\n",
       "               max_features=None, max_leaf_nodes=None,\n",
       "               min_impurity_decrease=0.0, min_impurity_split=None,\n",
       "               min_samples_leaf=1, min_samples_split=2,\n",
       "               min_weight_fraction_leaf=0.0, n_estimators=2000,\n",
       "               n_iter_no_change=None, presort='auto', random_state=None,\n",
       "               subsample=1.0, tol=0.0001, validation_fraction=0.1,\n",
       "               verbose=0, warm_start=False),\n",
       " array([[9.99966476e-01, 3.35244036e-05],\n",
       "        [9.99947424e-01, 5.25756434e-05],\n",
       "        [9.99401719e-01, 5.98281096e-04],\n",
       "        ...,\n",
       "        [9.99978750e-01, 2.12503223e-05],\n",
       "        [9.99967719e-01, 3.22813395e-05],\n",
       "        [9.99944055e-01, 5.59445318e-05]]))"
      ]
     },
     "execution_count": 30,
     "metadata": {},
     "output_type": "execute_result"
    }
   ],
   "source": [
    "%%time\n",
    "ModelUtils.gdbt_model(X_train, y_train, X_test, y_test, n_estimators=2000, feval=roc_metrix_mult)"
   ]
  },
  {
   "cell_type": "code",
   "execution_count": 32,
   "metadata": {},
   "outputs": [
    {
     "data": {
      "text/plain": [
       "(array([0.9434    , 0.94338905, 0.94337596, 0.94338251, 0.94337596]),\n",
       " 9.061018168500733e-06,\n",
       " 0.9433846962143292,\n",
       " 0.9434,\n",
       " 0.9433759625365739)"
      ]
     },
     "execution_count": 32,
     "metadata": {},
     "output_type": "execute_result"
    }
   ],
   "source": [
    "test_1 = np.array([0.9434, 0.94338904982014105, 0.94337596253657385, 0.94338250617835739, 0.94337596253657385])\n",
    "test_1, np.std(test_1), np.average(test_1), np.max(test_1), np.min(test_1)"
   ]
  },
  {
   "cell_type": "code",
   "execution_count": 33,
   "metadata": {},
   "outputs": [
    {
     "data": {
      "text/plain": [
       "(array([132, 156, 150, 154, 145]), 8.56971411425142, 147.4, 156, 132)"
      ]
     },
     "execution_count": 33,
     "metadata": {},
     "output_type": "execute_result"
    }
   ],
   "source": [
    "test_1 = np.array([2*60+12, 2*60+36, 2*60+30, 2*60+34, 2*60+25])\n",
    "test_1, np.std(test_1), np.average(test_1), np.max(test_1), np.min(test_1)"
   ]
  },
  {
   "cell_type": "code",
   "execution_count": 34,
   "metadata": {},
   "outputs": [
    {
     "name": "stdout",
     "output_type": "stream",
     "text": [
      "{'objective': 'binary:logistic'}\n",
      "before train\n",
      "[0]\ttrain-error:0.000378\tvalid-error:0.000692\ttrain-roc:0.912797\tvalid-roc:0.928431\n",
      "Multiple eval metrics have been passed: 'valid-roc' will be used for early stopping.\n",
      "\n",
      "Will train until valid-roc hasn't improved in 500 rounds.\n",
      "[100]\ttrain-error:0\tvalid-error:0.000461\ttrain-roc:1\tvalid-roc:0.982731\n",
      "[200]\ttrain-error:0\tvalid-error:0.000461\ttrain-roc:1\tvalid-roc:0.983351\n",
      "[300]\ttrain-error:0\tvalid-error:0.000451\ttrain-roc:1\tvalid-roc:0.983429\n",
      "[400]\ttrain-error:0\tvalid-error:0.000441\ttrain-roc:1\tvalid-roc:0.983811\n",
      "[500]\ttrain-error:0\tvalid-error:0.000431\ttrain-roc:1\tvalid-roc:0.983761\n",
      "[600]\ttrain-error:0\tvalid-error:0.000431\ttrain-roc:1\tvalid-roc:0.983886\n",
      "Stopping. Best iteration:\n",
      "[140]\ttrain-error:0\tvalid-error:0.000451\ttrain-roc:1\tvalid-roc:0.984089\n",
      "\n",
      "<xgboost.core.Booster object at 0x000002A5CD0B5748>\n",
      "[2.0731017e-07 6.9206766e-07 8.0152518e-08 ... 5.7067453e-09 1.4301404e-08\n",
      " 1.0865173e-07]\n",
      "train ('roc', 1.0)\n",
      "[1.3080020e-06 1.8599242e-06 5.4165832e-07 ... 8.8922690e-08 4.1900162e-08\n",
      " 2.6820075e-07]\n",
      "test ('roc', 0.9839087154792524)\n",
      "Wall time: 2min 21s\n"
     ]
    }
   ],
   "source": [
    "%%time\n",
    "def roc_metrix(a, p):\n",
    "    return \"roc\", metrics.roc_auc_score(a, p)\n",
    "ModelUtils.xgb_model(X_train, y_train, X_test, y_test, num_class=2, feval=roc_metrix)"
   ]
  },
  {
   "cell_type": "code",
   "execution_count": 35,
   "metadata": {},
   "outputs": [
    {
     "name": "stdout",
     "output_type": "stream",
     "text": [
      "X_train.shape, y_train.shape:(185124, 30)(185124,)\n",
      "X_valid.shape, y_valid.shape:(99683, 30)(99683,)\n",
      "    cross_score: 0.99932\n",
      "    test score ('roc', 0.9699898371997144)\n",
      "<class 'numpy.ndarray'> (99683,)\n",
      "train kflod pred: ('roc', 0.8873224367616384)\n",
      "<class 'numpy.ndarray'> (185124,)\n",
      "train pred ('roc', 0.8838276809779456)\n",
      "<class 'numpy.ndarray'> (99683,)\n",
      "test pred ('roc', 0.8873224367616384)\n"
     ]
    },
    {
     "data": {
      "text/plain": [
       "RandomForestClassifier(bootstrap=True, class_weight=None, criterion='gini',\n",
       "            max_depth=None, max_features='auto', max_leaf_nodes=None,\n",
       "            min_impurity_decrease=0.0, min_impurity_split=None,\n",
       "            min_samples_leaf=10, min_samples_split=2,\n",
       "            min_weight_fraction_leaf=0.0, n_estimators=200, n_jobs=-1,\n",
       "            oob_score=False, random_state=1024, verbose=0,\n",
       "            warm_start=False)"
      ]
     },
     "execution_count": 35,
     "metadata": {},
     "output_type": "execute_result"
    }
   ],
   "source": [
    "ModelUtils.baseline_1_flod(X_train, y_train, X_test, y_test, num_class=2, feval=roc_metrix_mult)"
   ]
  },
  {
   "cell_type": "code",
   "execution_count": 36,
   "metadata": {},
   "outputs": [
    {
     "name": "stdout",
     "output_type": "stream",
     "text": [
      "X_train.shape, y_train.shape:(123415, 30)(123415,)\n",
      "X_valid.shape, y_valid.shape:(61709, 30)(61709,)\n",
      "    cross_score: 0.99938\n",
      "    test score ('roc', 0.938519724413836)\n",
      "X_train.shape, y_train.shape:(123416, 30)(123416,)\n",
      "X_valid.shape, y_valid.shape:(61708, 30)(61708,)\n",
      "    cross_score: 0.99947\n",
      "    test score ('roc', 0.9467638571416424)\n",
      "X_train.shape, y_train.shape:(123417, 30)(123417,)\n",
      "X_valid.shape, y_valid.shape:(61707, 30)(61707,)\n",
      "    cross_score: 0.99922\n",
      "    test score ('roc', 0.9468378251430682)\n",
      "<class 'numpy.ndarray'> (185124,)\n",
      "train kflod pred: ('roc', 0.870908222634998)\n",
      "[0.00666667 0.00666667 0.00666667 ... 0.01333333 0.97333333 0.00666667]\n",
      "<class 'numpy.ndarray'> (99683,)\n",
      "test data ('roc', 0.956568634629659)\n",
      "<class 'numpy.ndarray'> (185124,)\n",
      "train pred ('roc', 0.9999945106099699)\n",
      "[0.00666667 0.00666667 0.00666667 ... 0.01333333 0.97333333 0.00666667]\n",
      "<class 'numpy.ndarray'> (99683,)\n",
      "test pred ('roc', 0.956568634629659)\n",
      "train lr shape:  (185124, 2)\n"
     ]
    },
    {
     "name": "stderr",
     "output_type": "stream",
     "text": [
      "C:\\Users\\dxeec\\Anaconda3\\lib\\site-packages\\sklearn\\linear_model\\logistic.py:433: FutureWarning: Default solver will be changed to 'lbfgs' in 0.22. Specify a solver to silence this warning.\n",
      "  FutureWarning)\n"
     ]
    },
    {
     "name": "stdout",
     "output_type": "stream",
     "text": [
      "<class 'numpy.ndarray'> (185124,)\n",
      "lr train ('roc', 0.8596314271680996)\n",
      "test lr shape:  (99683, 2)\n",
      "<class 'numpy.ndarray'> (99683,)\n",
      "lr test ('roc', 0.8818430064925075)\n",
      "lr coef_ -0.31261595922601604\n"
     ]
    },
    {
     "data": {
      "text/plain": [
       "[RandomForestClassifier(bootstrap=True, class_weight=None, criterion='gini',\n",
       "             max_depth=None, max_features='auto', max_leaf_nodes=None,\n",
       "             min_impurity_decrease=0.0, min_impurity_split=None,\n",
       "             min_samples_leaf=1, min_samples_split=2,\n",
       "             min_weight_fraction_leaf=0.0, n_estimators=50, n_jobs=-1,\n",
       "             oob_score=False, random_state=1, verbose=0, warm_start=False),\n",
       " RandomForestClassifier(bootstrap=True, class_weight=None, criterion='gini',\n",
       "             max_depth=None, max_features='auto', max_leaf_nodes=None,\n",
       "             min_impurity_decrease=0.0, min_impurity_split=None,\n",
       "             min_samples_leaf=1, min_samples_split=2,\n",
       "             min_weight_fraction_leaf=0.0, n_estimators=50, n_jobs=-1,\n",
       "             oob_score=False, random_state=1, verbose=0, warm_start=False),\n",
       " RandomForestClassifier(bootstrap=True, class_weight=None, criterion='gini',\n",
       "             max_depth=None, max_features='auto', max_leaf_nodes=None,\n",
       "             min_impurity_decrease=0.0, min_impurity_split=None,\n",
       "             min_samples_leaf=1, min_samples_split=2,\n",
       "             min_weight_fraction_leaf=0.0, n_estimators=50, n_jobs=-1,\n",
       "             oob_score=False, random_state=1, verbose=0, warm_start=False)]"
      ]
     },
     "execution_count": 36,
     "metadata": {},
     "output_type": "execute_result"
    }
   ],
   "source": [
    "ModelUtils.baseline_model(X_train, y_train, X_test, y_test, num_class=2, feval=roc_metrix_mult)"
   ]
  },
  {
   "cell_type": "code",
   "execution_count": 37,
   "metadata": {},
   "outputs": [
    {
     "name": "stdout",
     "output_type": "stream",
     "text": [
      "<class 'int'>\n"
     ]
    },
    {
     "data": {
      "text/plain": [
       "False"
      ]
     },
     "execution_count": 37,
     "metadata": {},
     "output_type": "execute_result"
    }
   ],
   "source": [
    "a = 6\n",
    "print(type(a))\n",
    "import numpy as np\n",
    "type(a) == np.int64"
   ]
  },
  {
   "cell_type": "code",
   "execution_count": 38,
   "metadata": {},
   "outputs": [
    {
     "name": "stdout",
     "output_type": "stream",
     "text": [
      "X_train.shape, y_train.shape:(123415, 30)(123415,)\n",
      "X_valid.shape, y_valid.shape:(61709, 30)(61709,)\n",
      "    cross_score: 0.99938\n",
      "    test score ('roc', 0.938519724413836)\n",
      "X_train.shape, y_train.shape:(123416, 30)(123416,)\n",
      "X_valid.shape, y_valid.shape:(61708, 30)(61708,)\n",
      "    cross_score: 0.99947\n",
      "    test score ('roc', 0.9467638571416424)\n",
      "X_train.shape, y_train.shape:(123417, 30)(123417,)\n",
      "X_valid.shape, y_valid.shape:(61707, 30)(61707,)\n",
      "    cross_score: 0.99922\n",
      "    test score ('roc', 0.9468378251430682)\n",
      "<class 'numpy.ndarray'> (185124,)\n",
      "train kflod pred: ('roc', 0.870908222634998)\n",
      "[0.00666667 0.00666667 0.00666667 ... 0.01333333 0.97333333 0.00666667]\n",
      "<class 'numpy.ndarray'> (99683,)\n",
      "test data ('roc', 0.956568634629659)\n",
      "<class 'numpy.ndarray'> (185124,)\n",
      "train pred ('roc', 0.9999945106099699)\n",
      "[0.00666667 0.00666667 0.00666667 ... 0.01333333 0.97333333 0.00666667]\n",
      "<class 'numpy.ndarray'> (99683,)\n",
      "test pred ('roc', 0.956568634629659)\n",
      "train lr shape:  (185124, 2)\n"
     ]
    },
    {
     "name": "stderr",
     "output_type": "stream",
     "text": [
      "C:\\Users\\dxeec\\Anaconda3\\lib\\site-packages\\sklearn\\linear_model\\logistic.py:433: FutureWarning: Default solver will be changed to 'lbfgs' in 0.22. Specify a solver to silence this warning.\n",
      "  FutureWarning)\n"
     ]
    },
    {
     "name": "stdout",
     "output_type": "stream",
     "text": [
      "<class 'numpy.ndarray'> (185124,)\n",
      "lr train ('roc', 0.8596314271680996)\n",
      "test lr shape:  (99683, 2)\n",
      "<class 'numpy.ndarray'> (99683,)\n",
      "lr test ('roc', 0.8818430064925075)\n",
      "lr coef_ -0.31261595922601604\n"
     ]
    },
    {
     "data": {
      "text/plain": [
       "[RandomForestClassifier(bootstrap=True, class_weight=None, criterion='gini',\n",
       "             max_depth=None, max_features='auto', max_leaf_nodes=None,\n",
       "             min_impurity_decrease=0.0, min_impurity_split=None,\n",
       "             min_samples_leaf=1, min_samples_split=2,\n",
       "             min_weight_fraction_leaf=0.0, n_estimators=50, n_jobs=-1,\n",
       "             oob_score=False, random_state=1, verbose=0, warm_start=False),\n",
       " RandomForestClassifier(bootstrap=True, class_weight=None, criterion='gini',\n",
       "             max_depth=None, max_features='auto', max_leaf_nodes=None,\n",
       "             min_impurity_decrease=0.0, min_impurity_split=None,\n",
       "             min_samples_leaf=1, min_samples_split=2,\n",
       "             min_weight_fraction_leaf=0.0, n_estimators=50, n_jobs=-1,\n",
       "             oob_score=False, random_state=1, verbose=0, warm_start=False),\n",
       " RandomForestClassifier(bootstrap=True, class_weight=None, criterion='gini',\n",
       "             max_depth=None, max_features='auto', max_leaf_nodes=None,\n",
       "             min_impurity_decrease=0.0, min_impurity_split=None,\n",
       "             min_samples_leaf=1, min_samples_split=2,\n",
       "             min_weight_fraction_leaf=0.0, n_estimators=50, n_jobs=-1,\n",
       "             oob_score=False, random_state=1, verbose=0, warm_start=False)]"
      ]
     },
     "execution_count": 38,
     "metadata": {},
     "output_type": "execute_result"
    }
   ],
   "source": [
    "ModelUtils.baseline_model(X_train, y_train, X_test, y_test, num_class=2, feval=roc_metrix_mult)"
   ]
  },
  {
   "cell_type": "code",
   "execution_count": null,
   "metadata": {},
   "outputs": [],
   "source": []
  }
 ],
 "metadata": {
  "kernelspec": {
   "display_name": "Python 3",
   "language": "python",
   "name": "python3"
  },
  "language_info": {
   "codemirror_mode": {
    "name": "ipython",
    "version": 3
   },
   "file_extension": ".py",
   "mimetype": "text/x-python",
   "name": "python",
   "nbconvert_exporter": "python",
   "pygments_lexer": "ipython3",
   "version": "3.7.4"
  }
 },
 "nbformat": 4,
 "nbformat_minor": 2
}
