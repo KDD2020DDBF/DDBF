{
 "cells": [
  {
   "cell_type": "code",
   "execution_count": 30,
   "metadata": {
    "collapsed": true
   },
   "outputs": [],
   "source": [
    "from sklearn.datasets import load_iris\n",
    "from sklearn.ensemble import RandomForestClassifier\n",
    "import pandas as pd\n",
    "import numpy as np\n",
    "import graphviz \n",
    "from sklearn import tree\n",
    "np.random.seed(0)"
   ]
  },
  {
   "cell_type": "code",
   "execution_count": 3,
   "metadata": {},
   "outputs": [
    {
     "data": {
      "text/html": [
       "<div>\n",
       "<style>\n",
       "    .dataframe thead tr:only-child th {\n",
       "        text-align: right;\n",
       "    }\n",
       "\n",
       "    .dataframe thead th {\n",
       "        text-align: left;\n",
       "    }\n",
       "\n",
       "    .dataframe tbody tr th {\n",
       "        vertical-align: top;\n",
       "    }\n",
       "</style>\n",
       "<table border=\"1\" class=\"dataframe\">\n",
       "  <thead>\n",
       "    <tr style=\"text-align: right;\">\n",
       "      <th></th>\n",
       "      <th>sepal length (cm)</th>\n",
       "      <th>sepal width (cm)</th>\n",
       "      <th>petal length (cm)</th>\n",
       "      <th>petal width (cm)</th>\n",
       "    </tr>\n",
       "  </thead>\n",
       "  <tbody>\n",
       "    <tr>\n",
       "      <th>0</th>\n",
       "      <td>5.1</td>\n",
       "      <td>3.5</td>\n",
       "      <td>1.4</td>\n",
       "      <td>0.2</td>\n",
       "    </tr>\n",
       "    <tr>\n",
       "      <th>1</th>\n",
       "      <td>4.9</td>\n",
       "      <td>3.0</td>\n",
       "      <td>1.4</td>\n",
       "      <td>0.2</td>\n",
       "    </tr>\n",
       "    <tr>\n",
       "      <th>2</th>\n",
       "      <td>4.7</td>\n",
       "      <td>3.2</td>\n",
       "      <td>1.3</td>\n",
       "      <td>0.2</td>\n",
       "    </tr>\n",
       "    <tr>\n",
       "      <th>3</th>\n",
       "      <td>4.6</td>\n",
       "      <td>3.1</td>\n",
       "      <td>1.5</td>\n",
       "      <td>0.2</td>\n",
       "    </tr>\n",
       "    <tr>\n",
       "      <th>4</th>\n",
       "      <td>5.0</td>\n",
       "      <td>3.6</td>\n",
       "      <td>1.4</td>\n",
       "      <td>0.2</td>\n",
       "    </tr>\n",
       "  </tbody>\n",
       "</table>\n",
       "</div>"
      ],
      "text/plain": [
       "   sepal length (cm)  sepal width (cm)  petal length (cm)  petal width (cm)\n",
       "0                5.1               3.5                1.4               0.2\n",
       "1                4.9               3.0                1.4               0.2\n",
       "2                4.7               3.2                1.3               0.2\n",
       "3                4.6               3.1                1.5               0.2\n",
       "4                5.0               3.6                1.4               0.2"
      ]
     },
     "execution_count": 3,
     "metadata": {},
     "output_type": "execute_result"
    }
   ],
   "source": [
    "# Create an object called iris with the iris data\n",
    "iris = load_iris()\n",
    "\n",
    "# Create a dataframe with the four feature variables\n",
    "df = pd.DataFrame(iris.data, columns=iris.feature_names)\n",
    "\n",
    "# View the top 5 rows\n",
    "df.head()"
   ]
  },
  {
   "cell_type": "code",
   "execution_count": 4,
   "metadata": {},
   "outputs": [
    {
     "data": {
      "text/html": [
       "<div>\n",
       "<style>\n",
       "    .dataframe thead tr:only-child th {\n",
       "        text-align: right;\n",
       "    }\n",
       "\n",
       "    .dataframe thead th {\n",
       "        text-align: left;\n",
       "    }\n",
       "\n",
       "    .dataframe tbody tr th {\n",
       "        vertical-align: top;\n",
       "    }\n",
       "</style>\n",
       "<table border=\"1\" class=\"dataframe\">\n",
       "  <thead>\n",
       "    <tr style=\"text-align: right;\">\n",
       "      <th></th>\n",
       "      <th>sepal length (cm)</th>\n",
       "      <th>sepal width (cm)</th>\n",
       "      <th>petal length (cm)</th>\n",
       "      <th>petal width (cm)</th>\n",
       "      <th>species</th>\n",
       "    </tr>\n",
       "  </thead>\n",
       "  <tbody>\n",
       "    <tr>\n",
       "      <th>0</th>\n",
       "      <td>5.1</td>\n",
       "      <td>3.5</td>\n",
       "      <td>1.4</td>\n",
       "      <td>0.2</td>\n",
       "      <td>setosa</td>\n",
       "    </tr>\n",
       "    <tr>\n",
       "      <th>1</th>\n",
       "      <td>4.9</td>\n",
       "      <td>3.0</td>\n",
       "      <td>1.4</td>\n",
       "      <td>0.2</td>\n",
       "      <td>setosa</td>\n",
       "    </tr>\n",
       "    <tr>\n",
       "      <th>2</th>\n",
       "      <td>4.7</td>\n",
       "      <td>3.2</td>\n",
       "      <td>1.3</td>\n",
       "      <td>0.2</td>\n",
       "      <td>setosa</td>\n",
       "    </tr>\n",
       "    <tr>\n",
       "      <th>3</th>\n",
       "      <td>4.6</td>\n",
       "      <td>3.1</td>\n",
       "      <td>1.5</td>\n",
       "      <td>0.2</td>\n",
       "      <td>setosa</td>\n",
       "    </tr>\n",
       "    <tr>\n",
       "      <th>4</th>\n",
       "      <td>5.0</td>\n",
       "      <td>3.6</td>\n",
       "      <td>1.4</td>\n",
       "      <td>0.2</td>\n",
       "      <td>setosa</td>\n",
       "    </tr>\n",
       "  </tbody>\n",
       "</table>\n",
       "</div>"
      ],
      "text/plain": [
       "   sepal length (cm)  sepal width (cm)  petal length (cm)  petal width (cm)  \\\n",
       "0                5.1               3.5                1.4               0.2   \n",
       "1                4.9               3.0                1.4               0.2   \n",
       "2                4.7               3.2                1.3               0.2   \n",
       "3                4.6               3.1                1.5               0.2   \n",
       "4                5.0               3.6                1.4               0.2   \n",
       "\n",
       "  species  \n",
       "0  setosa  \n",
       "1  setosa  \n",
       "2  setosa  \n",
       "3  setosa  \n",
       "4  setosa  "
      ]
     },
     "execution_count": 4,
     "metadata": {},
     "output_type": "execute_result"
    }
   ],
   "source": [
    "# Add a new column with the species names, this is what we are going to try to predict\n",
    "df['species'] = pd.Categorical.from_codes(iris.target, iris.target_names)\n",
    "\n",
    "# View the top 5 rows\n",
    "df.head()"
   ]
  },
  {
   "cell_type": "code",
   "execution_count": 5,
   "metadata": {},
   "outputs": [
    {
     "data": {
      "text/html": [
       "<div>\n",
       "<style>\n",
       "    .dataframe thead tr:only-child th {\n",
       "        text-align: right;\n",
       "    }\n",
       "\n",
       "    .dataframe thead th {\n",
       "        text-align: left;\n",
       "    }\n",
       "\n",
       "    .dataframe tbody tr th {\n",
       "        vertical-align: top;\n",
       "    }\n",
       "</style>\n",
       "<table border=\"1\" class=\"dataframe\">\n",
       "  <thead>\n",
       "    <tr style=\"text-align: right;\">\n",
       "      <th></th>\n",
       "      <th>sepal length (cm)</th>\n",
       "      <th>sepal width (cm)</th>\n",
       "      <th>petal length (cm)</th>\n",
       "      <th>petal width (cm)</th>\n",
       "      <th>species</th>\n",
       "      <th>is_train</th>\n",
       "    </tr>\n",
       "  </thead>\n",
       "  <tbody>\n",
       "    <tr>\n",
       "      <th>0</th>\n",
       "      <td>5.1</td>\n",
       "      <td>3.5</td>\n",
       "      <td>1.4</td>\n",
       "      <td>0.2</td>\n",
       "      <td>setosa</td>\n",
       "      <td>True</td>\n",
       "    </tr>\n",
       "    <tr>\n",
       "      <th>1</th>\n",
       "      <td>4.9</td>\n",
       "      <td>3.0</td>\n",
       "      <td>1.4</td>\n",
       "      <td>0.2</td>\n",
       "      <td>setosa</td>\n",
       "      <td>True</td>\n",
       "    </tr>\n",
       "    <tr>\n",
       "      <th>2</th>\n",
       "      <td>4.7</td>\n",
       "      <td>3.2</td>\n",
       "      <td>1.3</td>\n",
       "      <td>0.2</td>\n",
       "      <td>setosa</td>\n",
       "      <td>True</td>\n",
       "    </tr>\n",
       "    <tr>\n",
       "      <th>3</th>\n",
       "      <td>4.6</td>\n",
       "      <td>3.1</td>\n",
       "      <td>1.5</td>\n",
       "      <td>0.2</td>\n",
       "      <td>setosa</td>\n",
       "      <td>True</td>\n",
       "    </tr>\n",
       "    <tr>\n",
       "      <th>4</th>\n",
       "      <td>5.0</td>\n",
       "      <td>3.6</td>\n",
       "      <td>1.4</td>\n",
       "      <td>0.2</td>\n",
       "      <td>setosa</td>\n",
       "      <td>True</td>\n",
       "    </tr>\n",
       "  </tbody>\n",
       "</table>\n",
       "</div>"
      ],
      "text/plain": [
       "   sepal length (cm)  sepal width (cm)  petal length (cm)  petal width (cm)  \\\n",
       "0                5.1               3.5                1.4               0.2   \n",
       "1                4.9               3.0                1.4               0.2   \n",
       "2                4.7               3.2                1.3               0.2   \n",
       "3                4.6               3.1                1.5               0.2   \n",
       "4                5.0               3.6                1.4               0.2   \n",
       "\n",
       "  species  is_train  \n",
       "0  setosa      True  \n",
       "1  setosa      True  \n",
       "2  setosa      True  \n",
       "3  setosa      True  \n",
       "4  setosa      True  "
      ]
     },
     "execution_count": 5,
     "metadata": {},
     "output_type": "execute_result"
    }
   ],
   "source": [
    "# Create a new column that for each row, generates a random number between 0 and 1, and\n",
    "# if that value is less than or equal to .75, then sets the value of that cell as True\n",
    "# and false otherwise. This is a quick and dirty way of randomly assigning some rows to\n",
    "# be used as the training data and some as the test data.\n",
    "df['is_train'] = np.random.uniform(0, 1, len(df)) <= .75\n",
    "\n",
    "# View the top 5 rows\n",
    "df.head()"
   ]
  },
  {
   "cell_type": "code",
   "execution_count": 6,
   "metadata": {
    "collapsed": true
   },
   "outputs": [],
   "source": [
    "# Create two new dataframes, one with the training rows, one with the test rows\n",
    "train, test = df[df['is_train']==True], df[df['is_train']==False]"
   ]
  },
  {
   "cell_type": "code",
   "execution_count": 7,
   "metadata": {},
   "outputs": [
    {
     "name": "stdout",
     "output_type": "stream",
     "text": [
      "Number of observations in the training data: 118\n",
      "Number of observations in the test data: 32\n"
     ]
    }
   ],
   "source": [
    "# Show the number of observations for the test and training dataframes\n",
    "print('Number of observations in the training data:', len(train))\n",
    "print('Number of observations in the test data:',len(test))"
   ]
  },
  {
   "cell_type": "code",
   "execution_count": 8,
   "metadata": {},
   "outputs": [
    {
     "data": {
      "text/plain": [
       "Index(['sepal length (cm)', 'sepal width (cm)', 'petal length (cm)',\n",
       "       'petal width (cm)'],\n",
       "      dtype='object')"
      ]
     },
     "execution_count": 8,
     "metadata": {},
     "output_type": "execute_result"
    }
   ],
   "source": [
    "# Create a list of the feature column's names\n",
    "features = df.columns[:4]\n",
    "\n",
    "# View features\n",
    "features"
   ]
  },
  {
   "cell_type": "code",
   "execution_count": 9,
   "metadata": {},
   "outputs": [
    {
     "data": {
      "text/plain": [
       "array([0, 0, 0, 0, 0, 0, 0, 0, 0, 0, 0, 0, 0, 0, 0, 0, 0, 0, 0, 0, 0, 0, 0,\n",
       "       0, 0, 0, 0, 0, 0, 0, 0, 0, 0, 0, 0, 0, 0, 1, 1, 1, 1, 1, 1, 1, 1, 1,\n",
       "       1, 1, 1, 1, 1, 1, 1, 1, 1, 1, 1, 1, 1, 1, 1, 1, 1, 1, 1, 1, 1, 1, 1,\n",
       "       1, 1, 1, 1, 1, 1, 1, 1, 1, 1, 1, 2, 2, 2, 2, 2, 2, 2, 2, 2, 2, 2, 2,\n",
       "       2, 2, 2, 2, 2, 2, 2, 2, 2, 2, 2, 2, 2, 2, 2, 2, 2, 2, 2, 2, 2, 2, 2,\n",
       "       2, 2, 2], dtype=int64)"
      ]
     },
     "execution_count": 9,
     "metadata": {},
     "output_type": "execute_result"
    }
   ],
   "source": [
    "# train['species'] contains the actual species names. Before we can use it,\n",
    "# we need to convert each species name into a digit. So, in this case there\n",
    "# are three species, which have been coded as 0, 1, or 2.\n",
    "y = pd.factorize(train['species'])[0]\n",
    "\n",
    "# View target\n",
    "y"
   ]
  },
  {
   "cell_type": "code",
   "execution_count": 10,
   "metadata": {},
   "outputs": [
    {
     "data": {
      "text/plain": [
       "RandomForestClassifier(bootstrap=True, class_weight=None, criterion='gini',\n",
       "            max_depth=None, max_features='auto', max_leaf_nodes=None,\n",
       "            min_impurity_decrease=0.0, min_impurity_split=None,\n",
       "            min_samples_leaf=1, min_samples_split=2,\n",
       "            min_weight_fraction_leaf=0.0, n_estimators=10, n_jobs=2,\n",
       "            oob_score=False, random_state=0, verbose=0, warm_start=False)"
      ]
     },
     "execution_count": 10,
     "metadata": {},
     "output_type": "execute_result"
    }
   ],
   "source": [
    "# Create a random forest Classifier. By convention, clf means 'Classifier'\n",
    "clf = RandomForestClassifier(n_jobs=2, random_state=0)\n",
    "\n",
    "# Train the Classifier to take the training features and learn how they relate\n",
    "# to the training y (the species)\n",
    "clf.fit(train[features], y)"
   ]
  },
  {
   "cell_type": "code",
   "execution_count": 12,
   "metadata": {},
   "outputs": [
    {
     "data": {
      "text/plain": [
       "array([0, 0, 0, 0, 0, 0, 0, 0, 0, 0, 0, 0, 0, 1, 1, 1, 2, 2, 1, 1, 2, 2, 2,\n",
       "       2, 2, 2, 2, 2, 2, 2, 2, 2], dtype=int64)"
      ]
     },
     "execution_count": 12,
     "metadata": {},
     "output_type": "execute_result"
    }
   ],
   "source": [
    "# Apply the Classifier we trained to the test data (which, remember, it has never seen before)\n",
    "clf.predict(test[features])"
   ]
  },
  {
   "cell_type": "code",
   "execution_count": 13,
   "metadata": {},
   "outputs": [
    {
     "data": {
      "text/plain": [
       "array([[ 1. ,  0. ,  0. ],\n",
       "       [ 1. ,  0. ,  0. ],\n",
       "       [ 1. ,  0. ,  0. ],\n",
       "       [ 1. ,  0. ,  0. ],\n",
       "       [ 1. ,  0. ,  0. ],\n",
       "       [ 1. ,  0. ,  0. ],\n",
       "       [ 1. ,  0. ,  0. ],\n",
       "       [ 0.9,  0.1,  0. ],\n",
       "       [ 1. ,  0. ,  0. ],\n",
       "       [ 1. ,  0. ,  0. ]])"
      ]
     },
     "execution_count": 13,
     "metadata": {},
     "output_type": "execute_result"
    }
   ],
   "source": [
    "# View the predicted probabilities of the first 10 observations\n",
    "clf.predict_proba(test[features])[0:10]"
   ]
  },
  {
   "cell_type": "code",
   "execution_count": 18,
   "metadata": {},
   "outputs": [
    {
     "data": {
      "text/plain": [
       "[DecisionTreeClassifier(class_weight=None, criterion='gini', max_depth=None,\n",
       "             max_features='auto', max_leaf_nodes=None,\n",
       "             min_impurity_decrease=0.0, min_impurity_split=None,\n",
       "             min_samples_leaf=1, min_samples_split=2,\n",
       "             min_weight_fraction_leaf=0.0, presort=False,\n",
       "             random_state=209652396, splitter='best'),\n",
       " DecisionTreeClassifier(class_weight=None, criterion='gini', max_depth=None,\n",
       "             max_features='auto', max_leaf_nodes=None,\n",
       "             min_impurity_decrease=0.0, min_impurity_split=None,\n",
       "             min_samples_leaf=1, min_samples_split=2,\n",
       "             min_weight_fraction_leaf=0.0, presort=False,\n",
       "             random_state=398764591, splitter='best')]"
      ]
     },
     "execution_count": 18,
     "metadata": {},
     "output_type": "execute_result"
    }
   ],
   "source": [
    "clf.estimators_[:2] #所有的决策树分类器"
   ]
  },
  {
   "cell_type": "code",
   "execution_count": 27,
   "metadata": {},
   "outputs": [
    {
     "data": {
      "text/plain": [
       "array([0, 1, 2], dtype=int64)"
      ]
     },
     "execution_count": 27,
     "metadata": {},
     "output_type": "execute_result"
    }
   ],
   "source": [
    "clf.n_features_ # 特征数量\n",
    "clf.base_estimator # ???\n",
    "clf.classes_"
   ]
  },
  {
   "cell_type": "code",
   "execution_count": 25,
   "metadata": {
    "collapsed": true
   },
   "outputs": [],
   "source": [
    "estimator = clf.estimators_[0]"
   ]
  },
  {
   "cell_type": "code",
   "execution_count": 26,
   "metadata": {},
   "outputs": [],
   "source": [
    "# tree 中的重要属性\n",
    "n_nodes = estimator.tree_.node_count # 树的节点个数\n",
    "children_left = estimator.tree_.children_left # 所有节点的左子树索引 -1为叶子节点\n",
    "children_right = estimator.tree_.children_right # 所有节点的右子树索引 -1为叶子节点\n",
    "feature = estimator.tree_.feature # 所有节点的特征索引 -2为叶子节点\n",
    "threshold = estimator.tree_.threshold # 所有节点的阈值 -2为叶子节点\n",
    "value = estimator.tree_.value # 所有节点的N个类的个数 \n",
    "impurity = estimator.tree_.impurity # 所有节点的不纯度\n",
    "sample = estimator.tree_.n_node_samples # 所有节点所有的"
   ]
  },
  {
   "cell_type": "code",
   "execution_count": 31,
   "metadata": {},
   "outputs": [
    {
     "data": {
      "image/svg+xml": [
       "<?xml version=\"1.0\" encoding=\"UTF-8\" standalone=\"no\"?>\r\n",
       "<!DOCTYPE svg PUBLIC \"-//W3C//DTD SVG 1.1//EN\"\r\n",
       " \"http://www.w3.org/Graphics/SVG/1.1/DTD/svg11.dtd\">\r\n",
       "<!-- Generated by graphviz version 2.38.0 (20140413.2041)\r\n",
       " -->\r\n",
       "<!-- Title: Tree Pages: 1 -->\r\n",
       "<svg width=\"781pt\" height=\"671pt\"\r\n",
       " viewBox=\"0.00 0.00 781.00 671.00\" xmlns=\"http://www.w3.org/2000/svg\" xmlns:xlink=\"http://www.w3.org/1999/xlink\">\r\n",
       "<g id=\"graph0\" class=\"graph\" transform=\"scale(1 1) rotate(0) translate(4 667)\">\r\n",
       "<title>Tree</title>\r\n",
       "<polygon fill=\"white\" stroke=\"none\" points=\"-4,4 -4,-667 777,-667 777,4 -4,4\"/>\r\n",
       "<!-- 0 -->\r\n",
       "<g id=\"node1\" class=\"node\"><title>0</title>\r\n",
       "<path fill=\"#8139e5\" fill-opacity=\"0.125490\" stroke=\"black\" d=\"M376,-663C376,-663 241,-663 241,-663 235,-663 229,-657 229,-651 229,-651 229,-592 229,-592 229,-586 235,-580 241,-580 241,-580 376,-580 376,-580 382,-580 388,-586 388,-592 388,-592 388,-651 388,-651 388,-657 382,-663 376,-663\"/>\r\n",
       "<text text-anchor=\"start\" x=\"237\" y=\"-647.8\" font-family=\"Helvetica,sans-Serif\" font-size=\"14.00\">petal width (cm) ≤ 1.55</text>\r\n",
       "<text text-anchor=\"start\" x=\"271\" y=\"-632.8\" font-family=\"Helvetica,sans-Serif\" font-size=\"14.00\">gini = 0.654</text>\r\n",
       "<text text-anchor=\"start\" x=\"265\" y=\"-617.8\" font-family=\"Helvetica,sans-Serif\" font-size=\"14.00\">samples = 71</text>\r\n",
       "<text text-anchor=\"start\" x=\"248\" y=\"-602.8\" font-family=\"Helvetica,sans-Serif\" font-size=\"14.00\">value = [30, 39, 49]</text>\r\n",
       "<text text-anchor=\"start\" x=\"258.5\" y=\"-587.8\" font-family=\"Helvetica,sans-Serif\" font-size=\"14.00\">class = virginica</text>\r\n",
       "</g>\r\n",
       "<!-- 1 -->\r\n",
       "<g id=\"node2\" class=\"node\"><title>1</title>\r\n",
       "<path fill=\"#39e581\" fill-opacity=\"0.180392\" stroke=\"black\" d=\"M286,-544C286,-544 153,-544 153,-544 147,-544 141,-538 141,-532 141,-532 141,-473 141,-473 141,-467 147,-461 153,-461 153,-461 286,-461 286,-461 292,-461 298,-467 298,-473 298,-473 298,-532 298,-532 298,-538 292,-544 286,-544\"/>\r\n",
       "<text text-anchor=\"start\" x=\"149\" y=\"-528.8\" font-family=\"Helvetica,sans-Serif\" font-size=\"14.00\">petal length (cm) ≤ 2.6</text>\r\n",
       "<text text-anchor=\"start\" x=\"182\" y=\"-513.8\" font-family=\"Helvetica,sans-Serif\" font-size=\"14.00\">gini = 0.523</text>\r\n",
       "<text text-anchor=\"start\" x=\"176\" y=\"-498.8\" font-family=\"Helvetica,sans-Serif\" font-size=\"14.00\">samples = 46</text>\r\n",
       "<text text-anchor=\"start\" x=\"163\" y=\"-483.8\" font-family=\"Helvetica,sans-Serif\" font-size=\"14.00\">value = [30, 37, 2]</text>\r\n",
       "<text text-anchor=\"start\" x=\"164\" y=\"-468.8\" font-family=\"Helvetica,sans-Serif\" font-size=\"14.00\">class = versicolor</text>\r\n",
       "</g>\r\n",
       "<!-- 0&#45;&gt;1 -->\r\n",
       "<g id=\"edge1\" class=\"edge\"><title>0&#45;&gt;1</title>\r\n",
       "<path fill=\"none\" stroke=\"black\" d=\"M277.622,-579.907C270.788,-570.923 263.479,-561.315 256.431,-552.05\"/>\r\n",
       "<polygon fill=\"black\" stroke=\"black\" points=\"259.164,-549.861 250.324,-544.021 253.592,-554.099 259.164,-549.861\"/>\r\n",
       "<text text-anchor=\"middle\" x=\"246.956\" y=\"-565.093\" font-family=\"Helvetica,sans-Serif\" font-size=\"14.00\">True</text>\r\n",
       "</g>\r\n",
       "<!-- 8 -->\r\n",
       "<g id=\"node9\" class=\"node\"><title>8</title>\r\n",
       "<path fill=\"#8139e5\" fill-opacity=\"0.956863\" stroke=\"black\" d=\"M467,-544C467,-544 328,-544 328,-544 322,-544 316,-538 316,-532 316,-532 316,-473 316,-473 316,-467 322,-461 328,-461 328,-461 467,-461 467,-461 473,-461 479,-467 479,-473 479,-473 479,-532 479,-532 479,-538 473,-544 467,-544\"/>\r\n",
       "<text text-anchor=\"start\" x=\"324\" y=\"-528.8\" font-family=\"Helvetica,sans-Serif\" font-size=\"14.00\">sepal width (cm) ≤ 2.95</text>\r\n",
       "<text text-anchor=\"start\" x=\"360\" y=\"-513.8\" font-family=\"Helvetica,sans-Serif\" font-size=\"14.00\">gini = 0.078</text>\r\n",
       "<text text-anchor=\"start\" x=\"354\" y=\"-498.8\" font-family=\"Helvetica,sans-Serif\" font-size=\"14.00\">samples = 25</text>\r\n",
       "<text text-anchor=\"start\" x=\"345\" y=\"-483.8\" font-family=\"Helvetica,sans-Serif\" font-size=\"14.00\">value = [0, 2, 47]</text>\r\n",
       "<text text-anchor=\"start\" x=\"347.5\" y=\"-468.8\" font-family=\"Helvetica,sans-Serif\" font-size=\"14.00\">class = virginica</text>\r\n",
       "</g>\r\n",
       "<!-- 0&#45;&gt;8 -->\r\n",
       "<g id=\"edge8\" class=\"edge\"><title>0&#45;&gt;8</title>\r\n",
       "<path fill=\"none\" stroke=\"black\" d=\"M339.378,-579.907C346.212,-570.923 353.521,-561.315 360.569,-552.05\"/>\r\n",
       "<polygon fill=\"black\" stroke=\"black\" points=\"363.408,-554.099 366.676,-544.021 357.836,-549.861 363.408,-554.099\"/>\r\n",
       "<text text-anchor=\"middle\" x=\"370.044\" y=\"-565.093\" font-family=\"Helvetica,sans-Serif\" font-size=\"14.00\">False</text>\r\n",
       "</g>\r\n",
       "<!-- 2 -->\r\n",
       "<g id=\"node3\" class=\"node\"><title>2</title>\r\n",
       "<path fill=\"#e58139\" stroke=\"black\" d=\"M109,-417.5C109,-417.5 12,-417.5 12,-417.5 6,-417.5 0,-411.5 0,-405.5 0,-405.5 0,-361.5 0,-361.5 0,-355.5 6,-349.5 12,-349.5 12,-349.5 109,-349.5 109,-349.5 115,-349.5 121,-355.5 121,-361.5 121,-361.5 121,-405.5 121,-405.5 121,-411.5 115,-417.5 109,-417.5\"/>\r\n",
       "<text text-anchor=\"start\" x=\"31.5\" y=\"-402.3\" font-family=\"Helvetica,sans-Serif\" font-size=\"14.00\">gini = 0.0</text>\r\n",
       "<text text-anchor=\"start\" x=\"17\" y=\"-387.3\" font-family=\"Helvetica,sans-Serif\" font-size=\"14.00\">samples = 20</text>\r\n",
       "<text text-anchor=\"start\" x=\"8\" y=\"-372.3\" font-family=\"Helvetica,sans-Serif\" font-size=\"14.00\">value = [30, 0, 0]</text>\r\n",
       "<text text-anchor=\"start\" x=\"14.5\" y=\"-357.3\" font-family=\"Helvetica,sans-Serif\" font-size=\"14.00\">class = setosa</text>\r\n",
       "</g>\r\n",
       "<!-- 1&#45;&gt;2 -->\r\n",
       "<g id=\"edge2\" class=\"edge\"><title>1&#45;&gt;2</title>\r\n",
       "<path fill=\"none\" stroke=\"black\" d=\"M164.336,-460.907C147.991,-448.88 130.126,-435.735 113.895,-423.791\"/>\r\n",
       "<polygon fill=\"black\" stroke=\"black\" points=\"115.702,-420.775 105.573,-417.667 111.553,-426.413 115.702,-420.775\"/>\r\n",
       "</g>\r\n",
       "<!-- 3 -->\r\n",
       "<g id=\"node4\" class=\"node\"><title>3</title>\r\n",
       "<path fill=\"#39e581\" fill-opacity=\"0.945098\" stroke=\"black\" d=\"M296,-425C296,-425 151,-425 151,-425 145,-425 139,-419 139,-413 139,-413 139,-354 139,-354 139,-348 145,-342 151,-342 151,-342 296,-342 296,-342 302,-342 308,-348 308,-354 308,-354 308,-413 308,-413 308,-419 302,-425 296,-425\"/>\r\n",
       "<text text-anchor=\"start\" x=\"147\" y=\"-409.8\" font-family=\"Helvetica,sans-Serif\" font-size=\"14.00\">sepal length (cm) ≤ 6.05</text>\r\n",
       "<text text-anchor=\"start\" x=\"186\" y=\"-394.8\" font-family=\"Helvetica,sans-Serif\" font-size=\"14.00\">gini = 0.097</text>\r\n",
       "<text text-anchor=\"start\" x=\"180\" y=\"-379.8\" font-family=\"Helvetica,sans-Serif\" font-size=\"14.00\">samples = 26</text>\r\n",
       "<text text-anchor=\"start\" x=\"171\" y=\"-364.8\" font-family=\"Helvetica,sans-Serif\" font-size=\"14.00\">value = [0, 37, 2]</text>\r\n",
       "<text text-anchor=\"start\" x=\"168\" y=\"-349.8\" font-family=\"Helvetica,sans-Serif\" font-size=\"14.00\">class = versicolor</text>\r\n",
       "</g>\r\n",
       "<!-- 1&#45;&gt;3 -->\r\n",
       "<g id=\"edge3\" class=\"edge\"><title>1&#45;&gt;3</title>\r\n",
       "<path fill=\"none\" stroke=\"black\" d=\"M220.888,-460.907C221.173,-452.558 221.477,-443.671 221.773,-435.02\"/>\r\n",
       "<polygon fill=\"black\" stroke=\"black\" points=\"225.271,-435.135 222.115,-425.021 218.275,-434.895 225.271,-435.135\"/>\r\n",
       "</g>\r\n",
       "<!-- 4 -->\r\n",
       "<g id=\"node5\" class=\"node\"><title>4</title>\r\n",
       "<path fill=\"#39e581\" stroke=\"black\" d=\"M156,-298.5C156,-298.5 53,-298.5 53,-298.5 47,-298.5 41,-292.5 41,-286.5 41,-286.5 41,-242.5 41,-242.5 41,-236.5 47,-230.5 53,-230.5 53,-230.5 156,-230.5 156,-230.5 162,-230.5 168,-236.5 168,-242.5 168,-242.5 168,-286.5 168,-286.5 168,-292.5 162,-298.5 156,-298.5\"/>\r\n",
       "<text text-anchor=\"start\" x=\"75.5\" y=\"-283.3\" font-family=\"Helvetica,sans-Serif\" font-size=\"14.00\">gini = 0.0</text>\r\n",
       "<text text-anchor=\"start\" x=\"61\" y=\"-268.3\" font-family=\"Helvetica,sans-Serif\" font-size=\"14.00\">samples = 16</text>\r\n",
       "<text text-anchor=\"start\" x=\"52\" y=\"-253.3\" font-family=\"Helvetica,sans-Serif\" font-size=\"14.00\">value = [0, 25, 0]</text>\r\n",
       "<text text-anchor=\"start\" x=\"49\" y=\"-238.3\" font-family=\"Helvetica,sans-Serif\" font-size=\"14.00\">class = versicolor</text>\r\n",
       "</g>\r\n",
       "<!-- 3&#45;&gt;4 -->\r\n",
       "<g id=\"edge4\" class=\"edge\"><title>3&#45;&gt;4</title>\r\n",
       "<path fill=\"none\" stroke=\"black\" d=\"M182.214,-341.907C170.317,-330.211 157.345,-317.457 145.468,-305.78\"/>\r\n",
       "<polygon fill=\"black\" stroke=\"black\" points=\"147.818,-303.182 138.234,-298.667 142.911,-308.174 147.818,-303.182\"/>\r\n",
       "</g>\r\n",
       "<!-- 5 -->\r\n",
       "<g id=\"node6\" class=\"node\"><title>5</title>\r\n",
       "<path fill=\"#39e581\" fill-opacity=\"0.831373\" stroke=\"black\" d=\"M331,-306C331,-306 198,-306 198,-306 192,-306 186,-300 186,-294 186,-294 186,-235 186,-235 186,-229 192,-223 198,-223 198,-223 331,-223 331,-223 337,-223 343,-229 343,-235 343,-235 343,-294 343,-294 343,-300 337,-306 331,-306\"/>\r\n",
       "<text text-anchor=\"start\" x=\"194\" y=\"-290.8\" font-family=\"Helvetica,sans-Serif\" font-size=\"14.00\">petal length (cm) ≤ 4.9</text>\r\n",
       "<text text-anchor=\"start\" x=\"227\" y=\"-275.8\" font-family=\"Helvetica,sans-Serif\" font-size=\"14.00\">gini = 0.245</text>\r\n",
       "<text text-anchor=\"start\" x=\"221\" y=\"-260.8\" font-family=\"Helvetica,sans-Serif\" font-size=\"14.00\">samples = 10</text>\r\n",
       "<text text-anchor=\"start\" x=\"212\" y=\"-245.8\" font-family=\"Helvetica,sans-Serif\" font-size=\"14.00\">value = [0, 12, 2]</text>\r\n",
       "<text text-anchor=\"start\" x=\"209\" y=\"-230.8\" font-family=\"Helvetica,sans-Serif\" font-size=\"14.00\">class = versicolor</text>\r\n",
       "</g>\r\n",
       "<!-- 3&#45;&gt;5 -->\r\n",
       "<g id=\"edge5\" class=\"edge\"><title>3&#45;&gt;5</title>\r\n",
       "<path fill=\"none\" stroke=\"black\" d=\"M237.725,-341.907C240.682,-333.468 243.833,-324.477 246.895,-315.738\"/>\r\n",
       "<polygon fill=\"black\" stroke=\"black\" points=\"250.296,-316.616 250.3,-306.021 243.69,-314.301 250.296,-316.616\"/>\r\n",
       "</g>\r\n",
       "<!-- 6 -->\r\n",
       "<g id=\"node7\" class=\"node\"><title>6</title>\r\n",
       "<path fill=\"#39e581\" stroke=\"black\" d=\"M221,-179.5C221,-179.5 118,-179.5 118,-179.5 112,-179.5 106,-173.5 106,-167.5 106,-167.5 106,-123.5 106,-123.5 106,-117.5 112,-111.5 118,-111.5 118,-111.5 221,-111.5 221,-111.5 227,-111.5 233,-117.5 233,-123.5 233,-123.5 233,-167.5 233,-167.5 233,-173.5 227,-179.5 221,-179.5\"/>\r\n",
       "<text text-anchor=\"start\" x=\"140.5\" y=\"-164.3\" font-family=\"Helvetica,sans-Serif\" font-size=\"14.00\">gini = 0.0</text>\r\n",
       "<text text-anchor=\"start\" x=\"130\" y=\"-149.3\" font-family=\"Helvetica,sans-Serif\" font-size=\"14.00\">samples = 8</text>\r\n",
       "<text text-anchor=\"start\" x=\"117\" y=\"-134.3\" font-family=\"Helvetica,sans-Serif\" font-size=\"14.00\">value = [0, 12, 0]</text>\r\n",
       "<text text-anchor=\"start\" x=\"114\" y=\"-119.3\" font-family=\"Helvetica,sans-Serif\" font-size=\"14.00\">class = versicolor</text>\r\n",
       "</g>\r\n",
       "<!-- 5&#45;&gt;6 -->\r\n",
       "<g id=\"edge6\" class=\"edge\"><title>5&#45;&gt;6</title>\r\n",
       "<path fill=\"none\" stroke=\"black\" d=\"M231.54,-222.907C222.222,-211.432 212.078,-198.938 202.743,-187.442\"/>\r\n",
       "<polygon fill=\"black\" stroke=\"black\" points=\"205.451,-185.224 196.43,-179.667 200.017,-189.636 205.451,-185.224\"/>\r\n",
       "</g>\r\n",
       "<!-- 7 -->\r\n",
       "<g id=\"node8\" class=\"node\"><title>7</title>\r\n",
       "<path fill=\"#8139e5\" stroke=\"black\" d=\"M355.5,-179.5C355.5,-179.5 263.5,-179.5 263.5,-179.5 257.5,-179.5 251.5,-173.5 251.5,-167.5 251.5,-167.5 251.5,-123.5 251.5,-123.5 251.5,-117.5 257.5,-111.5 263.5,-111.5 263.5,-111.5 355.5,-111.5 355.5,-111.5 361.5,-111.5 367.5,-117.5 367.5,-123.5 367.5,-123.5 367.5,-167.5 367.5,-167.5 367.5,-173.5 361.5,-179.5 355.5,-179.5\"/>\r\n",
       "<text text-anchor=\"start\" x=\"280.5\" y=\"-164.3\" font-family=\"Helvetica,sans-Serif\" font-size=\"14.00\">gini = 0.0</text>\r\n",
       "<text text-anchor=\"start\" x=\"270\" y=\"-149.3\" font-family=\"Helvetica,sans-Serif\" font-size=\"14.00\">samples = 2</text>\r\n",
       "<text text-anchor=\"start\" x=\"261\" y=\"-134.3\" font-family=\"Helvetica,sans-Serif\" font-size=\"14.00\">value = [0, 0, 2]</text>\r\n",
       "<text text-anchor=\"start\" x=\"259.5\" y=\"-119.3\" font-family=\"Helvetica,sans-Serif\" font-size=\"14.00\">class = virginica</text>\r\n",
       "</g>\r\n",
       "<!-- 5&#45;&gt;7 -->\r\n",
       "<g id=\"edge7\" class=\"edge\"><title>5&#45;&gt;7</title>\r\n",
       "<path fill=\"none\" stroke=\"black\" d=\"M280.113,-222.907C284.314,-211.983 288.87,-200.137 293.113,-189.107\"/>\r\n",
       "<polygon fill=\"black\" stroke=\"black\" points=\"296.42,-190.257 296.743,-179.667 289.887,-187.744 296.42,-190.257\"/>\r\n",
       "</g>\r\n",
       "<!-- 9 -->\r\n",
       "<g id=\"node10\" class=\"node\"><title>9</title>\r\n",
       "<path fill=\"#8139e5\" stroke=\"black\" d=\"M442,-417.5C442,-417.5 345,-417.5 345,-417.5 339,-417.5 333,-411.5 333,-405.5 333,-405.5 333,-361.5 333,-361.5 333,-355.5 339,-349.5 345,-349.5 345,-349.5 442,-349.5 442,-349.5 448,-349.5 454,-355.5 454,-361.5 454,-361.5 454,-405.5 454,-405.5 454,-411.5 448,-417.5 442,-417.5\"/>\r\n",
       "<text text-anchor=\"start\" x=\"364.5\" y=\"-402.3\" font-family=\"Helvetica,sans-Serif\" font-size=\"14.00\">gini = 0.0</text>\r\n",
       "<text text-anchor=\"start\" x=\"350\" y=\"-387.3\" font-family=\"Helvetica,sans-Serif\" font-size=\"14.00\">samples = 12</text>\r\n",
       "<text text-anchor=\"start\" x=\"341\" y=\"-372.3\" font-family=\"Helvetica,sans-Serif\" font-size=\"14.00\">value = [0, 0, 20]</text>\r\n",
       "<text text-anchor=\"start\" x=\"343.5\" y=\"-357.3\" font-family=\"Helvetica,sans-Serif\" font-size=\"14.00\">class = virginica</text>\r\n",
       "</g>\r\n",
       "<!-- 8&#45;&gt;9 -->\r\n",
       "<g id=\"edge9\" class=\"edge\"><title>8&#45;&gt;9</title>\r\n",
       "<path fill=\"none\" stroke=\"black\" d=\"M396.112,-460.907C395.746,-450.204 395.35,-438.615 394.98,-427.776\"/>\r\n",
       "<polygon fill=\"black\" stroke=\"black\" points=\"398.474,-427.541 394.634,-417.667 391.478,-427.781 398.474,-427.541\"/>\r\n",
       "</g>\r\n",
       "<!-- 10 -->\r\n",
       "<g id=\"node11\" class=\"node\"><title>10</title>\r\n",
       "<path fill=\"#8139e5\" fill-opacity=\"0.925490\" stroke=\"black\" d=\"M625,-425C625,-425 484,-425 484,-425 478,-425 472,-419 472,-413 472,-413 472,-354 472,-354 472,-348 478,-342 484,-342 484,-342 625,-342 625,-342 631,-342 637,-348 637,-354 637,-354 637,-413 637,-413 637,-419 631,-425 625,-425\"/>\r\n",
       "<text text-anchor=\"start\" x=\"480\" y=\"-409.8\" font-family=\"Helvetica,sans-Serif\" font-size=\"14.00\">petal length (cm) ≤ 4.65</text>\r\n",
       "<text text-anchor=\"start\" x=\"517\" y=\"-394.8\" font-family=\"Helvetica,sans-Serif\" font-size=\"14.00\">gini = 0.128</text>\r\n",
       "<text text-anchor=\"start\" x=\"511\" y=\"-379.8\" font-family=\"Helvetica,sans-Serif\" font-size=\"14.00\">samples = 13</text>\r\n",
       "<text text-anchor=\"start\" x=\"502\" y=\"-364.8\" font-family=\"Helvetica,sans-Serif\" font-size=\"14.00\">value = [0, 2, 27]</text>\r\n",
       "<text text-anchor=\"start\" x=\"504.5\" y=\"-349.8\" font-family=\"Helvetica,sans-Serif\" font-size=\"14.00\">class = virginica</text>\r\n",
       "</g>\r\n",
       "<!-- 8&#45;&gt;10 -->\r\n",
       "<g id=\"edge10\" class=\"edge\"><title>8&#45;&gt;10</title>\r\n",
       "<path fill=\"none\" stroke=\"black\" d=\"M451.97,-460.907C464.879,-451.288 478.746,-440.953 491.981,-431.09\"/>\r\n",
       "<polygon fill=\"black\" stroke=\"black\" points=\"494.199,-433.803 500.126,-425.021 490.016,-428.19 494.199,-433.803\"/>\r\n",
       "</g>\r\n",
       "<!-- 11 -->\r\n",
       "<g id=\"node12\" class=\"node\"><title>11</title>\r\n",
       "<path fill=\"#39e581\" stroke=\"black\" d=\"M525,-298.5C525,-298.5 422,-298.5 422,-298.5 416,-298.5 410,-292.5 410,-286.5 410,-286.5 410,-242.5 410,-242.5 410,-236.5 416,-230.5 422,-230.5 422,-230.5 525,-230.5 525,-230.5 531,-230.5 537,-236.5 537,-242.5 537,-242.5 537,-286.5 537,-286.5 537,-292.5 531,-298.5 525,-298.5\"/>\r\n",
       "<text text-anchor=\"start\" x=\"444.5\" y=\"-283.3\" font-family=\"Helvetica,sans-Serif\" font-size=\"14.00\">gini = 0.0</text>\r\n",
       "<text text-anchor=\"start\" x=\"434\" y=\"-268.3\" font-family=\"Helvetica,sans-Serif\" font-size=\"14.00\">samples = 1</text>\r\n",
       "<text text-anchor=\"start\" x=\"425\" y=\"-253.3\" font-family=\"Helvetica,sans-Serif\" font-size=\"14.00\">value = [0, 1, 0]</text>\r\n",
       "<text text-anchor=\"start\" x=\"418\" y=\"-238.3\" font-family=\"Helvetica,sans-Serif\" font-size=\"14.00\">class = versicolor</text>\r\n",
       "</g>\r\n",
       "<!-- 10&#45;&gt;11 -->\r\n",
       "<g id=\"edge11\" class=\"edge\"><title>10&#45;&gt;11</title>\r\n",
       "<path fill=\"none\" stroke=\"black\" d=\"M526.397,-341.907C518.605,-330.652 510.136,-318.418 502.304,-307.106\"/>\r\n",
       "<polygon fill=\"black\" stroke=\"black\" points=\"505.032,-304.897 496.462,-298.667 499.276,-308.881 505.032,-304.897\"/>\r\n",
       "</g>\r\n",
       "<!-- 12 -->\r\n",
       "<g id=\"node13\" class=\"node\"><title>12</title>\r\n",
       "<path fill=\"#8139e5\" fill-opacity=\"0.964706\" stroke=\"black\" d=\"M702,-306C702,-306 567,-306 567,-306 561,-306 555,-300 555,-294 555,-294 555,-235 555,-235 555,-229 561,-223 567,-223 567,-223 702,-223 702,-223 708,-223 714,-229 714,-235 714,-235 714,-294 714,-294 714,-300 708,-306 702,-306\"/>\r\n",
       "<text text-anchor=\"start\" x=\"563\" y=\"-290.8\" font-family=\"Helvetica,sans-Serif\" font-size=\"14.00\">petal width (cm) ≤ 1.75</text>\r\n",
       "<text text-anchor=\"start\" x=\"597\" y=\"-275.8\" font-family=\"Helvetica,sans-Serif\" font-size=\"14.00\">gini = 0.069</text>\r\n",
       "<text text-anchor=\"start\" x=\"591\" y=\"-260.8\" font-family=\"Helvetica,sans-Serif\" font-size=\"14.00\">samples = 12</text>\r\n",
       "<text text-anchor=\"start\" x=\"582\" y=\"-245.8\" font-family=\"Helvetica,sans-Serif\" font-size=\"14.00\">value = [0, 1, 27]</text>\r\n",
       "<text text-anchor=\"start\" x=\"584.5\" y=\"-230.8\" font-family=\"Helvetica,sans-Serif\" font-size=\"14.00\">class = virginica</text>\r\n",
       "</g>\r\n",
       "<!-- 10&#45;&gt;12 -->\r\n",
       "<g id=\"edge12\" class=\"edge\"><title>10&#45;&gt;12</title>\r\n",
       "<path fill=\"none\" stroke=\"black\" d=\"M582.256,-341.907C588.337,-333.014 594.836,-323.509 601.111,-314.331\"/>\r\n",
       "<polygon fill=\"black\" stroke=\"black\" points=\"604.038,-316.251 606.793,-306.021 598.26,-312.3 604.038,-316.251\"/>\r\n",
       "</g>\r\n",
       "<!-- 13 -->\r\n",
       "<g id=\"node14\" class=\"node\"><title>13</title>\r\n",
       "<path fill=\"#8139e5\" fill-opacity=\"0.666667\" stroke=\"black\" d=\"M622,-187C622,-187 489,-187 489,-187 483,-187 477,-181 477,-175 477,-175 477,-116 477,-116 477,-110 483,-104 489,-104 489,-104 622,-104 622,-104 628,-104 634,-110 634,-116 634,-116 634,-175 634,-175 634,-181 628,-187 622,-187\"/>\r\n",
       "<text text-anchor=\"start\" x=\"485\" y=\"-171.8\" font-family=\"Helvetica,sans-Serif\" font-size=\"14.00\">petal length (cm) ≤ 5.4</text>\r\n",
       "<text text-anchor=\"start\" x=\"518\" y=\"-156.8\" font-family=\"Helvetica,sans-Serif\" font-size=\"14.00\">gini = 0.375</text>\r\n",
       "<text text-anchor=\"start\" x=\"516\" y=\"-141.8\" font-family=\"Helvetica,sans-Serif\" font-size=\"14.00\">samples = 2</text>\r\n",
       "<text text-anchor=\"start\" x=\"507\" y=\"-126.8\" font-family=\"Helvetica,sans-Serif\" font-size=\"14.00\">value = [0, 1, 3]</text>\r\n",
       "<text text-anchor=\"start\" x=\"505.5\" y=\"-111.8\" font-family=\"Helvetica,sans-Serif\" font-size=\"14.00\">class = virginica</text>\r\n",
       "</g>\r\n",
       "<!-- 12&#45;&gt;13 -->\r\n",
       "<g id=\"edge13\" class=\"edge\"><title>12&#45;&gt;13</title>\r\n",
       "<path fill=\"none\" stroke=\"black\" d=\"M607.091,-222.907C601.086,-214.014 594.669,-204.509 588.471,-195.331\"/>\r\n",
       "<polygon fill=\"black\" stroke=\"black\" points=\"591.357,-193.35 582.86,-187.021 585.556,-197.267 591.357,-193.35\"/>\r\n",
       "</g>\r\n",
       "<!-- 16 -->\r\n",
       "<g id=\"node17\" class=\"node\"><title>16</title>\r\n",
       "<path fill=\"#8139e5\" stroke=\"black\" d=\"M761,-179.5C761,-179.5 664,-179.5 664,-179.5 658,-179.5 652,-173.5 652,-167.5 652,-167.5 652,-123.5 652,-123.5 652,-117.5 658,-111.5 664,-111.5 664,-111.5 761,-111.5 761,-111.5 767,-111.5 773,-117.5 773,-123.5 773,-123.5 773,-167.5 773,-167.5 773,-173.5 767,-179.5 761,-179.5\"/>\r\n",
       "<text text-anchor=\"start\" x=\"683.5\" y=\"-164.3\" font-family=\"Helvetica,sans-Serif\" font-size=\"14.00\">gini = 0.0</text>\r\n",
       "<text text-anchor=\"start\" x=\"669\" y=\"-149.3\" font-family=\"Helvetica,sans-Serif\" font-size=\"14.00\">samples = 10</text>\r\n",
       "<text text-anchor=\"start\" x=\"660\" y=\"-134.3\" font-family=\"Helvetica,sans-Serif\" font-size=\"14.00\">value = [0, 0, 24]</text>\r\n",
       "<text text-anchor=\"start\" x=\"662.5\" y=\"-119.3\" font-family=\"Helvetica,sans-Serif\" font-size=\"14.00\">class = virginica</text>\r\n",
       "</g>\r\n",
       "<!-- 12&#45;&gt;16 -->\r\n",
       "<g id=\"edge16\" class=\"edge\"><title>12&#45;&gt;16</title>\r\n",
       "<path fill=\"none\" stroke=\"black\" d=\"M661.562,-222.907C669.065,-211.652 677.221,-199.418 684.763,-188.106\"/>\r\n",
       "<polygon fill=\"black\" stroke=\"black\" points=\"687.754,-189.929 690.389,-179.667 681.929,-186.046 687.754,-189.929\"/>\r\n",
       "</g>\r\n",
       "<!-- 14 -->\r\n",
       "<g id=\"node15\" class=\"node\"><title>14</title>\r\n",
       "<path fill=\"#39e581\" stroke=\"black\" d=\"M537,-68C537,-68 434,-68 434,-68 428,-68 422,-62 422,-56 422,-56 422,-12 422,-12 422,-6 428,-0 434,-0 434,-0 537,-0 537,-0 543,-0 549,-6 549,-12 549,-12 549,-56 549,-56 549,-62 543,-68 537,-68\"/>\r\n",
       "<text text-anchor=\"start\" x=\"456.5\" y=\"-52.8\" font-family=\"Helvetica,sans-Serif\" font-size=\"14.00\">gini = 0.0</text>\r\n",
       "<text text-anchor=\"start\" x=\"446\" y=\"-37.8\" font-family=\"Helvetica,sans-Serif\" font-size=\"14.00\">samples = 1</text>\r\n",
       "<text text-anchor=\"start\" x=\"437\" y=\"-22.8\" font-family=\"Helvetica,sans-Serif\" font-size=\"14.00\">value = [0, 1, 0]</text>\r\n",
       "<text text-anchor=\"start\" x=\"430\" y=\"-7.8\" font-family=\"Helvetica,sans-Serif\" font-size=\"14.00\">class = versicolor</text>\r\n",
       "</g>\r\n",
       "<!-- 13&#45;&gt;14 -->\r\n",
       "<g id=\"edge14\" class=\"edge\"><title>13&#45;&gt;14</title>\r\n",
       "<path fill=\"none\" stroke=\"black\" d=\"M529.435,-103.726C523.837,-94.9703 517.913,-85.7032 512.289,-76.9051\"/>\r\n",
       "<polygon fill=\"black\" stroke=\"black\" points=\"515.123,-74.8399 506.787,-68.2996 509.225,-78.6103 515.123,-74.8399\"/>\r\n",
       "</g>\r\n",
       "<!-- 15 -->\r\n",
       "<g id=\"node16\" class=\"node\"><title>15</title>\r\n",
       "<path fill=\"#8139e5\" stroke=\"black\" d=\"M671.5,-68C671.5,-68 579.5,-68 579.5,-68 573.5,-68 567.5,-62 567.5,-56 567.5,-56 567.5,-12 567.5,-12 567.5,-6 573.5,-0 579.5,-0 579.5,-0 671.5,-0 671.5,-0 677.5,-0 683.5,-6 683.5,-12 683.5,-12 683.5,-56 683.5,-56 683.5,-62 677.5,-68 671.5,-68\"/>\r\n",
       "<text text-anchor=\"start\" x=\"596.5\" y=\"-52.8\" font-family=\"Helvetica,sans-Serif\" font-size=\"14.00\">gini = 0.0</text>\r\n",
       "<text text-anchor=\"start\" x=\"586\" y=\"-37.8\" font-family=\"Helvetica,sans-Serif\" font-size=\"14.00\">samples = 1</text>\r\n",
       "<text text-anchor=\"start\" x=\"577\" y=\"-22.8\" font-family=\"Helvetica,sans-Serif\" font-size=\"14.00\">value = [0, 0, 3]</text>\r\n",
       "<text text-anchor=\"start\" x=\"575.5\" y=\"-7.8\" font-family=\"Helvetica,sans-Serif\" font-size=\"14.00\">class = virginica</text>\r\n",
       "</g>\r\n",
       "<!-- 13&#45;&gt;15 -->\r\n",
       "<g id=\"edge15\" class=\"edge\"><title>13&#45;&gt;15</title>\r\n",
       "<path fill=\"none\" stroke=\"black\" d=\"M581.565,-103.726C587.163,-94.9703 593.087,-85.7032 598.711,-76.9051\"/>\r\n",
       "<polygon fill=\"black\" stroke=\"black\" points=\"601.775,-78.6103 604.213,-68.2996 595.877,-74.8399 601.775,-78.6103\"/>\r\n",
       "</g>\r\n",
       "</g>\r\n",
       "</svg>\r\n"
      ],
      "text/plain": [
       "<graphviz.files.Source at 0x2599927bef0>"
      ]
     },
     "execution_count": 31,
     "metadata": {},
     "output_type": "execute_result"
    }
   ],
   "source": [
    "dot_data = tree.export_graphviz(estimator, out_file=None, \n",
    "                         feature_names=iris.feature_names,  \n",
    "                         class_names=iris.target_names,  \n",
    "                         filled=True, rounded=True,  \n",
    "                         special_characters=True)  \n",
    "graph = graphviz.Source(dot_data)  \n",
    "graph "
   ]
  },
  {
   "cell_type": "code",
   "execution_count": 42,
   "metadata": {},
   "outputs": [
    {
     "data": {
      "text/plain": [
       "array([0, 3, 6], dtype=int32)"
      ]
     },
     "execution_count": 42,
     "metadata": {},
     "output_type": "execute_result"
    }
   ],
   "source": [
    "sample_list = test[features].iloc[:2, :]\n",
    "estimator = clf.estimators_[0]\n",
    "node_indicator = estimator.decision_path(sample_list) # 返回实例所经历的路径的类 node_indicator\n",
    "leave_id = estimator.apply(sample_list) # 返回实例所对应的节点ID\n",
    "node_indicator.indices # node_indicator的节点ID路径列表\n",
    "node_indicator.toarray() # node_indicator的节点noe hot\n",
    "node_indicator.indptr # node_indicator的节点在数组中的索引"
   ]
  },
  {
   "cell_type": "code",
   "execution_count": 90,
   "metadata": {},
   "outputs": [
    {
     "data": {
      "text/plain": [
       "17"
      ]
     },
     "execution_count": 90,
     "metadata": {},
     "output_type": "execute_result"
    }
   ],
   "source": [
    "feature = estimator.tree_.feature # 所有节点的特征索引 -2为叶子节点\n",
    "threshold = estimator.tree_.threshold # 所有节点的阈值 -2为叶子节点\n",
    "value = estimator.tree_.value # 所有节点的N个类的个数 \n",
    "impurity = estimator.tree_.impurity # 所有节点的不纯度\n",
    "sample = estimator.tree_.n_node_samples # 所有节点所有的"
   ]
  },
  {
   "cell_type": "code",
   "execution_count": 47,
   "metadata": {},
   "outputs": [
    {
     "data": {
      "text/plain": [
       "array([0, 1, 2], dtype=int32)"
      ]
     },
     "execution_count": 47,
     "metadata": {},
     "output_type": "execute_result"
    }
   ],
   "source": [
    "sample_id = 0\n",
    "node_index = node_indicator.indices[node_indicator.indptr[sample_id]:\n",
    "                                    node_indicator.indptr[sample_id + 1]]\n",
    "node_index"
   ]
  },
  {
   "cell_type": "code",
   "execution_count": 61,
   "metadata": {},
   "outputs": [
    {
     "name": "stdout",
     "output_type": "stream",
     "text": [
      "Rules used to predict sample 0: \n",
      "node 0: (X_test[0, 3](= 0.2) <= 1.55) sample=71, value=[[ 30.  39.  49.]], gini=0.65\n",
      "node 1: (X_test[0, 2](= 1.5) <= 2.60) sample=46, value=[[ 30.  37.   2.]], gini=0.52\n",
      "node 2: leaf node, sample=20, value=[[ 30.   0.   0.]], gini=0.00\n"
     ]
    }
   ],
   "source": [
    "print('Rules used to predict sample %s: ' % sample_id)\n",
    "for node_id in node_index:\n",
    "    if (test[features].iloc[sample_id, feature[node_id]] <= threshold[node_id]):\n",
    "        threshold_sign = \"<=\"\n",
    "    else:\n",
    "        threshold_sign = \">\"\n",
    "        \n",
    "    if threshold[node_id] == -2:\n",
    "        print(\"node %s: leaf node, sample=%s, value=%s, gini=%.2f\" \n",
    "              %(node_id, sample[node_id],\n",
    "             value[node_id],\n",
    "             impurity[node_id]))\n",
    "        continue\n",
    "\n",
    "    print(\"node %s: (X_test[%s, %s](= %s) %s %.2f) sample=%s, value=%s, gini=%.2f\"\n",
    "          % (node_id,\n",
    "             sample_id,\n",
    "             feature[node_id],\n",
    "             test[features].iloc[sample_id, feature[node_id]],\n",
    "             threshold_sign,\n",
    "             threshold[node_id],\n",
    "             sample[node_id],\n",
    "             value[node_id],\n",
    "             impurity[node_id]))"
   ]
  },
  {
   "cell_type": "code",
   "execution_count": 125,
   "metadata": {
    "collapsed": true
   },
   "outputs": [],
   "source": [
    "def print_decision_path_ofsample(estimator, item):\n",
    "    sample_list = [item]\n",
    "    node_indicator = estimator.decision_path(sample_list) # 返回实例所经历的路径的类 node_indicator\n",
    "    leave_id = estimator.apply(sample_list) # 返回实例所对应的节点ID\n",
    "    node_index = node_indicator.indices[:]\n",
    "    \n",
    "    feature = estimator.tree_.feature # 所有节点的特征索引 -2为叶子节点\n",
    "    threshold = estimator.tree_.threshold # 所有节点的阈值 -2为叶子节点\n",
    "    value = estimator.tree_.value # 所有节点的N个类的个数 \n",
    "    impurity = estimator.tree_.impurity # 所有节点的不纯度\n",
    "    sample = estimator.tree_.n_node_samples # 所有节点所有的\n",
    "    \n",
    "    for node_id in node_index:\n",
    "        if (item[feature[node_id]] <= threshold[node_id]):\n",
    "            threshold_sign = \"<=\"\n",
    "        else:\n",
    "            threshold_sign = \">\"\n",
    "\n",
    "        if threshold[node_id] == -2:\n",
    "            print(\"node %s: leaf node, sample=%s, value=%s, gini=%.2f, label=%s\" \n",
    "                  %(node_id, sample[node_id],\n",
    "                 value[node_id],\n",
    "                 impurity[node_id],\n",
    "                 np.argmax(value[node_id], axis=1)))\n",
    "            continue\n",
    "\n",
    "        print(\"node %s: (X_test[%s, %s](= %s) %s %.2f) sample=%s, value=%s, gini=%.2f, label=%s\"\n",
    "              % (node_id,\n",
    "                 sample_id,\n",
    "                 feature[node_id],\n",
    "                 item[feature[node_id]],\n",
    "                 threshold_sign,\n",
    "                 threshold[node_id],\n",
    "                 sample[node_id],\n",
    "                 value[node_id],\n",
    "                 impurity[node_id],\n",
    "                 np.argmax(value[node_id], axis=1)))"
   ]
  },
  {
   "cell_type": "code",
   "execution_count": 126,
   "metadata": {
    "collapsed": true
   },
   "outputs": [],
   "source": [
    "def print_decision_path_ofsamplelist(estimator, itemlist):\n",
    "    for id, item in enumerate(itemlist):\n",
    "        print('Rules used to predict sample %s: ' % id)\n",
    "        print_decision_path_ofsample(estimator, item)"
   ]
  },
  {
   "cell_type": "code",
   "execution_count": 103,
   "metadata": {},
   "outputs": [
    {
     "name": "stdout",
     "output_type": "stream",
     "text": [
      "Rules used to predict sample 0: \n",
      "node 0: (X_test[0, 3](= 0.2) <= 1.55) sample=71, value=[[ 30.  39.  49.]], gini=0.65, label=[2]\n",
      "node 1: (X_test[0, 2](= 1.5) <= 2.60) sample=46, value=[[ 30.  37.   2.]], gini=0.52, label=[1]\n",
      "node 2: leaf node, sample=20, value=[[ 30.   0.   0.]], gini=0.00, label=[0]\n"
     ]
    }
   ],
   "source": [
    "print_decision_path_ofsample(clf.estimators_[0], test[features].iloc[10, :])"
   ]
  },
  {
   "cell_type": "code",
   "execution_count": 106,
   "metadata": {},
   "outputs": [
    {
     "data": {
      "text/plain": [
       "array([[ 1.,  0.,  0.]])"
      ]
     },
     "execution_count": 106,
     "metadata": {},
     "output_type": "execute_result"
    }
   ],
   "source": [
    "clf.estimators_[0].predict_proba(test[features].iloc[10:11, :])"
   ]
  },
  {
   "cell_type": "code",
   "execution_count": 115,
   "metadata": {},
   "outputs": [
    {
     "name": "stdout",
     "output_type": "stream",
     "text": [
      "node 2: (feature[-2] <= -2.00) sample=20, value=[[ 30.   0.   0.]], gini=0.00, label=[0]\n"
     ]
    }
   ],
   "source": [
    "print_node_info(clf.estimators_[0], 2)"
   ]
  },
  {
   "cell_type": "code",
   "execution_count": 128,
   "metadata": {
    "scrolled": true
   },
   "outputs": [
    {
     "name": "stdout",
     "output_type": "stream",
     "text": [
      "Rules used to predict sample 0: \n",
      "node 0: (X_test[0, 3](= 0.2) <= 1.55) sample=71, value=[[ 30.  39.  49.]], gini=0.65, label=[2]\n",
      "node 1: (X_test[0, 2](= 1.4) <= 2.60) sample=46, value=[[ 30.  37.   2.]], gini=0.52, label=[1]\n",
      "node 2: leaf node, sample=20, value=[[ 30.   0.   0.]], gini=0.00, label=[0]\n",
      "Rules used to predict sample 1: \n",
      "node 0: (X_test[0, 3](= 0.2) <= 1.55) sample=71, value=[[ 30.  39.  49.]], gini=0.65, label=[2]\n",
      "node 1: (X_test[0, 2](= 1.4) <= 2.60) sample=46, value=[[ 30.  37.   2.]], gini=0.52, label=[1]\n",
      "node 2: leaf node, sample=20, value=[[ 30.   0.   0.]], gini=0.00, label=[0]\n",
      "Rules used to predict sample 2: \n",
      "node 0: (X_test[0, 3](= 0.2) <= 1.55) sample=71, value=[[ 30.  39.  49.]], gini=0.65, label=[2]\n",
      "node 1: (X_test[0, 2](= 1.3) <= 2.60) sample=46, value=[[ 30.  37.   2.]], gini=0.52, label=[1]\n",
      "node 2: leaf node, sample=20, value=[[ 30.   0.   0.]], gini=0.00, label=[0]\n",
      "Rules used to predict sample 3: \n",
      "node 0: (X_test[0, 3](= 0.2) <= 1.55) sample=71, value=[[ 30.  39.  49.]], gini=0.65, label=[2]\n",
      "node 1: (X_test[0, 2](= 1.5) <= 2.60) sample=46, value=[[ 30.  37.   2.]], gini=0.52, label=[1]\n",
      "node 2: leaf node, sample=20, value=[[ 30.   0.   0.]], gini=0.00, label=[0]\n",
      "Rules used to predict sample 4: \n",
      "node 0: (X_test[0, 3](= 0.2) <= 1.55) sample=71, value=[[ 30.  39.  49.]], gini=0.65, label=[2]\n",
      "node 1: (X_test[0, 2](= 1.4) <= 2.60) sample=46, value=[[ 30.  37.   2.]], gini=0.52, label=[1]\n",
      "node 2: leaf node, sample=20, value=[[ 30.   0.   0.]], gini=0.00, label=[0]\n",
      "Rules used to predict sample 5: \n",
      "node 0: (X_test[0, 3](= 0.4) <= 1.55) sample=71, value=[[ 30.  39.  49.]], gini=0.65, label=[2]\n",
      "node 1: (X_test[0, 2](= 1.7) <= 2.60) sample=46, value=[[ 30.  37.   2.]], gini=0.52, label=[1]\n",
      "node 2: leaf node, sample=20, value=[[ 30.   0.   0.]], gini=0.00, label=[0]\n",
      "Rules used to predict sample 6: \n",
      "node 0: (X_test[0, 3](= 0.3) <= 1.55) sample=71, value=[[ 30.  39.  49.]], gini=0.65, label=[2]\n",
      "node 1: (X_test[0, 2](= 1.4) <= 2.60) sample=46, value=[[ 30.  37.   2.]], gini=0.52, label=[1]\n",
      "node 2: leaf node, sample=20, value=[[ 30.   0.   0.]], gini=0.00, label=[0]\n",
      "Rules used to predict sample 7: \n",
      "node 0: (X_test[0, 3](= 0.1) <= 1.55) sample=71, value=[[ 30.  39.  49.]], gini=0.65, label=[2]\n",
      "node 1: (X_test[0, 2](= 1.5) <= 2.60) sample=46, value=[[ 30.  37.   2.]], gini=0.52, label=[1]\n",
      "node 2: leaf node, sample=20, value=[[ 30.   0.   0.]], gini=0.00, label=[0]\n",
      "Rules used to predict sample 8: \n",
      "node 0: (X_test[0, 3](= 0.2) <= 1.55) sample=71, value=[[ 30.  39.  49.]], gini=0.65, label=[2]\n",
      "node 1: (X_test[0, 2](= 1.6) <= 2.60) sample=46, value=[[ 30.  37.   2.]], gini=0.52, label=[1]\n",
      "node 2: leaf node, sample=20, value=[[ 30.   0.   0.]], gini=0.00, label=[0]\n",
      "Rules used to predict sample 9: \n",
      "node 0: (X_test[0, 3](= 0.1) <= 1.55) sample=71, value=[[ 30.  39.  49.]], gini=0.65, label=[2]\n",
      "node 1: (X_test[0, 2](= 1.4) <= 2.60) sample=46, value=[[ 30.  37.   2.]], gini=0.52, label=[1]\n",
      "node 2: leaf node, sample=20, value=[[ 30.   0.   0.]], gini=0.00, label=[0]\n",
      "Rules used to predict sample 10: \n",
      "node 0: (X_test[0, 3](= 0.2) <= 1.55) sample=71, value=[[ 30.  39.  49.]], gini=0.65, label=[2]\n",
      "node 1: (X_test[0, 2](= 1.2) <= 2.60) sample=46, value=[[ 30.  37.   2.]], gini=0.52, label=[1]\n",
      "node 2: leaf node, sample=20, value=[[ 30.   0.   0.]], gini=0.00, label=[0]\n",
      "Rules used to predict sample 11: \n",
      "node 0: (X_test[0, 3](= 0.4) <= 1.55) sample=71, value=[[ 30.  39.  49.]], gini=0.65, label=[2]\n",
      "node 1: (X_test[0, 2](= 1.5) <= 2.60) sample=46, value=[[ 30.  37.   2.]], gini=0.52, label=[1]\n",
      "node 2: leaf node, sample=20, value=[[ 30.   0.   0.]], gini=0.00, label=[0]\n",
      "Rules used to predict sample 12: \n",
      "node 0: (X_test[0, 3](= 0.4) <= 1.55) sample=71, value=[[ 30.  39.  49.]], gini=0.65, label=[2]\n",
      "node 1: (X_test[0, 2](= 1.3) <= 2.60) sample=46, value=[[ 30.  37.   2.]], gini=0.52, label=[1]\n",
      "node 2: leaf node, sample=20, value=[[ 30.   0.   0.]], gini=0.00, label=[0]\n",
      "Rules used to predict sample 13: \n",
      "node 0: (X_test[0, 3](= 0.2) <= 1.55) sample=71, value=[[ 30.  39.  49.]], gini=0.65, label=[2]\n",
      "node 1: (X_test[0, 2](= 1.0) <= 2.60) sample=46, value=[[ 30.  37.   2.]], gini=0.52, label=[1]\n",
      "node 2: leaf node, sample=20, value=[[ 30.   0.   0.]], gini=0.00, label=[0]\n",
      "Rules used to predict sample 14: \n",
      "node 0: (X_test[0, 3](= 0.2) <= 1.55) sample=71, value=[[ 30.  39.  49.]], gini=0.65, label=[2]\n",
      "node 1: (X_test[0, 2](= 1.9) <= 2.60) sample=46, value=[[ 30.  37.   2.]], gini=0.52, label=[1]\n",
      "node 2: leaf node, sample=20, value=[[ 30.   0.   0.]], gini=0.00, label=[0]\n",
      "Rules used to predict sample 15: \n",
      "node 0: (X_test[0, 3](= 0.2) <= 1.55) sample=71, value=[[ 30.  39.  49.]], gini=0.65, label=[2]\n",
      "node 1: (X_test[0, 2](= 1.6) <= 2.60) sample=46, value=[[ 30.  37.   2.]], gini=0.52, label=[1]\n",
      "node 2: leaf node, sample=20, value=[[ 30.   0.   0.]], gini=0.00, label=[0]\n",
      "Rules used to predict sample 16: \n",
      "node 0: (X_test[0, 3](= 0.4) <= 1.55) sample=71, value=[[ 30.  39.  49.]], gini=0.65, label=[2]\n",
      "node 1: (X_test[0, 2](= 1.6) <= 2.60) sample=46, value=[[ 30.  37.   2.]], gini=0.52, label=[1]\n",
      "node 2: leaf node, sample=20, value=[[ 30.   0.   0.]], gini=0.00, label=[0]\n",
      "Rules used to predict sample 17: \n",
      "node 0: (X_test[0, 3](= 0.2) <= 1.55) sample=71, value=[[ 30.  39.  49.]], gini=0.65, label=[2]\n",
      "node 1: (X_test[0, 2](= 1.4) <= 2.60) sample=46, value=[[ 30.  37.   2.]], gini=0.52, label=[1]\n",
      "node 2: leaf node, sample=20, value=[[ 30.   0.   0.]], gini=0.00, label=[0]\n",
      "Rules used to predict sample 18: \n",
      "node 0: (X_test[0, 3](= 0.2) <= 1.55) sample=71, value=[[ 30.  39.  49.]], gini=0.65, label=[2]\n",
      "node 1: (X_test[0, 2](= 1.6) <= 2.60) sample=46, value=[[ 30.  37.   2.]], gini=0.52, label=[1]\n",
      "node 2: leaf node, sample=20, value=[[ 30.   0.   0.]], gini=0.00, label=[0]\n",
      "Rules used to predict sample 19: \n",
      "node 0: (X_test[0, 3](= 0.2) <= 1.55) sample=71, value=[[ 30.  39.  49.]], gini=0.65, label=[2]\n",
      "node 1: (X_test[0, 2](= 1.6) <= 2.60) sample=46, value=[[ 30.  37.   2.]], gini=0.52, label=[1]\n",
      "node 2: leaf node, sample=20, value=[[ 30.   0.   0.]], gini=0.00, label=[0]\n",
      "Rules used to predict sample 20: \n",
      "node 0: (X_test[0, 3](= 0.1) <= 1.55) sample=71, value=[[ 30.  39.  49.]], gini=0.65, label=[2]\n",
      "node 1: (X_test[0, 2](= 1.5) <= 2.60) sample=46, value=[[ 30.  37.   2.]], gini=0.52, label=[1]\n",
      "node 2: leaf node, sample=20, value=[[ 30.   0.   0.]], gini=0.00, label=[0]\n",
      "Rules used to predict sample 21: \n",
      "node 0: (X_test[0, 3](= 0.2) <= 1.55) sample=71, value=[[ 30.  39.  49.]], gini=0.65, label=[2]\n",
      "node 1: (X_test[0, 2](= 1.4) <= 2.60) sample=46, value=[[ 30.  37.   2.]], gini=0.52, label=[1]\n",
      "node 2: leaf node, sample=20, value=[[ 30.   0.   0.]], gini=0.00, label=[0]\n",
      "Rules used to predict sample 22: \n",
      "node 0: (X_test[0, 3](= 0.1) <= 1.55) sample=71, value=[[ 30.  39.  49.]], gini=0.65, label=[2]\n",
      "node 1: (X_test[0, 2](= 1.5) <= 2.60) sample=46, value=[[ 30.  37.   2.]], gini=0.52, label=[1]\n",
      "node 2: leaf node, sample=20, value=[[ 30.   0.   0.]], gini=0.00, label=[0]\n",
      "Rules used to predict sample 23: \n",
      "node 0: (X_test[0, 3](= 0.2) <= 1.55) sample=71, value=[[ 30.  39.  49.]], gini=0.65, label=[2]\n",
      "node 1: (X_test[0, 2](= 1.2) <= 2.60) sample=46, value=[[ 30.  37.   2.]], gini=0.52, label=[1]\n",
      "node 2: leaf node, sample=20, value=[[ 30.   0.   0.]], gini=0.00, label=[0]\n",
      "Rules used to predict sample 24: \n",
      "node 0: (X_test[0, 3](= 0.2) <= 1.55) sample=71, value=[[ 30.  39.  49.]], gini=0.65, label=[2]\n",
      "node 1: (X_test[0, 2](= 1.3) <= 2.60) sample=46, value=[[ 30.  37.   2.]], gini=0.52, label=[1]\n",
      "node 2: leaf node, sample=20, value=[[ 30.   0.   0.]], gini=0.00, label=[0]\n",
      "Rules used to predict sample 25: \n",
      "node 0: (X_test[0, 3](= 0.1) <= 1.55) sample=71, value=[[ 30.  39.  49.]], gini=0.65, label=[2]\n",
      "node 1: (X_test[0, 2](= 1.5) <= 2.60) sample=46, value=[[ 30.  37.   2.]], gini=0.52, label=[1]\n",
      "node 2: leaf node, sample=20, value=[[ 30.   0.   0.]], gini=0.00, label=[0]\n",
      "Rules used to predict sample 26: \n",
      "node 0: (X_test[0, 3](= 0.2) <= 1.55) sample=71, value=[[ 30.  39.  49.]], gini=0.65, label=[2]\n",
      "node 1: (X_test[0, 2](= 1.5) <= 2.60) sample=46, value=[[ 30.  37.   2.]], gini=0.52, label=[1]\n",
      "node 2: leaf node, sample=20, value=[[ 30.   0.   0.]], gini=0.00, label=[0]\n",
      "Rules used to predict sample 27: \n",
      "node 0: (X_test[0, 3](= 0.3) <= 1.55) sample=71, value=[[ 30.  39.  49.]], gini=0.65, label=[2]\n",
      "node 1: (X_test[0, 2](= 1.3) <= 2.60) sample=46, value=[[ 30.  37.   2.]], gini=0.52, label=[1]\n",
      "node 2: leaf node, sample=20, value=[[ 30.   0.   0.]], gini=0.00, label=[0]\n",
      "Rules used to predict sample 28: \n",
      "node 0: (X_test[0, 3](= 0.3) <= 1.55) sample=71, value=[[ 30.  39.  49.]], gini=0.65, label=[2]\n",
      "node 1: (X_test[0, 2](= 1.3) <= 2.60) sample=46, value=[[ 30.  37.   2.]], gini=0.52, label=[1]\n",
      "node 2: leaf node, sample=20, value=[[ 30.   0.   0.]], gini=0.00, label=[0]\n",
      "Rules used to predict sample 29: \n",
      "node 0: (X_test[0, 3](= 0.2) <= 1.55) sample=71, value=[[ 30.  39.  49.]], gini=0.65, label=[2]\n",
      "node 1: (X_test[0, 2](= 1.3) <= 2.60) sample=46, value=[[ 30.  37.   2.]], gini=0.52, label=[1]\n",
      "node 2: leaf node, sample=20, value=[[ 30.   0.   0.]], gini=0.00, label=[0]\n",
      "Rules used to predict sample 30: \n",
      "node 0: (X_test[0, 3](= 0.6) <= 1.55) sample=71, value=[[ 30.  39.  49.]], gini=0.65, label=[2]\n",
      "node 1: (X_test[0, 2](= 1.6) <= 2.60) sample=46, value=[[ 30.  37.   2.]], gini=0.52, label=[1]\n",
      "node 2: leaf node, sample=20, value=[[ 30.   0.   0.]], gini=0.00, label=[0]\n",
      "Rules used to predict sample 31: \n",
      "node 0: (X_test[0, 3](= 0.4) <= 1.55) sample=71, value=[[ 30.  39.  49.]], gini=0.65, label=[2]\n",
      "node 1: (X_test[0, 2](= 1.9) <= 2.60) sample=46, value=[[ 30.  37.   2.]], gini=0.52, label=[1]\n",
      "node 2: leaf node, sample=20, value=[[ 30.   0.   0.]], gini=0.00, label=[0]\n",
      "Rules used to predict sample 32: \n",
      "node 0: (X_test[0, 3](= 0.3) <= 1.55) sample=71, value=[[ 30.  39.  49.]], gini=0.65, label=[2]\n",
      "node 1: (X_test[0, 2](= 1.4) <= 2.60) sample=46, value=[[ 30.  37.   2.]], gini=0.52, label=[1]\n",
      "node 2: leaf node, sample=20, value=[[ 30.   0.   0.]], gini=0.00, label=[0]\n",
      "Rules used to predict sample 33: \n",
      "node 0: (X_test[0, 3](= 0.2) <= 1.55) sample=71, value=[[ 30.  39.  49.]], gini=0.65, label=[2]\n",
      "node 1: (X_test[0, 2](= 1.6) <= 2.60) sample=46, value=[[ 30.  37.   2.]], gini=0.52, label=[1]\n",
      "node 2: leaf node, sample=20, value=[[ 30.   0.   0.]], gini=0.00, label=[0]\n",
      "Rules used to predict sample 34: \n",
      "node 0: (X_test[0, 3](= 0.2) <= 1.55) sample=71, value=[[ 30.  39.  49.]], gini=0.65, label=[2]\n",
      "node 1: (X_test[0, 2](= 1.4) <= 2.60) sample=46, value=[[ 30.  37.   2.]], gini=0.52, label=[1]\n",
      "node 2: leaf node, sample=20, value=[[ 30.   0.   0.]], gini=0.00, label=[0]\n",
      "Rules used to predict sample 35: \n",
      "node 0: (X_test[0, 3](= 0.2) <= 1.55) sample=71, value=[[ 30.  39.  49.]], gini=0.65, label=[2]\n",
      "node 1: (X_test[0, 2](= 1.5) <= 2.60) sample=46, value=[[ 30.  37.   2.]], gini=0.52, label=[1]\n",
      "node 2: leaf node, sample=20, value=[[ 30.   0.   0.]], gini=0.00, label=[0]\n",
      "Rules used to predict sample 36: \n",
      "node 0: (X_test[0, 3](= 0.2) <= 1.55) sample=71, value=[[ 30.  39.  49.]], gini=0.65, label=[2]\n",
      "node 1: (X_test[0, 2](= 1.4) <= 2.60) sample=46, value=[[ 30.  37.   2.]], gini=0.52, label=[1]\n",
      "node 2: leaf node, sample=20, value=[[ 30.   0.   0.]], gini=0.00, label=[0]\n",
      "Rules used to predict sample 37: \n",
      "node 0: (X_test[0, 3](= 1.4) <= 1.55) sample=71, value=[[ 30.  39.  49.]], gini=0.65, label=[2]\n",
      "node 1: (X_test[0, 2](= 4.7) > 2.60) sample=46, value=[[ 30.  37.   2.]], gini=0.52, label=[1]\n",
      "node 3: (X_test[0, 0](= 7.0) > 6.05) sample=26, value=[[  0.  37.   2.]], gini=0.10, label=[1]\n",
      "node 5: (X_test[0, 2](= 4.7) <= 4.90) sample=10, value=[[  0.  12.   2.]], gini=0.24, label=[1]\n",
      "node 6: leaf node, sample=8, value=[[  0.  12.   0.]], gini=0.00, label=[1]\n"
     ]
    }
   ],
   "source": [
    "print_decision_path_ofsamplelist(clf.estimators_[0], train[features].iloc[:38, :].values)"
   ]
  },
  {
   "cell_type": "code",
   "execution_count": 118,
   "metadata": {
    "scrolled": true
   },
   "outputs": [
    {
     "data": {
      "text/plain": [
       "[0,\n",
       " 1,\n",
       " 2,\n",
       " 3,\n",
       " 4,\n",
       " 5,\n",
       " 6,\n",
       " 7,\n",
       " 8,\n",
       " 9,\n",
       " 10,\n",
       " 11,\n",
       " 12,\n",
       " 13,\n",
       " 14,\n",
       " 15,\n",
       " 16,\n",
       " 17,\n",
       " 18,\n",
       " 19,\n",
       " 20,\n",
       " 21,\n",
       " 22,\n",
       " 23,\n",
       " 24,\n",
       " 25,\n",
       " 26,\n",
       " 27,\n",
       " 28,\n",
       " 29,\n",
       " 30,\n",
       " 31,\n",
       " 32,\n",
       " 33,\n",
       " 34,\n",
       " 35,\n",
       " 36]"
      ]
     },
     "execution_count": 118,
     "metadata": {},
     "output_type": "execute_result"
    }
   ],
   "source": [
    "return_node_dataindex(clf.estimators_[0], 2, train[features])"
   ]
  },
  {
   "cell_type": "code",
   "execution_count": 100,
   "metadata": {
    "collapsed": true
   },
   "outputs": [],
   "source": [
    "def print_node_info(estimator, node_id):\n",
    "    feature = estimator.tree_.feature # 所有节点的特征索引 -2为叶子节点\n",
    "    threshold = estimator.tree_.threshold # 所有节点的阈值 -2为叶子节点\n",
    "    value = estimator.tree_.value # 所有节点的N个类的个数 \n",
    "    impurity = estimator.tree_.impurity # 所有节点的不纯度\n",
    "    sample = estimator.tree_.n_node_samples # 所有节点所有的\n",
    "    \n",
    "    assert node_id >= 0\n",
    "    assert node_id < estimator.tree_.node_count\n",
    "    \n",
    "    threshold_sign = \"<=\"\n",
    "    print(\"node %s: (feature[%s] %s %.2f) sample=%s, value=%s, gini=%.2f, label=%s\"\n",
    "              % (node_id,\n",
    "                 feature[node_id],\n",
    "                 threshold_sign,\n",
    "                 threshold[node_id],\n",
    "                 sample[node_id],\n",
    "                 value[node_id],\n",
    "                 impurity[node_id],\n",
    "                 np.argmax(value[node_id], axis=1)))"
   ]
  },
  {
   "cell_type": "code",
   "execution_count": 111,
   "metadata": {
    "collapsed": true
   },
   "outputs": [],
   "source": [
    "def return_node_dataindex(estimator, leaf_node_id, data):\n",
    "    nodelist = estimator.apply(data) # 返回实例所对应的节点ID\n",
    "    dataindex = []\n",
    "    for i, id in enumerate(nodelist):\n",
    "        if id == leaf_node_id: dataindex.append(i)\n",
    "    return dataindex"
   ]
  }
 ],
 "metadata": {
  "kernelspec": {
   "display_name": "Python 3",
   "language": "python",
   "name": "python3"
  },
  "language_info": {
   "codemirror_mode": {
    "name": "ipython",
    "version": 3
   },
   "file_extension": ".py",
   "mimetype": "text/x-python",
   "name": "python",
   "nbconvert_exporter": "python",
   "pygments_lexer": "ipython3",
   "version": "3.7.4"
  }
 },
 "nbformat": 4,
 "nbformat_minor": 2
}
