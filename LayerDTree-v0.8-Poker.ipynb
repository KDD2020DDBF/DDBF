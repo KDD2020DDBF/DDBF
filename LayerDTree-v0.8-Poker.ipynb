{
 "cells": [
  {
   "cell_type": "code",
   "execution_count": 1,
   "metadata": {},
   "outputs": [],
   "source": [
    "import os\n",
    "import numpy as np\n",
    "import pandas as pd\n",
    "import time\n",
    "import os.path as osp"
   ]
  },
  {
   "cell_type": "markdown",
   "metadata": {},
   "source": [
    "# Stage-1: Data access"
   ]
  },
  {
   "cell_type": "code",
   "execution_count": 12,
   "metadata": {},
   "outputs": [
    {
     "data": {
      "text/plain": [
       "<module 'DataHelper' from 'C:\\\\Users\\\\dxeec\\\\Desktop\\\\EcoForest-master\\\\DataHelper.py'>"
      ]
     },
     "execution_count": 12,
     "metadata": {},
     "output_type": "execute_result"
    }
   ],
   "source": [
    "import DataHelper\n",
    "import importlib\n",
    "from collections import Counter\n",
    "importlib.reload(DataHelper)\n",
    "#np.set_printoptions(threshold=np.inf)"
   ]
  },
  {
   "cell_type": "code",
   "execution_count": 13,
   "metadata": {},
   "outputs": [
    {
     "name": "stdout",
     "output_type": "stream",
     "text": [
      "X_train: (25010, 10) y_train: (25010,)\n",
      "X_test: (100000, 10) y_test: (100000,)\n"
     ]
    }
   ],
   "source": [
    "X_train,y_train, X_sub, y_sub = DataHelper.get_poker_data()"
   ]
  },
  {
   "cell_type": "code",
   "execution_count": 14,
   "metadata": {},
   "outputs": [
    {
     "data": {
      "text/plain": [
       "Counter({9: 5,\n",
       "         8: 5,\n",
       "         1: 10599,\n",
       "         0: 12493,\n",
       "         4: 93,\n",
       "         3: 513,\n",
       "         2: 1206,\n",
       "         5: 54,\n",
       "         6: 36,\n",
       "         7: 6})"
      ]
     },
     "execution_count": 14,
     "metadata": {},
     "output_type": "execute_result"
    }
   ],
   "source": [
    "Counter(y_train)"
   ]
  },
  {
   "cell_type": "code",
   "execution_count": 15,
   "metadata": {},
   "outputs": [
    {
     "data": {
      "text/plain": [
       "Counter({0: 50100,\n",
       "         1: 42185,\n",
       "         2: 4873,\n",
       "         3: 2098,\n",
       "         5: 195,\n",
       "         4: 379,\n",
       "         6: 150,\n",
       "         7: 18,\n",
       "         8: 1,\n",
       "         9: 1})"
      ]
     },
     "execution_count": 15,
     "metadata": {},
     "output_type": "execute_result"
    }
   ],
   "source": [
    "Counter(y_sub)"
   ]
  },
  {
   "cell_type": "markdown",
   "metadata": {},
   "source": [
    "# Stage-2: Model application"
   ]
  },
  {
   "cell_type": "code",
   "execution_count": 16,
   "metadata": {},
   "outputs": [
    {
     "data": {
      "text/plain": [
       "<module 'ModelUtils' from 'C:\\\\Users\\\\dxeec\\\\Desktop\\\\EcoForest-master\\\\ModelUtils.py'>"
      ]
     },
     "execution_count": 16,
     "metadata": {},
     "output_type": "execute_result"
    }
   ],
   "source": [
    "import ModelUtils\n",
    "import importlib\n",
    "from collections import Counter\n",
    "importlib.reload(ModelUtils)"
   ]
  },
  {
   "cell_type": "code",
   "execution_count": 17,
   "metadata": {},
   "outputs": [],
   "source": [
    "from sklearn import metrics\n",
    "def acc_metrix_mult(a, p):\n",
    "    return \"acc\", metrics.accuracy_score(a, p)"
   ]
  },
  {
   "cell_type": "markdown",
   "metadata": {},
   "source": [
    "# DT, RF, GDBT, XGB "
   ]
  },
  {
   "cell_type": "code",
   "execution_count": 18,
   "metadata": {},
   "outputs": [
    {
     "name": "stdout",
     "output_type": "stream",
     "text": [
      "train ('acc', 1.0)\n",
      "test ('acc', 0.47814)\n"
     ]
    },
    {
     "data": {
      "text/plain": [
       "(DecisionTreeClassifier(class_weight=None, criterion='gini', max_depth=None,\n",
       "             max_features=None, max_leaf_nodes=None,\n",
       "             min_impurity_decrease=0.0, min_impurity_split=None,\n",
       "             min_samples_leaf=1, min_samples_split=2,\n",
       "             min_weight_fraction_leaf=0.0, presort=False, random_state=None,\n",
       "             splitter='best'), array([0, 0, 1, ..., 1, 0, 1]))"
      ]
     },
     "execution_count": 18,
     "metadata": {},
     "output_type": "execute_result"
    }
   ],
   "source": [
    "ModelUtils.decision_tree(X_train, y_train, X_sub, y_sub, feval=acc_metrix_mult)"
   ]
  },
  {
   "cell_type": "code",
   "execution_count": 19,
   "metadata": {},
   "outputs": [
    {
     "name": "stdout",
     "output_type": "stream",
     "text": [
      "start train: 2019-08-22 15:45:28.770608\n",
      "start test: 2019-08-22 15:45:29.877865\n",
      "end test: 2019-08-22 15:45:31.150448\n",
      "test ('acc', 0.61748)\n",
      "train ('acc', 1.0)\n"
     ]
    },
    {
     "data": {
      "text/plain": [
       "(RandomForestClassifier(bootstrap=True, class_weight=None, criterion='gini',\n",
       "             max_depth=None, max_features='auto', max_leaf_nodes=None,\n",
       "             min_impurity_decrease=0.0, min_impurity_split=None,\n",
       "             min_samples_leaf=1, min_samples_split=2,\n",
       "             min_weight_fraction_leaf=0.0, n_estimators=200, n_jobs=-1,\n",
       "             oob_score=False, random_state=None, verbose=0,\n",
       "             warm_start=False), array([0, 0, 0, ..., 0, 0, 1]))"
      ]
     },
     "execution_count": 19,
     "metadata": {},
     "output_type": "execute_result"
    }
   ],
   "source": [
    "ModelUtils.random_forest(X_train, y_train, X_sub, y_sub, n_estimators=200, feval=acc_metrix_mult)"
   ]
  },
  {
   "cell_type": "code",
   "execution_count": 20,
   "metadata": {},
   "outputs": [
    {
     "name": "stdout",
     "output_type": "stream",
     "text": [
      "train ('acc', 0.6518192722910836)\n",
      "test ('acc', 0.62546)\n"
     ]
    },
    {
     "data": {
      "text/plain": [
       "(GradientBoostingClassifier(criterion='friedman_mse', init=None,\n",
       "               learning_rate=0.1, loss='deviance', max_depth=3,\n",
       "               max_features=None, max_leaf_nodes=None,\n",
       "               min_impurity_decrease=0.0, min_impurity_split=None,\n",
       "               min_samples_leaf=1, min_samples_split=2,\n",
       "               min_weight_fraction_leaf=0.0, n_estimators=200,\n",
       "               n_iter_no_change=None, presort='auto', random_state=None,\n",
       "               subsample=1.0, tol=0.0001, validation_fraction=0.1,\n",
       "               verbose=0, warm_start=False), array([0, 0, 0, ..., 0, 0, 1]))"
      ]
     },
     "execution_count": 20,
     "metadata": {},
     "output_type": "execute_result"
    }
   ],
   "source": [
    "ModelUtils.gdbt_model(X_train, y_train, X_sub, y_sub, n_estimators=200, feval=acc_metrix_mult)"
   ]
  },
  {
   "cell_type": "markdown",
   "metadata": {},
   "source": [
    "# Stage-3：EcoForest"
   ]
  },
  {
   "cell_type": "code",
   "execution_count": 21,
   "metadata": {},
   "outputs": [],
   "source": [
    "import EnhancedForest_multiclass\n",
    "import EnhancedForest_producer\n",
    "import DecomposerForest\n",
    "import LogUtils\n",
    "import AlgorithmUtils\n",
    "import importlib\n",
    "importlib.reload(DecomposerForest)\n",
    "importlib.reload(LogUtils)\n",
    "importlib.reload(EnhancedForest_multiclass)\n",
    "importlib.reload(EnhancedForest_producer)\n",
    "importlib.reload(AlgorithmUtils)\n",
    "np.seterr(divide='ignore', invalid='ignore')\n",
    "import warnings\n",
    "warnings.filterwarnings('ignore')"
   ]
  },
  {
   "cell_type": "code",
   "execution_count": 22,
   "metadata": {},
   "outputs": [
    {
     "name": "stdout",
     "output_type": "stream",
     "text": [
      "\n",
      "2019-08-22 15:47:13 layer: 1\n",
      "all data ('acc', 0.9066373450619752)\n",
      "train loss ('acc', 0.9066373450619752)\n",
      "pass train loss (0, 0)\n",
      "pass train loss now (0, 1)\n",
      "vaild loss ('acc', 0.5909236305477809)\n",
      "pass vaild loss (0, 0)\n",
      "pass vaild loss now (0, 1)\n",
      "test loss ('acc', 0.62338)\n",
      "pass test loss (0, 0)\n",
      "pass test loss now (0, 1)\n",
      "1 [p:0/np:0] \n",
      "\n",
      "2019-08-22 15:47:23 layer: 2\n",
      "all data ('acc', 0.9040383846461415)\n",
      "[p:324/1:161|n:24686/1:10438] \n",
      "train loss ('acc', 0.9040383846461415)\n",
      "pass train loss ('acc', 0.8703703703703703)\n",
      "pass train loss now ('acc', 0.8703703703703703)\n",
      "vaild loss ('acc', 0.5869652139144342)\n",
      "pass vaild loss ('acc', 0.6327160493827161)\n",
      "pass vaild loss now ('acc', 0.6327160493827161)\n",
      "test loss ('acc', 0.62123)\n",
      "pass test loss ('acc', 0.5938485804416404)\n",
      "pass test loss now ('acc', 0.5938485804416404)\n",
      "not pass\n",
      "\n",
      "2019-08-22 15:47:51 layer: 3\n",
      "all data ('acc', 0.9063174730107957)\n",
      "[p:272/1:130|n:24738/1:10469] \n",
      "train loss ('acc', 0.9063174730107957)\n",
      "pass train loss ('acc', 0.8933823529411765)\n",
      "pass train loss now ('acc', 0.8933823529411765)\n",
      "vaild loss ('acc', 0.5895641743302679)\n",
      "pass vaild loss ('acc', 0.6544117647058824)\n",
      "pass vaild loss now ('acc', 0.6544117647058824)\n",
      "test loss ('acc', 0.62308)\n",
      "pass test loss ('acc', 0.6301218161683277)\n",
      "pass test loss now ('acc', 0.6301218161683277)\n",
      "not pass\n",
      "\n",
      "2019-08-22 15:48:21 layer: 4\n",
      "all data ('acc', 0.9063974410235905)\n",
      "[p:306/1:161|n:24704/1:10438] \n",
      "train loss ('acc', 0.9063974410235905)\n",
      "pass train loss ('acc', 0.8921568627450981)\n",
      "pass train loss now ('acc', 0.8921568627450981)\n",
      "vaild loss ('acc', 0.5888044782087165)\n",
      "pass vaild loss ('acc', 0.5784313725490197)\n",
      "pass vaild loss now ('acc', 0.5784313725490197)\n",
      "test loss ('acc', 0.62326)\n",
      "pass test loss ('acc', 0.5979469632164243)\n",
      "pass test loss now ('acc', 0.5979469632164243)\n",
      "not pass\n",
      "\n",
      "2019-08-22 15:48:55 layer: 5\n",
      "all data ('acc', 0.9059576169532187)\n",
      "[p:320/1:150|n:24690/1:10449] \n",
      "train loss ('acc', 0.9059576169532187)\n",
      "pass train loss ('acc', 0.9125)\n",
      "pass train loss now ('acc', 0.9125)\n",
      "vaild loss ('acc', 0.5896441423430627)\n",
      "pass vaild loss ('acc', 0.634375)\n",
      "pass vaild loss now ('acc', 0.634375)\n",
      "test loss ('acc', 0.62244)\n",
      "pass test loss ('acc', 0.6386701662292213)\n",
      "pass test loss now ('acc', 0.6386701662292213)\n",
      "not pass\n",
      "\n",
      "2019-08-22 15:49:34 layer: 6\n",
      "all data ('acc', 0.9049580167932827)\n",
      "[p:272/1:153|n:24738/1:10446] \n",
      "train loss ('acc', 0.9049580167932827)\n",
      "pass train loss ('acc', 0.8676470588235294)\n",
      "pass train loss now ('acc', 0.8676470588235294)\n",
      "vaild loss ('acc', 0.5899240303878449)\n",
      "pass vaild loss ('acc', 0.6139705882352942)\n",
      "pass vaild loss now ('acc', 0.6139705882352942)\n",
      "test loss ('acc', 0.62251)\n",
      "pass test loss ('acc', 0.5864978902953587)\n",
      "pass test loss now ('acc', 0.5864978902953587)\n",
      "not pass\n",
      "\n",
      "2019-08-22 15:50:16 layer: 7\n",
      "all data ('acc', 0.9043182726909237)\n",
      "[p:378/1:192|n:24632/1:10407] \n",
      "train loss ('acc', 0.9043182726909237)\n",
      "pass train loss ('acc', 0.843915343915344)\n",
      "pass train loss now ('acc', 0.843915343915344)\n",
      "vaild loss ('acc', 0.585405837664934)\n",
      "pass vaild loss ('acc', 0.5529100529100529)\n",
      "pass vaild loss now ('acc', 0.5529100529100529)\n",
      "test loss ('acc', 0.61803)\n",
      "pass test loss ('acc', 0.5860749808722264)\n",
      "pass test loss now ('acc', 0.5860749808722264)\n",
      "not pass\n",
      "\n",
      "2019-08-22 15:51:01 layer: 8\n",
      "all data ('acc', 0.9071971211515394)\n",
      "[p:401/1:178|n:24609/1:10421] \n",
      "train loss ('acc', 0.9071971211515394)\n",
      "pass train loss ('acc', 0.8877805486284289)\n",
      "pass train loss now ('acc', 0.8877805486284289)\n",
      "vaild loss ('acc', 0.5886845261895242)\n",
      "pass vaild loss ('acc', 0.6209476309226932)\n",
      "pass vaild loss now ('acc', 0.6209476309226932)\n",
      "test loss ('acc', 0.62168)\n",
      "pass test loss ('acc', 0.6275720164609053)\n",
      "pass test loss now ('acc', 0.6275720164609053)\n",
      "8 [p:1458/np:98542] \n",
      "\n",
      "2019-08-22 15:51:51 layer: 9\n",
      "all data ('acc', 0.9060099963428014)\n",
      "[p:313/1:145|n:24296/1:10276] \n",
      "train loss ('acc', 0.905717712914834)\n",
      "pass train loss ('acc', 0.8669467787114846)\n",
      "pass train loss now ('acc', 0.8402555910543131)\n",
      "vaild loss ('acc', 0.5899240303878449)\n",
      "pass vaild loss ('acc', 0.5938375350140056)\n",
      "pass vaild loss now ('acc', 0.5591054313099042)\n",
      "test loss ('acc', 0.62137)\n",
      "pass test loss ('acc', 0.6199330606173299)\n",
      "pass test loss now ('acc', 0.6108854589764419)\n",
      "not pass\n",
      "\n",
      "2019-08-22 15:52:44 layer: 10\n",
      "all data ('acc', 0.9051972855459385)\n",
      "[p:306/1:145|n:24303/1:10276] \n",
      "train loss ('acc', 0.9049180327868852)\n",
      "pass train loss ('acc', 0.8896746817538896)\n",
      "pass train loss now ('acc', 0.8921568627450981)\n",
      "vaild loss ('acc', 0.5879648140743703)\n",
      "pass vaild loss ('acc', 0.6011315417256011)\n",
      "pass vaild loss now ('acc', 0.5751633986928104)\n",
      "test loss ('acc', 0.62508)\n",
      "pass test loss ('acc', 0.6097959183673469)\n",
      "pass test loss now ('acc', 0.5836693548387096)\n",
      "not pass\n",
      "\n",
      "2019-08-22 15:53:44 layer: 11\n",
      "all data ('acc', 0.9067008005201349)\n",
      "[p:284/1:141|n:24325/1:10280] \n",
      "train loss ('acc', 0.9063974410235905)\n",
      "pass train loss ('acc', 0.8598540145985402)\n",
      "pass train loss now ('acc', 0.8204225352112676)\n",
      "vaild loss ('acc', 0.5832866853258697)\n",
      "pass vaild loss ('acc', 0.581021897810219)\n",
      "pass vaild loss now ('acc', 0.5246478873239436)\n",
      "test loss ('acc', 0.62085)\n",
      "pass test loss ('acc', 0.6028072837632777)\n",
      "pass test loss now ('acc', 0.5721561969439728)\n",
      "not pass\n",
      "\n",
      "2019-08-22 15:54:43 layer: 12\n",
      "all data ('acc', 0.9081230444146451)\n",
      "[p:353/1:175|n:24256/1:10246] \n",
      "train loss ('acc', 0.907796881247501)\n",
      "pass train loss ('acc', 0.8806366047745358)\n",
      "pass train loss now ('acc', 0.8725212464589235)\n",
      "vaild loss ('acc', 0.586125549780088)\n",
      "pass vaild loss ('acc', 0.5981432360742706)\n",
      "pass vaild loss now ('acc', 0.5722379603399433)\n",
      "test loss ('acc', 0.62021)\n",
      "pass test loss ('acc', 0.6250878425860857)\n",
      "pass test loss now ('acc', 0.622478386167147)\n",
      "not pass\n",
      "\n",
      "2019-08-22 15:55:46 layer: 13\n",
      "all data ('acc', 0.9062538095818603)\n",
      "[p:259/1:137|n:24350/1:10284] \n"
     ]
    },
    {
     "ename": "KeyboardInterrupt",
     "evalue": "",
     "output_type": "error",
     "traceback": [
      "\u001b[1;31m---------------------------------------------------------------------------\u001b[0m",
      "\u001b[1;31mKeyboardInterrupt\u001b[0m                         Traceback (most recent call last)",
      "\u001b[1;32m<ipython-input-22-afd0b67dd136>\u001b[0m in \u001b[0;36m<module>\u001b[1;34m\u001b[0m\n\u001b[0;32m      1\u001b[0m \u001b[0mdecoForest\u001b[0m \u001b[1;33m=\u001b[0m \u001b[0mDecomposerForest\u001b[0m\u001b[1;33m.\u001b[0m\u001b[0mDecomposerForest\u001b[0m\u001b[1;33m(\u001b[0m\u001b[0mX_train\u001b[0m\u001b[1;33m,\u001b[0m \u001b[0my_train\u001b[0m\u001b[1;33m,\u001b[0m \u001b[0mX_sub\u001b[0m\u001b[1;33m,\u001b[0m \u001b[0my_sub\u001b[0m\u001b[1;33m,\u001b[0m \u001b[0mnum_class\u001b[0m\u001b[1;33m=\u001b[0m\u001b[1;36m10\u001b[0m\u001b[1;33m,\u001b[0m \u001b[0mflag\u001b[0m\u001b[1;33m=\u001b[0m\u001b[1;34m\"yeast\"\u001b[0m\u001b[1;33m,\u001b[0m \u001b[0misLRStacker\u001b[0m\u001b[1;33m=\u001b[0m\u001b[1;32mTrue\u001b[0m\u001b[1;33m)\u001b[0m\u001b[1;33m\u001b[0m\u001b[1;33m\u001b[0m\u001b[0m\n\u001b[0;32m      2\u001b[0m \u001b[0mdecoForest\u001b[0m\u001b[1;33m.\u001b[0m\u001b[0mset_parameter\u001b[0m\u001b[1;33m(\u001b[0m\u001b[0mcriterion\u001b[0m\u001b[1;33m=\u001b[0m\u001b[1;34m\"entropy\"\u001b[0m\u001b[1;33m,\u001b[0m \u001b[0mdropout\u001b[0m\u001b[1;33m=\u001b[0m\u001b[1;36m0.8\u001b[0m\u001b[1;33m,\u001b[0m \u001b[0mmin_samples_leaf\u001b[0m\u001b[1;33m=\u001b[0m\u001b[1;36m1\u001b[0m\u001b[1;33m)\u001b[0m\u001b[1;33m\u001b[0m\u001b[1;33m\u001b[0m\u001b[0m\n\u001b[1;32m----> 3\u001b[1;33m \u001b[0mdecoForest\u001b[0m\u001b[1;33m.\u001b[0m\u001b[0mfit\u001b[0m\u001b[1;33m(\u001b[0m\u001b[0mn_estimators\u001b[0m\u001b[1;33m=\u001b[0m\u001b[1;36m200\u001b[0m\u001b[1;33m,\u001b[0m \u001b[0mkfold\u001b[0m\u001b[1;33m=\u001b[0m\u001b[1;36m2\u001b[0m\u001b[1;33m,\u001b[0m \u001b[0mfeval\u001b[0m\u001b[1;33m=\u001b[0m\u001b[0macc_metrix_mult\u001b[0m\u001b[1;33m)\u001b[0m\u001b[1;33m\u001b[0m\u001b[1;33m\u001b[0m\u001b[0m\n\u001b[0m",
      "\u001b[1;32m~\\Desktop\\EcoForest-master\\DecomposerForest.py\u001b[0m in \u001b[0;36mfit\u001b[1;34m(self, n_estimators, kfold, feval)\u001b[0m\n\u001b[0;32m    233\u001b[0m             \u001b[0my\u001b[0m \u001b[1;33m=\u001b[0m \u001b[0my_train_np\u001b[0m\u001b[1;33m\u001b[0m\u001b[1;33m\u001b[0m\u001b[0m\n\u001b[0;32m    234\u001b[0m \u001b[1;33m\u001b[0m\u001b[0m\n\u001b[1;32m--> 235\u001b[1;33m             \u001b[0mstatus_fit\u001b[0m \u001b[1;33m=\u001b[0m \u001b[0mself\u001b[0m\u001b[1;33m.\u001b[0m\u001b[0m_fit_layer\u001b[0m\u001b[1;33m(\u001b[0m\u001b[0mX\u001b[0m\u001b[1;33m,\u001b[0m \u001b[0my\u001b[0m\u001b[1;33m,\u001b[0m \u001b[0misFirst\u001b[0m\u001b[1;33m,\u001b[0m \u001b[0mlayer\u001b[0m\u001b[1;33m)\u001b[0m\u001b[1;33m\u001b[0m\u001b[1;33m\u001b[0m\u001b[0m\n\u001b[0m\u001b[0;32m    236\u001b[0m             \u001b[1;32mif\u001b[0m \u001b[0mstatus_fit\u001b[0m \u001b[1;33m==\u001b[0m \u001b[0mSTATUS_FIT\u001b[0m\u001b[1;33m.\u001b[0m\u001b[0mSTATUS_BREAK\u001b[0m\u001b[1;33m:\u001b[0m\u001b[1;33m\u001b[0m\u001b[1;33m\u001b[0m\u001b[0m\n\u001b[0;32m    237\u001b[0m                 \u001b[0mprint\u001b[0m\u001b[1;33m(\u001b[0m\u001b[1;34m\"STATUS_BREAK\"\u001b[0m\u001b[1;33m)\u001b[0m\u001b[1;33m\u001b[0m\u001b[1;33m\u001b[0m\u001b[0m\n",
      "\u001b[1;32m~\\Desktop\\EcoForest-master\\DecomposerForest.py\u001b[0m in \u001b[0;36m_fit_layer\u001b[1;34m(self, X, y, isFirst, layer)\u001b[0m\n\u001b[0;32m    159\u001b[0m                                             \u001b[0mmax_depth\u001b[0m\u001b[1;33m=\u001b[0m\u001b[0mself\u001b[0m\u001b[1;33m.\u001b[0m\u001b[0mmax_depth\u001b[0m\u001b[1;33m,\u001b[0m \u001b[0mmin_samples_leaf\u001b[0m\u001b[1;33m=\u001b[0m\u001b[0mself\u001b[0m\u001b[1;33m.\u001b[0m\u001b[0mmin_samples_leaf\u001b[0m\u001b[1;33m,\u001b[0m\u001b[0;31m\\\u001b[0m\u001b[1;33m\u001b[0m\u001b[1;33m\u001b[0m\u001b[0m\n\u001b[0;32m    160\u001b[0m                                           \u001b[0misFirst\u001b[0m\u001b[1;33m=\u001b[0m\u001b[0misFirst\u001b[0m\u001b[1;33m,\u001b[0m \u001b[0mnum_class\u001b[0m\u001b[1;33m=\u001b[0m\u001b[0mself\u001b[0m\u001b[1;33m.\u001b[0m\u001b[0mnum_class\u001b[0m\u001b[1;33m,\u001b[0m \u001b[0mkfold\u001b[0m\u001b[1;33m=\u001b[0m\u001b[0mself\u001b[0m\u001b[1;33m.\u001b[0m\u001b[0mkfold\u001b[0m\u001b[1;33m,\u001b[0m\u001b[0;31m \u001b[0m\u001b[0;31m\\\u001b[0m\u001b[1;33m\u001b[0m\u001b[1;33m\u001b[0m\u001b[0m\n\u001b[1;32m--> 161\u001b[1;33m                                           \u001b[0mn_estimators\u001b[0m\u001b[1;33m=\u001b[0m\u001b[0mself\u001b[0m\u001b[1;33m.\u001b[0m\u001b[0mn_estimators\u001b[0m\u001b[0;31m\\\u001b[0m\u001b[1;33m\u001b[0m\u001b[1;33m\u001b[0m\u001b[0m\n\u001b[0m\u001b[0;32m    162\u001b[0m                                          )\n\u001b[0;32m    163\u001b[0m         \u001b[0mlayer_loss\u001b[0m \u001b[1;33m=\u001b[0m \u001b[0mself\u001b[0m\u001b[1;33m.\u001b[0m\u001b[0m_get_loss\u001b[0m\u001b[1;33m(\u001b[0m\u001b[1;33m)\u001b[0m\u001b[1;33m\u001b[0m\u001b[1;33m\u001b[0m\u001b[0m\n",
      "\u001b[1;32m~\\Desktop\\EcoForest-master\\EnhancedForest_multiclass.py\u001b[0m in \u001b[0;36mTrainModelLayer\u001b[1;34m(self, X, y, X_test, all_data_mask, y_test, real_y, verbose, feval, max_depth, random_state, min_samples_leaf, criterion, dropout, isFirst, num_class, kfold, n_estimators)\u001b[0m\n\u001b[0;32m    237\u001b[0m         \u001b[0mX_test_np\u001b[0m \u001b[1;33m=\u001b[0m \u001b[0mX_test\u001b[0m\u001b[1;33m[\u001b[0m\u001b[0mall_false_data_index\u001b[0m\u001b[1;33m]\u001b[0m\u001b[1;33m\u001b[0m\u001b[1;33m\u001b[0m\u001b[0m\n\u001b[0;32m    238\u001b[0m         \u001b[0my_test_np\u001b[0m \u001b[1;33m=\u001b[0m \u001b[0mreal_y\u001b[0m\u001b[1;33m[\u001b[0m\u001b[0mall_false_data_index\u001b[0m\u001b[1;33m]\u001b[0m\u001b[1;33m\u001b[0m\u001b[1;33m\u001b[0m\u001b[0m\n\u001b[1;32m--> 239\u001b[1;33m         \u001b[0mdata_mask\u001b[0m\u001b[1;33m,\u001b[0m \u001b[0mp_test\u001b[0m \u001b[1;33m=\u001b[0m \u001b[0mself\u001b[0m\u001b[1;33m.\u001b[0m\u001b[0mTestDataSplit\u001b[0m\u001b[1;33m(\u001b[0m\u001b[0mX_test_np\u001b[0m\u001b[1;33m,\u001b[0m \u001b[0my_test_np\u001b[0m\u001b[1;33m,\u001b[0m \u001b[0mdropout\u001b[0m\u001b[1;33m,\u001b[0m \u001b[0mnum_class\u001b[0m\u001b[1;33m,\u001b[0m \u001b[0mverbose\u001b[0m\u001b[1;33m)\u001b[0m\u001b[1;33m\u001b[0m\u001b[1;33m\u001b[0m\u001b[0m\n\u001b[0m\u001b[0;32m    240\u001b[0m         \u001b[0mall_pass_data_index\u001b[0m \u001b[1;33m=\u001b[0m \u001b[0mall_false_data_index\u001b[0m\u001b[1;33m[\u001b[0m\u001b[0mdata_mask\u001b[0m\u001b[1;33m]\u001b[0m\u001b[1;33m\u001b[0m\u001b[1;33m\u001b[0m\u001b[0m\n\u001b[0;32m    241\u001b[0m         \u001b[0mall_no_pass_data_index\u001b[0m \u001b[1;33m=\u001b[0m \u001b[0mall_false_data_index\u001b[0m\u001b[1;33m[\u001b[0m\u001b[1;33m~\u001b[0m\u001b[0mdata_mask\u001b[0m\u001b[1;33m]\u001b[0m\u001b[1;33m\u001b[0m\u001b[1;33m\u001b[0m\u001b[0m\n",
      "\u001b[1;32m~\\Desktop\\EcoForest-master\\EnhancedForest_multiclass.py\u001b[0m in \u001b[0;36mTestDataSplit\u001b[1;34m(self, X_test, real_y, dropout, num_class, verbose)\u001b[0m\n\u001b[0;32m    178\u001b[0m         \u001b[1;32mif\u001b[0m \u001b[0mself\u001b[0m\u001b[1;33m.\u001b[0m\u001b[0misLRStacker\u001b[0m\u001b[1;33m:\u001b[0m\u001b[1;33m\u001b[0m\u001b[1;33m\u001b[0m\u001b[0m\n\u001b[0;32m    179\u001b[0m             \u001b[1;31m# p_test = self.predict_proba_lr(X_test, num_class)\u001b[0m\u001b[1;33m\u001b[0m\u001b[1;33m\u001b[0m\u001b[1;33m\u001b[0m\u001b[0m\n\u001b[1;32m--> 180\u001b[1;33m             \u001b[0mp_test\u001b[0m \u001b[1;33m=\u001b[0m \u001b[0mAlgorithmUtils\u001b[0m\u001b[1;33m.\u001b[0m\u001b[0mpredict_proba_lr\u001b[0m\u001b[1;33m(\u001b[0m\u001b[0mself\u001b[0m\u001b[1;33m.\u001b[0m\u001b[0mestimator\u001b[0m\u001b[1;33m,\u001b[0m \u001b[0mX_test\u001b[0m\u001b[1;33m,\u001b[0m \u001b[0mself\u001b[0m\u001b[1;33m.\u001b[0m\u001b[0mlog_model\u001b[0m\u001b[1;33m,\u001b[0m \u001b[0mnum_class\u001b[0m\u001b[1;33m)\u001b[0m\u001b[1;33m\u001b[0m\u001b[1;33m\u001b[0m\u001b[0m\n\u001b[0m\u001b[0;32m    181\u001b[0m         \u001b[1;32melse\u001b[0m\u001b[1;33m:\u001b[0m\u001b[1;33m\u001b[0m\u001b[1;33m\u001b[0m\u001b[0m\n\u001b[0;32m    182\u001b[0m             \u001b[1;31m# p_test = self.predict_proba(X_test, num_class)\u001b[0m\u001b[1;33m\u001b[0m\u001b[1;33m\u001b[0m\u001b[1;33m\u001b[0m\u001b[0m\n",
      "\u001b[1;32m~\\Desktop\\EcoForest-master\\AlgorithmUtils.py\u001b[0m in \u001b[0;36mpredict_proba_lr\u001b[1;34m(estimators, X, log_model, num_class)\u001b[0m\n\u001b[0;32m     25\u001b[0m     \u001b[0my_preds\u001b[0m \u001b[1;33m=\u001b[0m \u001b[0mnp\u001b[0m\u001b[1;33m.\u001b[0m\u001b[0mzeros\u001b[0m\u001b[1;33m(\u001b[0m\u001b[1;33m(\u001b[0m\u001b[0mX\u001b[0m\u001b[1;33m.\u001b[0m\u001b[0mshape\u001b[0m\u001b[1;33m[\u001b[0m\u001b[1;36m0\u001b[0m\u001b[1;33m]\u001b[0m\u001b[1;33m,\u001b[0m \u001b[0mnum_class\u001b[0m\u001b[1;33m)\u001b[0m\u001b[1;33m)\u001b[0m\u001b[1;33m\u001b[0m\u001b[1;33m\u001b[0m\u001b[0m\n\u001b[0;32m     26\u001b[0m     \u001b[1;32mfor\u001b[0m \u001b[0mi\u001b[0m\u001b[1;33m,\u001b[0m \u001b[0mclf\u001b[0m \u001b[1;32min\u001b[0m \u001b[0menumerate\u001b[0m\u001b[1;33m(\u001b[0m\u001b[0mestimators\u001b[0m\u001b[1;33m)\u001b[0m\u001b[1;33m:\u001b[0m\u001b[1;33m\u001b[0m\u001b[1;33m\u001b[0m\u001b[0m\n\u001b[1;32m---> 27\u001b[1;33m         \u001b[0my_pred\u001b[0m \u001b[1;33m=\u001b[0m \u001b[0mclf\u001b[0m\u001b[1;33m.\u001b[0m\u001b[0mpredict_proba\u001b[0m\u001b[1;33m(\u001b[0m\u001b[0mX\u001b[0m\u001b[1;33m)\u001b[0m\u001b[1;33m\u001b[0m\u001b[1;33m\u001b[0m\u001b[0m\n\u001b[0m\u001b[0;32m     28\u001b[0m         \u001b[0my_preds\u001b[0m\u001b[1;33m[\u001b[0m\u001b[1;33m:\u001b[0m\u001b[1;33m,\u001b[0m \u001b[1;33m:\u001b[0m\u001b[1;33m]\u001b[0m \u001b[1;33m+=\u001b[0m \u001b[0my_pred\u001b[0m\u001b[1;33m/\u001b[0m\u001b[0mlen\u001b[0m\u001b[1;33m(\u001b[0m\u001b[0mestimators\u001b[0m\u001b[1;33m)\u001b[0m\u001b[1;33m\u001b[0m\u001b[1;33m\u001b[0m\u001b[0m\n\u001b[0;32m     29\u001b[0m     \u001b[1;32mreturn\u001b[0m \u001b[0mlog_model\u001b[0m\u001b[1;33m.\u001b[0m\u001b[0mpredict\u001b[0m\u001b[1;33m(\u001b[0m\u001b[0my_preds\u001b[0m\u001b[1;33m)\u001b[0m\u001b[1;33m\u001b[0m\u001b[1;33m\u001b[0m\u001b[0m\n",
      "\u001b[1;32m~\\Anaconda3\\lib\\site-packages\\sklearn\\ensemble\\forest.py\u001b[0m in \u001b[0;36mpredict_proba\u001b[1;34m(self, X)\u001b[0m\n\u001b[0;32m    594\u001b[0m             delayed(_accumulate_prediction)(e.predict_proba, X, all_proba,\n\u001b[0;32m    595\u001b[0m                                             lock)\n\u001b[1;32m--> 596\u001b[1;33m             for e in self.estimators_)\n\u001b[0m\u001b[0;32m    597\u001b[0m \u001b[1;33m\u001b[0m\u001b[0m\n\u001b[0;32m    598\u001b[0m         \u001b[1;32mfor\u001b[0m \u001b[0mproba\u001b[0m \u001b[1;32min\u001b[0m \u001b[0mall_proba\u001b[0m\u001b[1;33m:\u001b[0m\u001b[1;33m\u001b[0m\u001b[1;33m\u001b[0m\u001b[0m\n",
      "\u001b[1;32m~\\Anaconda3\\lib\\site-packages\\sklearn\\externals\\joblib\\parallel.py\u001b[0m in \u001b[0;36m__call__\u001b[1;34m(self, iterable)\u001b[0m\n\u001b[0;32m    928\u001b[0m \u001b[1;33m\u001b[0m\u001b[0m\n\u001b[0;32m    929\u001b[0m             \u001b[1;32mwith\u001b[0m \u001b[0mself\u001b[0m\u001b[1;33m.\u001b[0m\u001b[0m_backend\u001b[0m\u001b[1;33m.\u001b[0m\u001b[0mretrieval_context\u001b[0m\u001b[1;33m(\u001b[0m\u001b[1;33m)\u001b[0m\u001b[1;33m:\u001b[0m\u001b[1;33m\u001b[0m\u001b[1;33m\u001b[0m\u001b[0m\n\u001b[1;32m--> 930\u001b[1;33m                 \u001b[0mself\u001b[0m\u001b[1;33m.\u001b[0m\u001b[0mretrieve\u001b[0m\u001b[1;33m(\u001b[0m\u001b[1;33m)\u001b[0m\u001b[1;33m\u001b[0m\u001b[1;33m\u001b[0m\u001b[0m\n\u001b[0m\u001b[0;32m    931\u001b[0m             \u001b[1;31m# Make sure that we get a last message telling us we are done\u001b[0m\u001b[1;33m\u001b[0m\u001b[1;33m\u001b[0m\u001b[1;33m\u001b[0m\u001b[0m\n\u001b[0;32m    932\u001b[0m             \u001b[0melapsed_time\u001b[0m \u001b[1;33m=\u001b[0m \u001b[0mtime\u001b[0m\u001b[1;33m.\u001b[0m\u001b[0mtime\u001b[0m\u001b[1;33m(\u001b[0m\u001b[1;33m)\u001b[0m \u001b[1;33m-\u001b[0m \u001b[0mself\u001b[0m\u001b[1;33m.\u001b[0m\u001b[0m_start_time\u001b[0m\u001b[1;33m\u001b[0m\u001b[1;33m\u001b[0m\u001b[0m\n",
      "\u001b[1;32m~\\Anaconda3\\lib\\site-packages\\sklearn\\externals\\joblib\\parallel.py\u001b[0m in \u001b[0;36mretrieve\u001b[1;34m(self)\u001b[0m\n\u001b[0;32m    831\u001b[0m             \u001b[1;32mtry\u001b[0m\u001b[1;33m:\u001b[0m\u001b[1;33m\u001b[0m\u001b[1;33m\u001b[0m\u001b[0m\n\u001b[0;32m    832\u001b[0m                 \u001b[1;32mif\u001b[0m \u001b[0mgetattr\u001b[0m\u001b[1;33m(\u001b[0m\u001b[0mself\u001b[0m\u001b[1;33m.\u001b[0m\u001b[0m_backend\u001b[0m\u001b[1;33m,\u001b[0m \u001b[1;34m'supports_timeout'\u001b[0m\u001b[1;33m,\u001b[0m \u001b[1;32mFalse\u001b[0m\u001b[1;33m)\u001b[0m\u001b[1;33m:\u001b[0m\u001b[1;33m\u001b[0m\u001b[1;33m\u001b[0m\u001b[0m\n\u001b[1;32m--> 833\u001b[1;33m                     \u001b[0mself\u001b[0m\u001b[1;33m.\u001b[0m\u001b[0m_output\u001b[0m\u001b[1;33m.\u001b[0m\u001b[0mextend\u001b[0m\u001b[1;33m(\u001b[0m\u001b[0mjob\u001b[0m\u001b[1;33m.\u001b[0m\u001b[0mget\u001b[0m\u001b[1;33m(\u001b[0m\u001b[0mtimeout\u001b[0m\u001b[1;33m=\u001b[0m\u001b[0mself\u001b[0m\u001b[1;33m.\u001b[0m\u001b[0mtimeout\u001b[0m\u001b[1;33m)\u001b[0m\u001b[1;33m)\u001b[0m\u001b[1;33m\u001b[0m\u001b[1;33m\u001b[0m\u001b[0m\n\u001b[0m\u001b[0;32m    834\u001b[0m                 \u001b[1;32melse\u001b[0m\u001b[1;33m:\u001b[0m\u001b[1;33m\u001b[0m\u001b[1;33m\u001b[0m\u001b[0m\n\u001b[0;32m    835\u001b[0m                     \u001b[0mself\u001b[0m\u001b[1;33m.\u001b[0m\u001b[0m_output\u001b[0m\u001b[1;33m.\u001b[0m\u001b[0mextend\u001b[0m\u001b[1;33m(\u001b[0m\u001b[0mjob\u001b[0m\u001b[1;33m.\u001b[0m\u001b[0mget\u001b[0m\u001b[1;33m(\u001b[0m\u001b[1;33m)\u001b[0m\u001b[1;33m)\u001b[0m\u001b[1;33m\u001b[0m\u001b[1;33m\u001b[0m\u001b[0m\n",
      "\u001b[1;32m~\\Anaconda3\\lib\\multiprocessing\\pool.py\u001b[0m in \u001b[0;36mget\u001b[1;34m(self, timeout)\u001b[0m\n\u001b[0;32m    649\u001b[0m \u001b[1;33m\u001b[0m\u001b[0m\n\u001b[0;32m    650\u001b[0m     \u001b[1;32mdef\u001b[0m \u001b[0mget\u001b[0m\u001b[1;33m(\u001b[0m\u001b[0mself\u001b[0m\u001b[1;33m,\u001b[0m \u001b[0mtimeout\u001b[0m\u001b[1;33m=\u001b[0m\u001b[1;32mNone\u001b[0m\u001b[1;33m)\u001b[0m\u001b[1;33m:\u001b[0m\u001b[1;33m\u001b[0m\u001b[1;33m\u001b[0m\u001b[0m\n\u001b[1;32m--> 651\u001b[1;33m         \u001b[0mself\u001b[0m\u001b[1;33m.\u001b[0m\u001b[0mwait\u001b[0m\u001b[1;33m(\u001b[0m\u001b[0mtimeout\u001b[0m\u001b[1;33m)\u001b[0m\u001b[1;33m\u001b[0m\u001b[1;33m\u001b[0m\u001b[0m\n\u001b[0m\u001b[0;32m    652\u001b[0m         \u001b[1;32mif\u001b[0m \u001b[1;32mnot\u001b[0m \u001b[0mself\u001b[0m\u001b[1;33m.\u001b[0m\u001b[0mready\u001b[0m\u001b[1;33m(\u001b[0m\u001b[1;33m)\u001b[0m\u001b[1;33m:\u001b[0m\u001b[1;33m\u001b[0m\u001b[1;33m\u001b[0m\u001b[0m\n\u001b[0;32m    653\u001b[0m             \u001b[1;32mraise\u001b[0m \u001b[0mTimeoutError\u001b[0m\u001b[1;33m\u001b[0m\u001b[1;33m\u001b[0m\u001b[0m\n",
      "\u001b[1;32m~\\Anaconda3\\lib\\multiprocessing\\pool.py\u001b[0m in \u001b[0;36mwait\u001b[1;34m(self, timeout)\u001b[0m\n\u001b[0;32m    646\u001b[0m \u001b[1;33m\u001b[0m\u001b[0m\n\u001b[0;32m    647\u001b[0m     \u001b[1;32mdef\u001b[0m \u001b[0mwait\u001b[0m\u001b[1;33m(\u001b[0m\u001b[0mself\u001b[0m\u001b[1;33m,\u001b[0m \u001b[0mtimeout\u001b[0m\u001b[1;33m=\u001b[0m\u001b[1;32mNone\u001b[0m\u001b[1;33m)\u001b[0m\u001b[1;33m:\u001b[0m\u001b[1;33m\u001b[0m\u001b[1;33m\u001b[0m\u001b[0m\n\u001b[1;32m--> 648\u001b[1;33m         \u001b[0mself\u001b[0m\u001b[1;33m.\u001b[0m\u001b[0m_event\u001b[0m\u001b[1;33m.\u001b[0m\u001b[0mwait\u001b[0m\u001b[1;33m(\u001b[0m\u001b[0mtimeout\u001b[0m\u001b[1;33m)\u001b[0m\u001b[1;33m\u001b[0m\u001b[1;33m\u001b[0m\u001b[0m\n\u001b[0m\u001b[0;32m    649\u001b[0m \u001b[1;33m\u001b[0m\u001b[0m\n\u001b[0;32m    650\u001b[0m     \u001b[1;32mdef\u001b[0m \u001b[0mget\u001b[0m\u001b[1;33m(\u001b[0m\u001b[0mself\u001b[0m\u001b[1;33m,\u001b[0m \u001b[0mtimeout\u001b[0m\u001b[1;33m=\u001b[0m\u001b[1;32mNone\u001b[0m\u001b[1;33m)\u001b[0m\u001b[1;33m:\u001b[0m\u001b[1;33m\u001b[0m\u001b[1;33m\u001b[0m\u001b[0m\n",
      "\u001b[1;32m~\\Anaconda3\\lib\\threading.py\u001b[0m in \u001b[0;36mwait\u001b[1;34m(self, timeout)\u001b[0m\n\u001b[0;32m    550\u001b[0m             \u001b[0msignaled\u001b[0m \u001b[1;33m=\u001b[0m \u001b[0mself\u001b[0m\u001b[1;33m.\u001b[0m\u001b[0m_flag\u001b[0m\u001b[1;33m\u001b[0m\u001b[1;33m\u001b[0m\u001b[0m\n\u001b[0;32m    551\u001b[0m             \u001b[1;32mif\u001b[0m \u001b[1;32mnot\u001b[0m \u001b[0msignaled\u001b[0m\u001b[1;33m:\u001b[0m\u001b[1;33m\u001b[0m\u001b[1;33m\u001b[0m\u001b[0m\n\u001b[1;32m--> 552\u001b[1;33m                 \u001b[0msignaled\u001b[0m \u001b[1;33m=\u001b[0m \u001b[0mself\u001b[0m\u001b[1;33m.\u001b[0m\u001b[0m_cond\u001b[0m\u001b[1;33m.\u001b[0m\u001b[0mwait\u001b[0m\u001b[1;33m(\u001b[0m\u001b[0mtimeout\u001b[0m\u001b[1;33m)\u001b[0m\u001b[1;33m\u001b[0m\u001b[1;33m\u001b[0m\u001b[0m\n\u001b[0m\u001b[0;32m    553\u001b[0m             \u001b[1;32mreturn\u001b[0m \u001b[0msignaled\u001b[0m\u001b[1;33m\u001b[0m\u001b[1;33m\u001b[0m\u001b[0m\n\u001b[0;32m    554\u001b[0m \u001b[1;33m\u001b[0m\u001b[0m\n",
      "\u001b[1;32m~\\Anaconda3\\lib\\threading.py\u001b[0m in \u001b[0;36mwait\u001b[1;34m(self, timeout)\u001b[0m\n\u001b[0;32m    294\u001b[0m         \u001b[1;32mtry\u001b[0m\u001b[1;33m:\u001b[0m    \u001b[1;31m# restore state no matter what (e.g., KeyboardInterrupt)\u001b[0m\u001b[1;33m\u001b[0m\u001b[1;33m\u001b[0m\u001b[0m\n\u001b[0;32m    295\u001b[0m             \u001b[1;32mif\u001b[0m \u001b[0mtimeout\u001b[0m \u001b[1;32mis\u001b[0m \u001b[1;32mNone\u001b[0m\u001b[1;33m:\u001b[0m\u001b[1;33m\u001b[0m\u001b[1;33m\u001b[0m\u001b[0m\n\u001b[1;32m--> 296\u001b[1;33m                 \u001b[0mwaiter\u001b[0m\u001b[1;33m.\u001b[0m\u001b[0macquire\u001b[0m\u001b[1;33m(\u001b[0m\u001b[1;33m)\u001b[0m\u001b[1;33m\u001b[0m\u001b[1;33m\u001b[0m\u001b[0m\n\u001b[0m\u001b[0;32m    297\u001b[0m                 \u001b[0mgotit\u001b[0m \u001b[1;33m=\u001b[0m \u001b[1;32mTrue\u001b[0m\u001b[1;33m\u001b[0m\u001b[1;33m\u001b[0m\u001b[0m\n\u001b[0;32m    298\u001b[0m             \u001b[1;32melse\u001b[0m\u001b[1;33m:\u001b[0m\u001b[1;33m\u001b[0m\u001b[1;33m\u001b[0m\u001b[0m\n",
      "\u001b[1;31mKeyboardInterrupt\u001b[0m: "
     ]
    }
   ],
   "source": [
    "decoForest = DecomposerForest.DecomposerForest(X_train, y_train, X_sub, y_sub, num_class=10, flag=\"yeast\", isLRStacker=True)\n",
    "decoForest.set_parameter(criterion=\"entropy\", dropout=0.8, min_samples_leaf=1)\n",
    "decoForest.fit(n_estimators=200, kfold=2, feval=acc_metrix_mult)"
   ]
  },
  {
   "cell_type": "code",
   "execution_count": null,
   "metadata": {},
   "outputs": [],
   "source": []
  }
 ],
 "metadata": {
  "kernelspec": {
   "display_name": "Python 3",
   "language": "python",
   "name": "python3"
  },
  "language_info": {
   "codemirror_mode": {
    "name": "ipython",
    "version": 3
   },
   "file_extension": ".py",
   "mimetype": "text/x-python",
   "name": "python",
   "nbconvert_exporter": "python",
   "pygments_lexer": "ipython3",
   "version": "3.7.4"
  }
 },
 "nbformat": 4,
 "nbformat_minor": 2
}
