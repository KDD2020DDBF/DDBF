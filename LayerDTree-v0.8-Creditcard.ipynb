{
 "cells": [
  {
   "cell_type": "code",
   "execution_count": 18,
   "metadata": {
    "collapsed": true
   },
   "outputs": [],
   "source": [
    "import pandas as pd"
   ]
  },
  {
   "cell_type": "code",
   "execution_count": 19,
   "metadata": {},
   "outputs": [
    {
     "data": {
      "text/html": [
       "<div>\n",
       "<style>\n",
       "    .dataframe thead tr:only-child th {\n",
       "        text-align: right;\n",
       "    }\n",
       "\n",
       "    .dataframe thead th {\n",
       "        text-align: left;\n",
       "    }\n",
       "\n",
       "    .dataframe tbody tr th {\n",
       "        vertical-align: top;\n",
       "    }\n",
       "</style>\n",
       "<table border=\"1\" class=\"dataframe\">\n",
       "  <thead>\n",
       "    <tr style=\"text-align: right;\">\n",
       "      <th></th>\n",
       "      <th>Time</th>\n",
       "      <th>V1</th>\n",
       "      <th>V2</th>\n",
       "      <th>V3</th>\n",
       "      <th>V4</th>\n",
       "      <th>V5</th>\n",
       "      <th>V6</th>\n",
       "      <th>V7</th>\n",
       "      <th>V8</th>\n",
       "      <th>V9</th>\n",
       "      <th>...</th>\n",
       "      <th>V21</th>\n",
       "      <th>V22</th>\n",
       "      <th>V23</th>\n",
       "      <th>V24</th>\n",
       "      <th>V25</th>\n",
       "      <th>V26</th>\n",
       "      <th>V27</th>\n",
       "      <th>V28</th>\n",
       "      <th>Amount</th>\n",
       "      <th>Class</th>\n",
       "    </tr>\n",
       "  </thead>\n",
       "  <tbody>\n",
       "    <tr>\n",
       "      <th>0</th>\n",
       "      <td>58563.0</td>\n",
       "      <td>1.135369</td>\n",
       "      <td>0.469210</td>\n",
       "      <td>1.210951</td>\n",
       "      <td>2.586250</td>\n",
       "      <td>-0.643204</td>\n",
       "      <td>-0.495586</td>\n",
       "      <td>-0.193701</td>\n",
       "      <td>-0.042874</td>\n",
       "      <td>-0.515670</td>\n",
       "      <td>...</td>\n",
       "      <td>0.138939</td>\n",
       "      <td>0.389306</td>\n",
       "      <td>-0.005171</td>\n",
       "      <td>0.712671</td>\n",
       "      <td>0.375665</td>\n",
       "      <td>0.047342</td>\n",
       "      <td>0.014089</td>\n",
       "      <td>0.034463</td>\n",
       "      <td>7.55</td>\n",
       "      <td>0</td>\n",
       "    </tr>\n",
       "    <tr>\n",
       "      <th>1</th>\n",
       "      <td>161690.0</td>\n",
       "      <td>-0.309358</td>\n",
       "      <td>-0.927249</td>\n",
       "      <td>0.121460</td>\n",
       "      <td>-2.998590</td>\n",
       "      <td>0.231734</td>\n",
       "      <td>-0.498238</td>\n",
       "      <td>-0.274123</td>\n",
       "      <td>-0.098303</td>\n",
       "      <td>-1.729217</td>\n",
       "      <td>...</td>\n",
       "      <td>-0.076128</td>\n",
       "      <td>0.085571</td>\n",
       "      <td>0.059067</td>\n",
       "      <td>0.042736</td>\n",
       "      <td>-0.615404</td>\n",
       "      <td>-0.382501</td>\n",
       "      <td>0.041519</td>\n",
       "      <td>0.280169</td>\n",
       "      <td>25.00</td>\n",
       "      <td>0</td>\n",
       "    </tr>\n",
       "    <tr>\n",
       "      <th>2</th>\n",
       "      <td>74806.0</td>\n",
       "      <td>-0.308182</td>\n",
       "      <td>0.596041</td>\n",
       "      <td>1.476783</td>\n",
       "      <td>0.144043</td>\n",
       "      <td>-0.216841</td>\n",
       "      <td>-0.100467</td>\n",
       "      <td>0.304247</td>\n",
       "      <td>-0.111437</td>\n",
       "      <td>-1.745713</td>\n",
       "      <td>...</td>\n",
       "      <td>-0.212071</td>\n",
       "      <td>-0.045430</td>\n",
       "      <td>0.014398</td>\n",
       "      <td>0.069243</td>\n",
       "      <td>-0.530685</td>\n",
       "      <td>-0.410645</td>\n",
       "      <td>0.101699</td>\n",
       "      <td>0.176868</td>\n",
       "      <td>20.77</td>\n",
       "      <td>0</td>\n",
       "    </tr>\n",
       "    <tr>\n",
       "      <th>3</th>\n",
       "      <td>133070.0</td>\n",
       "      <td>-0.613419</td>\n",
       "      <td>0.180235</td>\n",
       "      <td>0.801833</td>\n",
       "      <td>-0.418590</td>\n",
       "      <td>0.488010</td>\n",
       "      <td>0.554134</td>\n",
       "      <td>0.087930</td>\n",
       "      <td>0.114371</td>\n",
       "      <td>0.947902</td>\n",
       "      <td>...</td>\n",
       "      <td>0.003537</td>\n",
       "      <td>0.237389</td>\n",
       "      <td>-0.182922</td>\n",
       "      <td>-0.051570</td>\n",
       "      <td>-0.919172</td>\n",
       "      <td>-0.504011</td>\n",
       "      <td>-0.081727</td>\n",
       "      <td>-0.009645</td>\n",
       "      <td>74.82</td>\n",
       "      <td>0</td>\n",
       "    </tr>\n",
       "    <tr>\n",
       "      <th>4</th>\n",
       "      <td>49965.0</td>\n",
       "      <td>-1.543238</td>\n",
       "      <td>1.491762</td>\n",
       "      <td>0.714397</td>\n",
       "      <td>-0.756657</td>\n",
       "      <td>-0.460294</td>\n",
       "      <td>-0.225442</td>\n",
       "      <td>-0.125885</td>\n",
       "      <td>1.086177</td>\n",
       "      <td>-0.433652</td>\n",
       "      <td>...</td>\n",
       "      <td>-0.058679</td>\n",
       "      <td>-0.180161</td>\n",
       "      <td>0.051298</td>\n",
       "      <td>0.035290</td>\n",
       "      <td>-0.213853</td>\n",
       "      <td>0.314645</td>\n",
       "      <td>0.172725</td>\n",
       "      <td>0.100800</td>\n",
       "      <td>4.00</td>\n",
       "      <td>0</td>\n",
       "    </tr>\n",
       "  </tbody>\n",
       "</table>\n",
       "<p>5 rows × 31 columns</p>\n",
       "</div>"
      ],
      "text/plain": [
       "       Time        V1        V2        V3        V4        V5        V6  \\\n",
       "0   58563.0  1.135369  0.469210  1.210951  2.586250 -0.643204 -0.495586   \n",
       "1  161690.0 -0.309358 -0.927249  0.121460 -2.998590  0.231734 -0.498238   \n",
       "2   74806.0 -0.308182  0.596041  1.476783  0.144043 -0.216841 -0.100467   \n",
       "3  133070.0 -0.613419  0.180235  0.801833 -0.418590  0.488010  0.554134   \n",
       "4   49965.0 -1.543238  1.491762  0.714397 -0.756657 -0.460294 -0.225442   \n",
       "\n",
       "         V7        V8        V9  ...         V21       V22       V23  \\\n",
       "0 -0.193701 -0.042874 -0.515670  ...    0.138939  0.389306 -0.005171   \n",
       "1 -0.274123 -0.098303 -1.729217  ...   -0.076128  0.085571  0.059067   \n",
       "2  0.304247 -0.111437 -1.745713  ...   -0.212071 -0.045430  0.014398   \n",
       "3  0.087930  0.114371  0.947902  ...    0.003537  0.237389 -0.182922   \n",
       "4 -0.125885  1.086177 -0.433652  ...   -0.058679 -0.180161  0.051298   \n",
       "\n",
       "        V24       V25       V26       V27       V28  Amount  Class  \n",
       "0  0.712671  0.375665  0.047342  0.014089  0.034463    7.55      0  \n",
       "1  0.042736 -0.615404 -0.382501  0.041519  0.280169   25.00      0  \n",
       "2  0.069243 -0.530685 -0.410645  0.101699  0.176868   20.77      0  \n",
       "3 -0.051570 -0.919172 -0.504011 -0.081727 -0.009645   74.82      0  \n",
       "4  0.035290 -0.213853  0.314645  0.172725  0.100800    4.00      0  \n",
       "\n",
       "[5 rows x 31 columns]"
      ]
     },
     "execution_count": 19,
     "metadata": {},
     "output_type": "execute_result"
    }
   ],
   "source": [
    "df = pd.read_csv(\"./datasetes/credit/creditcard.csv\", low_memory=False)\n",
    "# df = pd.read_csv('creditcard.csv', low_memory=False)\n",
    "df = df.sample(frac=1).reset_index(drop=True)\n",
    "df.head()"
   ]
  },
  {
   "cell_type": "code",
   "execution_count": 20,
   "metadata": {},
   "outputs": [
    {
     "name": "stdout",
     "output_type": "stream",
     "text": [
      "We have 492 fraud data points and 284315 nonfraudulent data points.\n"
     ]
    }
   ],
   "source": [
    "frauds = df.loc[df['Class'] == 1]\n",
    "non_frauds = df.loc[df['Class'] == 0]\n",
    "print(\"We have\", len(frauds), \"fraud data points and\", len(non_frauds), \"nonfraudulent data points.\")"
   ]
  },
  {
   "cell_type": "code",
   "execution_count": 21,
   "metadata": {
    "collapsed": true
   },
   "outputs": [],
   "source": [
    "from sklearn import datasets, linear_model\n",
    "from sklearn.preprocessing import PolynomialFeatures\n",
    "from sklearn.model_selection import train_test_split"
   ]
  },
  {
   "cell_type": "code",
   "execution_count": 22,
   "metadata": {},
   "outputs": [
    {
     "name": "stdout",
     "output_type": "stream",
     "text": [
      "X and y sizes, respectively: 284807 284807\n",
      "Train and test sizes, respectively: 185124 185124 | 99683 99683\n",
      "Total number of frauds: 492 0.001727485630620034\n",
      "Number of frauds on y_test: 172 0.001725469739072861\n",
      "Number of frauds on y_train: 320 0.0017285711198980144\n"
     ]
    }
   ],
   "source": [
    "X = df.iloc[:,:-1]\n",
    "y = df['Class']\n",
    "\n",
    "print(\"X and y sizes, respectively:\", len(X), len(y))\n",
    "\n",
    "X_train, X_test, y_train, y_test = train_test_split(X, y, test_size=0.35, random_state=500)\n",
    "print(\"Train and test sizes, respectively:\", len(X_train), len(y_train), \"|\", len(X_test), len(y_test))\n",
    "print(\"Total number of frauds:\", len(y.loc[df['Class'] == 1]), len(y.loc[df['Class'] == 1])/len(y))\n",
    "print(\"Number of frauds on y_test:\", len(y_test.loc[df['Class'] == 1]), len(y_test.loc[df['Class'] == 1]) / len(y_test))\n",
    "print(\"Number of frauds on y_train:\", len(y_train.loc[df['Class'] == 1]), len(y_train.loc[df['Class'] == 1])/len(y_train))\n",
    "\n",
    "X_train = X_train.values\n",
    "X_test = X_test.values\n",
    "y_train = y_train.values\n",
    "y_test = y_test.values"
   ]
  },
  {
   "cell_type": "code",
   "execution_count": 23,
   "metadata": {},
   "outputs": [
    {
     "data": {
      "text/plain": [
       "565.3806818181819"
      ]
     },
     "execution_count": 23,
     "metadata": {},
     "output_type": "execute_result"
    }
   ],
   "source": [
    "(99683-176)/176"
   ]
  },
  {
   "cell_type": "code",
   "execution_count": null,
   "metadata": {
    "collapsed": true
   },
   "outputs": [],
   "source": []
  },
  {
   "cell_type": "code",
   "execution_count": 24,
   "metadata": {},
   "outputs": [
    {
     "data": {
      "text/plain": [
       "<module 'EnhancedForest' from 'C:\\\\github_workspace\\\\ecoForest\\\\EnhancedForest.py'>"
      ]
     },
     "execution_count": 24,
     "metadata": {},
     "output_type": "execute_result"
    }
   ],
   "source": [
    "import EnhancedForest\n",
    "import time\n",
    "import datetime\n",
    "import importlib\n",
    "import numpy as np\n",
    "importlib.reload(EnhancedForest)"
   ]
  },
  {
   "cell_type": "code",
   "execution_count": 25,
   "metadata": {
    "collapsed": true
   },
   "outputs": [],
   "source": [
    "from sklearn import metrics\n",
    "def acc_metrix_mult(a, p):\n",
    "#     print(p)\n",
    "    return \"acc\", metrics.accuracy_score(a, p)\n",
    "def roc_metrix_mult(a, p):\n",
    "#     print(p)\n",
    "    if len(set(a)) == 1:\n",
    "#         return \"acc\", metrics.accuracy_score(a, p)\n",
    "        return \"acc\", len(a) - len(np.where(a == p)[0])\n",
    "    return \"roc\", metrics.roc_auc_score(a, p)\n",
    "def confusion_matrix_mult(a, p):\n",
    "    if len(set(a)) == 1:\n",
    "        return len(a), len(a) - len(np.where(a == p)[0])\n",
    "    return metrics.confusion_matrix(a, p)"
   ]
  },
  {
   "cell_type": "code",
   "execution_count": null,
   "metadata": {
    "collapsed": true
   },
   "outputs": [],
   "source": []
  },
  {
   "cell_type": "code",
   "execution_count": 28,
   "metadata": {},
   "outputs": [
    {
     "name": "stdout",
     "output_type": "stream",
     "text": [
      "\n",
      "layer: 1\n"
     ]
    },
    {
     "name": "stderr",
     "output_type": "stream",
     "text": [
      "C:\\github_workspace\\ecoForest\\EnhancedForest.py:100: RuntimeWarning: invalid value encountered in true_divide\n",
      "  node_id_freq = node_id_cnt_m/node_id_cnt_a\n",
      "C:\\github_workspace\\ecoForest\\EnhancedForest.py:101: RuntimeWarning: divide by zero encountered in true_divide\n",
      "  node_id_lift = node_id_freq/node_id_y_prob\n",
      "C:\\github_workspace\\ecoForest\\EnhancedForest.py:106: RuntimeWarning: invalid value encountered in true_divide\n",
      "  # node_id_score = 2*node_id_freq*node_id_lift/(node_id_freq+node_id_lift)\n",
      "C:\\github_workspace\\ecoForest\\EnhancedForest.py:100: RuntimeWarning: invalid value encountered in true_divide\n",
      "  node_id_freq = node_id_cnt_m/node_id_cnt_a\n",
      "C:\\github_workspace\\ecoForest\\EnhancedForest.py:101: RuntimeWarning: divide by zero encountered in true_divide\n",
      "  node_id_lift = node_id_freq/node_id_y_prob\n",
      "C:\\github_workspace\\ecoForest\\EnhancedForest.py:106: RuntimeWarning: invalid value encountered in true_divide\n",
      "  # node_id_score = 2*node_id_freq*node_id_lift/(node_id_freq+node_id_lift)\n",
      "C:\\github_workspace\\ecoForest\\EnhancedForest.py:100: RuntimeWarning: invalid value encountered in true_divide\n",
      "  node_id_freq = node_id_cnt_m/node_id_cnt_a\n",
      "C:\\github_workspace\\ecoForest\\EnhancedForest.py:101: RuntimeWarning: divide by zero encountered in true_divide\n",
      "  node_id_lift = node_id_freq/node_id_y_prob\n",
      "C:\\github_workspace\\ecoForest\\EnhancedForest.py:106: RuntimeWarning: invalid value encountered in true_divide\n",
      "  # node_id_score = 2*node_id_freq*node_id_lift/(node_id_freq+node_id_lift)\n"
     ]
    },
    {
     "name": "stdout",
     "output_type": "stream",
     "text": [
      "[train - p:0/1:0|n:185124/1:320] \n",
      "test loss: y_true 99683 99683, y_pred:99683 99683\n",
      "1 [p:0,1:320/np:99683] \n",
      "train loss ('roc', 0.99768279839722085)\n",
      "pass train loss (0, 0)\n",
      "pass train loss now (0, 0)\n",
      "vaild loss ('roc', 0.96096496152680677)\n",
      "pass vaild loss (0, 0)\n",
      "pass vaild loss now (0, 0)\n",
      "test loss ('roc', 0.98480695601491286)\n",
      "pass test loss (0, 0)\n",
      "pass test loss now (0, 0)\n",
      "2018-03-23 14:32:09\n",
      "best test loss: 0.984806956015\n",
      "\n",
      "layer: 2\n"
     ]
    },
    {
     "name": "stderr",
     "output_type": "stream",
     "text": [
      "C:\\github_workspace\\ecoForest\\EnhancedForest.py:100: RuntimeWarning: invalid value encountered in true_divide\n",
      "  node_id_freq = node_id_cnt_m/node_id_cnt_a\n",
      "C:\\github_workspace\\ecoForest\\EnhancedForest.py:101: RuntimeWarning: divide by zero encountered in true_divide\n",
      "  node_id_lift = node_id_freq/node_id_y_prob\n",
      "C:\\github_workspace\\ecoForest\\EnhancedForest.py:106: RuntimeWarning: invalid value encountered in true_divide\n",
      "  # node_id_score = 2*node_id_freq*node_id_lift/(node_id_freq+node_id_lift)\n",
      "C:\\github_workspace\\ecoForest\\EnhancedForest.py:100: RuntimeWarning: invalid value encountered in true_divide\n",
      "  node_id_freq = node_id_cnt_m/node_id_cnt_a\n",
      "C:\\github_workspace\\ecoForest\\EnhancedForest.py:101: RuntimeWarning: divide by zero encountered in true_divide\n",
      "  node_id_lift = node_id_freq/node_id_y_prob\n",
      "C:\\github_workspace\\ecoForest\\EnhancedForest.py:106: RuntimeWarning: invalid value encountered in true_divide\n",
      "  # node_id_score = 2*node_id_freq*node_id_lift/(node_id_freq+node_id_lift)\n",
      "C:\\github_workspace\\ecoForest\\EnhancedForest.py:100: RuntimeWarning: invalid value encountered in true_divide\n",
      "  node_id_freq = node_id_cnt_m/node_id_cnt_a\n",
      "C:\\github_workspace\\ecoForest\\EnhancedForest.py:101: RuntimeWarning: divide by zero encountered in true_divide\n",
      "  node_id_lift = node_id_freq/node_id_y_prob\n",
      "C:\\github_workspace\\ecoForest\\EnhancedForest.py:106: RuntimeWarning: invalid value encountered in true_divide\n",
      "  # node_id_score = 2*node_id_freq*node_id_lift/(node_id_freq+node_id_lift)\n"
     ]
    },
    {
     "name": "stdout",
     "output_type": "stream",
     "text": [
      "[train - p:2/1:2|n:185122/1:318] test loss: y_true 99683 99683, y_pred:99683 99683\n",
      "2 [p:0,1:318/np:99683] \n",
      "train loss ('roc', 0.99818542550485923)\n",
      "pass train loss ('acc', 2)\n",
      "pass train loss now ('acc', 2)\n",
      "vaild loss ('roc', 0.96229424992153856)\n",
      "pass vaild loss ('acc', 2)\n",
      "pass vaild loss now ('acc', 2)\n",
      "test loss ('roc', 0.98452113976881839)\n",
      "pass test loss (0, 0)\n",
      "pass test loss now (0, 0)\n",
      "2018-03-23 14:32:39\n",
      "best test loss: 0.984521139769\n",
      "\n",
      "layer: 3\n"
     ]
    },
    {
     "name": "stderr",
     "output_type": "stream",
     "text": [
      "C:\\github_workspace\\ecoForest\\EnhancedForest.py:100: RuntimeWarning: invalid value encountered in true_divide\n",
      "  node_id_freq = node_id_cnt_m/node_id_cnt_a\n",
      "C:\\github_workspace\\ecoForest\\EnhancedForest.py:101: RuntimeWarning: divide by zero encountered in true_divide\n",
      "  node_id_lift = node_id_freq/node_id_y_prob\n",
      "C:\\github_workspace\\ecoForest\\EnhancedForest.py:106: RuntimeWarning: invalid value encountered in true_divide\n",
      "  # node_id_score = 2*node_id_freq*node_id_lift/(node_id_freq+node_id_lift)\n",
      "C:\\github_workspace\\ecoForest\\EnhancedForest.py:100: RuntimeWarning: invalid value encountered in true_divide\n",
      "  node_id_freq = node_id_cnt_m/node_id_cnt_a\n",
      "C:\\github_workspace\\ecoForest\\EnhancedForest.py:101: RuntimeWarning: divide by zero encountered in true_divide\n",
      "  node_id_lift = node_id_freq/node_id_y_prob\n",
      "C:\\github_workspace\\ecoForest\\EnhancedForest.py:106: RuntimeWarning: invalid value encountered in true_divide\n",
      "  # node_id_score = 2*node_id_freq*node_id_lift/(node_id_freq+node_id_lift)\n",
      "C:\\github_workspace\\ecoForest\\EnhancedForest.py:100: RuntimeWarning: invalid value encountered in true_divide\n",
      "  node_id_freq = node_id_cnt_m/node_id_cnt_a\n",
      "C:\\github_workspace\\ecoForest\\EnhancedForest.py:101: RuntimeWarning: divide by zero encountered in true_divide\n",
      "  node_id_lift = node_id_freq/node_id_y_prob\n",
      "C:\\github_workspace\\ecoForest\\EnhancedForest.py:106: RuntimeWarning: invalid value encountered in true_divide\n",
      "  # node_id_score = 2*node_id_freq*node_id_lift/(node_id_freq+node_id_lift)\n"
     ]
    },
    {
     "name": "stdout",
     "output_type": "stream",
     "text": [
      "[train - p:6/1:6|n:185116/1:312] test loss: y_true 99683 99683, y_pred:99683 99683\n",
      "3 [p:0,1:312/np:99683] \n",
      "train loss ('roc', 0.9978636656944655)\n",
      "pass train loss ('acc', 8)\n",
      "pass train loss now ('acc', 6)\n",
      "vaild loss ('roc', 0.9616861478918205)\n",
      "pass vaild loss ('acc', 8)\n",
      "pass vaild loss now ('acc', 6)\n",
      "test loss ('roc', 0.98400837070016567)\n",
      "pass test loss (0, 0)\n",
      "pass test loss now (0, 0)\n",
      "2018-03-23 14:33:08\n",
      "best test loss: 0.9840083707\n",
      "\n",
      "layer: 4\n"
     ]
    },
    {
     "name": "stderr",
     "output_type": "stream",
     "text": [
      "C:\\github_workspace\\ecoForest\\EnhancedForest.py:100: RuntimeWarning: invalid value encountered in true_divide\n",
      "  node_id_freq = node_id_cnt_m/node_id_cnt_a\n",
      "C:\\github_workspace\\ecoForest\\EnhancedForest.py:101: RuntimeWarning: divide by zero encountered in true_divide\n",
      "  node_id_lift = node_id_freq/node_id_y_prob\n",
      "C:\\github_workspace\\ecoForest\\EnhancedForest.py:106: RuntimeWarning: invalid value encountered in true_divide\n",
      "  # node_id_score = 2*node_id_freq*node_id_lift/(node_id_freq+node_id_lift)\n",
      "C:\\github_workspace\\ecoForest\\EnhancedForest.py:100: RuntimeWarning: invalid value encountered in true_divide\n",
      "  node_id_freq = node_id_cnt_m/node_id_cnt_a\n",
      "C:\\github_workspace\\ecoForest\\EnhancedForest.py:101: RuntimeWarning: divide by zero encountered in true_divide\n",
      "  node_id_lift = node_id_freq/node_id_y_prob\n",
      "C:\\github_workspace\\ecoForest\\EnhancedForest.py:106: RuntimeWarning: invalid value encountered in true_divide\n",
      "  # node_id_score = 2*node_id_freq*node_id_lift/(node_id_freq+node_id_lift)\n",
      "C:\\github_workspace\\ecoForest\\EnhancedForest.py:100: RuntimeWarning: invalid value encountered in true_divide\n",
      "  node_id_freq = node_id_cnt_m/node_id_cnt_a\n",
      "C:\\github_workspace\\ecoForest\\EnhancedForest.py:101: RuntimeWarning: divide by zero encountered in true_divide\n",
      "  node_id_lift = node_id_freq/node_id_y_prob\n",
      "C:\\github_workspace\\ecoForest\\EnhancedForest.py:106: RuntimeWarning: invalid value encountered in true_divide\n",
      "  # node_id_score = 2*node_id_freq*node_id_lift/(node_id_freq+node_id_lift)\n"
     ]
    },
    {
     "name": "stdout",
     "output_type": "stream",
     "text": [
      "[train - p:3/1:3|n:185113/1:309] test loss: y_true 99681 99683, y_pred:99681 99683\n",
      "4 [p:2,1:309/np:99681] \n",
      "train loss ('roc', 0.99879277504815922)\n",
      "pass train loss ('acc', 11)\n",
      "pass train loss now ('acc', 3)\n",
      "vaild loss ('roc', 0.96364949487024087)\n",
      "pass vaild loss ('acc', 11)\n",
      "pass vaild loss now ('acc', 3)\n",
      "test loss ('roc', 0.98376164093580398)\n",
      "pass test loss ('acc', 2)\n",
      "pass test loss now ('acc', 2)\n",
      "2018-03-23 14:33:38\n",
      "best test loss: 0.983761640936\n",
      "\n",
      "layer: 5\n"
     ]
    },
    {
     "name": "stderr",
     "output_type": "stream",
     "text": [
      "C:\\github_workspace\\ecoForest\\EnhancedForest.py:100: RuntimeWarning: invalid value encountered in true_divide\n",
      "  node_id_freq = node_id_cnt_m/node_id_cnt_a\n",
      "C:\\github_workspace\\ecoForest\\EnhancedForest.py:101: RuntimeWarning: divide by zero encountered in true_divide\n",
      "  node_id_lift = node_id_freq/node_id_y_prob\n",
      "C:\\github_workspace\\ecoForest\\EnhancedForest.py:106: RuntimeWarning: invalid value encountered in true_divide\n",
      "  # node_id_score = 2*node_id_freq*node_id_lift/(node_id_freq+node_id_lift)\n",
      "C:\\github_workspace\\ecoForest\\EnhancedForest.py:100: RuntimeWarning: invalid value encountered in true_divide\n",
      "  node_id_freq = node_id_cnt_m/node_id_cnt_a\n",
      "C:\\github_workspace\\ecoForest\\EnhancedForest.py:101: RuntimeWarning: divide by zero encountered in true_divide\n",
      "  node_id_lift = node_id_freq/node_id_y_prob\n",
      "C:\\github_workspace\\ecoForest\\EnhancedForest.py:106: RuntimeWarning: invalid value encountered in true_divide\n",
      "  # node_id_score = 2*node_id_freq*node_id_lift/(node_id_freq+node_id_lift)\n",
      "C:\\github_workspace\\ecoForest\\EnhancedForest.py:100: RuntimeWarning: invalid value encountered in true_divide\n",
      "  node_id_freq = node_id_cnt_m/node_id_cnt_a\n",
      "C:\\github_workspace\\ecoForest\\EnhancedForest.py:101: RuntimeWarning: divide by zero encountered in true_divide\n",
      "  node_id_lift = node_id_freq/node_id_y_prob\n",
      "C:\\github_workspace\\ecoForest\\EnhancedForest.py:106: RuntimeWarning: invalid value encountered in true_divide\n",
      "  # node_id_score = 2*node_id_freq*node_id_lift/(node_id_freq+node_id_lift)\n"
     ]
    },
    {
     "name": "stdout",
     "output_type": "stream",
     "text": [
      "[train - p:8/1:8|n:185105/1:301] test loss: y_true 99679 99683, y_pred:99679 99683\n",
      "5 [p:2,1:301/np:99679] \n",
      "train loss ('roc', 0.99857555166554834)\n",
      "pass train loss ('acc', 19)\n",
      "pass train loss now ('acc', 8)\n",
      "vaild loss ('roc', 0.97077067967955255)\n",
      "pass vaild loss ('acc', 19)\n",
      "pass vaild loss now ('acc', 8)\n",
      "test loss ('roc', 0.98457813358485791)\n",
      "pass test loss ('acc', 4)\n",
      "pass test loss now ('acc', 2)\n",
      "2018-03-23 14:34:07\n",
      "best test loss: 0.984578133585\n",
      "\n",
      "layer: 6\n"
     ]
    },
    {
     "name": "stderr",
     "output_type": "stream",
     "text": [
      "C:\\github_workspace\\ecoForest\\EnhancedForest.py:100: RuntimeWarning: invalid value encountered in true_divide\n",
      "  node_id_freq = node_id_cnt_m/node_id_cnt_a\n",
      "C:\\github_workspace\\ecoForest\\EnhancedForest.py:101: RuntimeWarning: divide by zero encountered in true_divide\n",
      "  node_id_lift = node_id_freq/node_id_y_prob\n",
      "C:\\github_workspace\\ecoForest\\EnhancedForest.py:106: RuntimeWarning: invalid value encountered in true_divide\n",
      "  # node_id_score = 2*node_id_freq*node_id_lift/(node_id_freq+node_id_lift)\n",
      "C:\\github_workspace\\ecoForest\\EnhancedForest.py:100: RuntimeWarning: invalid value encountered in true_divide\n",
      "  node_id_freq = node_id_cnt_m/node_id_cnt_a\n",
      "C:\\github_workspace\\ecoForest\\EnhancedForest.py:101: RuntimeWarning: divide by zero encountered in true_divide\n",
      "  node_id_lift = node_id_freq/node_id_y_prob\n",
      "C:\\github_workspace\\ecoForest\\EnhancedForest.py:106: RuntimeWarning: invalid value encountered in true_divide\n",
      "  # node_id_score = 2*node_id_freq*node_id_lift/(node_id_freq+node_id_lift)\n",
      "C:\\github_workspace\\ecoForest\\EnhancedForest.py:100: RuntimeWarning: invalid value encountered in true_divide\n",
      "  node_id_freq = node_id_cnt_m/node_id_cnt_a\n",
      "C:\\github_workspace\\ecoForest\\EnhancedForest.py:101: RuntimeWarning: divide by zero encountered in true_divide\n",
      "  node_id_lift = node_id_freq/node_id_y_prob\n",
      "C:\\github_workspace\\ecoForest\\EnhancedForest.py:106: RuntimeWarning: invalid value encountered in true_divide\n",
      "  # node_id_score = 2*node_id_freq*node_id_lift/(node_id_freq+node_id_lift)\n"
     ]
    },
    {
     "name": "stdout",
     "output_type": "stream",
     "text": [
      "[train - p:0/1:0|n:185105/1:301] test loss: y_true 99679 99683, y_pred:99679 99683\n",
      "6 [p:0,1:301/np:99679] \n",
      "train loss ('roc', 0.9988975820328565)\n",
      "pass train loss ('acc', 19)\n",
      "pass train loss now (0, 0)\n",
      "vaild loss ('roc', 0.96483528664152296)\n",
      "pass vaild loss ('acc', 19)\n",
      "pass vaild loss now (0, 0)\n",
      "test loss ('roc', 0.9832959333933633)\n",
      "pass test loss ('acc', 4)\n",
      "pass test loss now (0, 0)\n",
      "2018-03-23 14:34:37\n",
      "best test loss: 0.983295933393\n",
      "\n",
      "layer: 7\n"
     ]
    },
    {
     "name": "stderr",
     "output_type": "stream",
     "text": [
      "C:\\github_workspace\\ecoForest\\EnhancedForest.py:100: RuntimeWarning: invalid value encountered in true_divide\n",
      "  node_id_freq = node_id_cnt_m/node_id_cnt_a\n",
      "C:\\github_workspace\\ecoForest\\EnhancedForest.py:101: RuntimeWarning: divide by zero encountered in true_divide\n",
      "  node_id_lift = node_id_freq/node_id_y_prob\n",
      "C:\\github_workspace\\ecoForest\\EnhancedForest.py:106: RuntimeWarning: invalid value encountered in true_divide\n",
      "  # node_id_score = 2*node_id_freq*node_id_lift/(node_id_freq+node_id_lift)\n",
      "C:\\github_workspace\\ecoForest\\EnhancedForest.py:100: RuntimeWarning: invalid value encountered in true_divide\n",
      "  node_id_freq = node_id_cnt_m/node_id_cnt_a\n",
      "C:\\github_workspace\\ecoForest\\EnhancedForest.py:101: RuntimeWarning: divide by zero encountered in true_divide\n",
      "  node_id_lift = node_id_freq/node_id_y_prob\n",
      "C:\\github_workspace\\ecoForest\\EnhancedForest.py:106: RuntimeWarning: invalid value encountered in true_divide\n",
      "  # node_id_score = 2*node_id_freq*node_id_lift/(node_id_freq+node_id_lift)\n",
      "C:\\github_workspace\\ecoForest\\EnhancedForest.py:100: RuntimeWarning: invalid value encountered in true_divide\n",
      "  node_id_freq = node_id_cnt_m/node_id_cnt_a\n",
      "C:\\github_workspace\\ecoForest\\EnhancedForest.py:101: RuntimeWarning: divide by zero encountered in true_divide\n",
      "  node_id_lift = node_id_freq/node_id_y_prob\n",
      "C:\\github_workspace\\ecoForest\\EnhancedForest.py:106: RuntimeWarning: invalid value encountered in true_divide\n",
      "  # node_id_score = 2*node_id_freq*node_id_lift/(node_id_freq+node_id_lift)\n"
     ]
    },
    {
     "name": "stdout",
     "output_type": "stream",
     "text": [
      "[train - p:1/1:1|n:185104/1:300] test loss: y_true 99679 99683, y_pred:99679 99683\n",
      "7 [p:0,1:300/np:99679] \n",
      "train loss ('roc', 0.99851090547282528)\n",
      "pass train loss ('acc', 20)\n",
      "pass train loss now ('acc', 1)\n",
      "vaild loss ('roc', 0.96935254715807018)\n",
      "pass vaild loss ('acc', 20)\n",
      "pass vaild loss now ('acc', 1)\n",
      "test loss ('roc', 0.98332608081425155)\n",
      "pass test loss ('acc', 4)\n",
      "pass test loss now (0, 0)\n",
      "2018-03-23 14:35:07\n",
      "best test loss: 0.983326080814\n",
      "\n",
      "layer: 8\n"
     ]
    },
    {
     "name": "stderr",
     "output_type": "stream",
     "text": [
      "C:\\github_workspace\\ecoForest\\EnhancedForest.py:100: RuntimeWarning: invalid value encountered in true_divide\n",
      "  node_id_freq = node_id_cnt_m/node_id_cnt_a\n",
      "C:\\github_workspace\\ecoForest\\EnhancedForest.py:101: RuntimeWarning: divide by zero encountered in true_divide\n",
      "  node_id_lift = node_id_freq/node_id_y_prob\n",
      "C:\\github_workspace\\ecoForest\\EnhancedForest.py:106: RuntimeWarning: invalid value encountered in true_divide\n",
      "  # node_id_score = 2*node_id_freq*node_id_lift/(node_id_freq+node_id_lift)\n",
      "C:\\github_workspace\\ecoForest\\EnhancedForest.py:100: RuntimeWarning: invalid value encountered in true_divide\n",
      "  node_id_freq = node_id_cnt_m/node_id_cnt_a\n",
      "C:\\github_workspace\\ecoForest\\EnhancedForest.py:101: RuntimeWarning: divide by zero encountered in true_divide\n",
      "  node_id_lift = node_id_freq/node_id_y_prob\n",
      "C:\\github_workspace\\ecoForest\\EnhancedForest.py:106: RuntimeWarning: invalid value encountered in true_divide\n",
      "  # node_id_score = 2*node_id_freq*node_id_lift/(node_id_freq+node_id_lift)\n",
      "C:\\github_workspace\\ecoForest\\EnhancedForest.py:100: RuntimeWarning: invalid value encountered in true_divide\n",
      "  node_id_freq = node_id_cnt_m/node_id_cnt_a\n",
      "C:\\github_workspace\\ecoForest\\EnhancedForest.py:101: RuntimeWarning: divide by zero encountered in true_divide\n",
      "  node_id_lift = node_id_freq/node_id_y_prob\n",
      "C:\\github_workspace\\ecoForest\\EnhancedForest.py:106: RuntimeWarning: invalid value encountered in true_divide\n",
      "  # node_id_score = 2*node_id_freq*node_id_lift/(node_id_freq+node_id_lift)\n"
     ]
    },
    {
     "name": "stdout",
     "output_type": "stream",
     "text": [
      "[train - p:1/1:1|n:185103/1:299] test loss: y_true 99678 99683, y_pred:99678 99683\n",
      "8 [p:1,1:299/np:99678] \n",
      "train loss ('roc', 0.9959529589456938)\n",
      "pass train loss ('acc', 21)\n",
      "pass train loss now ('acc', 1)\n",
      "vaild loss ('roc', 0.96453474863909872)\n",
      "pass vaild loss ('acc', 21)\n",
      "pass vaild loss now ('acc', 1)\n",
      "test loss ('roc', 0.98363176164000099)\n",
      "pass test loss ('acc', 5)\n",
      "pass test loss now ('acc', 1)\n",
      "2018-03-23 14:35:36\n",
      "best test loss: 0.98363176164\n",
      "\n",
      "layer: 9\n"
     ]
    },
    {
     "name": "stderr",
     "output_type": "stream",
     "text": [
      "C:\\github_workspace\\ecoForest\\EnhancedForest.py:100: RuntimeWarning: invalid value encountered in true_divide\n",
      "  node_id_freq = node_id_cnt_m/node_id_cnt_a\n",
      "C:\\github_workspace\\ecoForest\\EnhancedForest.py:101: RuntimeWarning: divide by zero encountered in true_divide\n",
      "  node_id_lift = node_id_freq/node_id_y_prob\n",
      "C:\\github_workspace\\ecoForest\\EnhancedForest.py:106: RuntimeWarning: invalid value encountered in true_divide\n",
      "  # node_id_score = 2*node_id_freq*node_id_lift/(node_id_freq+node_id_lift)\n",
      "C:\\github_workspace\\ecoForest\\EnhancedForest.py:100: RuntimeWarning: invalid value encountered in true_divide\n",
      "  node_id_freq = node_id_cnt_m/node_id_cnt_a\n",
      "C:\\github_workspace\\ecoForest\\EnhancedForest.py:101: RuntimeWarning: divide by zero encountered in true_divide\n",
      "  node_id_lift = node_id_freq/node_id_y_prob\n",
      "C:\\github_workspace\\ecoForest\\EnhancedForest.py:106: RuntimeWarning: invalid value encountered in true_divide\n",
      "  # node_id_score = 2*node_id_freq*node_id_lift/(node_id_freq+node_id_lift)\n",
      "C:\\github_workspace\\ecoForest\\EnhancedForest.py:100: RuntimeWarning: invalid value encountered in true_divide\n",
      "  node_id_freq = node_id_cnt_m/node_id_cnt_a\n",
      "C:\\github_workspace\\ecoForest\\EnhancedForest.py:101: RuntimeWarning: divide by zero encountered in true_divide\n",
      "  node_id_lift = node_id_freq/node_id_y_prob\n",
      "C:\\github_workspace\\ecoForest\\EnhancedForest.py:106: RuntimeWarning: invalid value encountered in true_divide\n",
      "  # node_id_score = 2*node_id_freq*node_id_lift/(node_id_freq+node_id_lift)\n"
     ]
    },
    {
     "name": "stdout",
     "output_type": "stream",
     "text": [
      "[train - p:0/1:0|n:185103/1:299] test loss: y_true 99678 99683, y_pred:99678 99683\n",
      "9 [p:0,1:299/np:99678] \n",
      "train loss ('roc', 0.99759118106209832)\n",
      "pass train loss ('acc', 21)\n",
      "pass train loss now (0, 0)\n",
      "vaild loss ('roc', 0.96036857799344166)\n",
      "pass vaild loss ('acc', 21)\n",
      "pass vaild loss now (0, 0)\n",
      "test loss ('roc', 0.98546672297301241)\n",
      "pass test loss ('acc', 5)\n",
      "pass test loss now (0, 0)\n",
      "2018-03-23 14:36:06\n",
      "best test loss: 0.985466722973\n"
     ]
    }
   ],
   "source": [
    "### stackplot\n",
    "pass_data_len = []\n",
    "pass_data_pos_len = []\n",
    "### stackplot\n",
    "\n",
    "# 统计信息\n",
    "train_loss_lt = []\n",
    "pass_train_loss_lt = []\n",
    "pass_train_loss_lt_now = []\n",
    "vaild_loss_lt = []\n",
    "pass_vaild_loss_lt = []\n",
    "pass_vaild_loss_lt_now = []\n",
    "test_loss_lt = []\n",
    "pass_test_loss_lt = []\n",
    "pass_test_loss_lt_now = []\n",
    "pass_data_rate_lt = []\n",
    "pass_data_rate_train_lt = []\n",
    "\n",
    "# 数据\n",
    "X = X_train.copy()\n",
    "y = y_train.copy()\n",
    "\n",
    "X_test = X_test.copy()\n",
    "test_y = np.array(([0.0] * len(X_test)))\n",
    "all_data_mask = np.array([False] * len(X_test))\n",
    "data_mask = np.array([False] * len(X_test))\n",
    "real_y = y_test.copy()\n",
    "\n",
    "# 不均衡数据进行layer\n",
    "X_train_np = X\n",
    "y_train_np = y\n",
    "maxlayer = 100\n",
    "layer = 0\n",
    "\n",
    "# 不降低不更新\n",
    "last_train_loss = 0\n",
    "last_vaild_loss = 0\n",
    "\n",
    "enhancedDTree = EnhancedForest.EnhancedForest(len(X_train), len(X_test), isLRStacker=False)\n",
    "counter = 0\n",
    "early_stop = 0\n",
    "early_stop_up = 0\n",
    "\n",
    "while 1:\n",
    "    layer += 1\n",
    "    print()\n",
    "    print(\"layer:\", layer)\n",
    "    X = X_train_np\n",
    "    y = y_train_np\n",
    "    if layer == 1: isFirst = True\n",
    "    else: isFirst = False\n",
    "        \n",
    "    clf, data_mask, p_test = \\\n",
    "        enhancedDTree.TrainModelLayer(X, y, X_test, all_data_mask, test_y, real_y, verbose=False, \\\n",
    "                                      feval=roc_metrix_mult, dropout=None, criterion='gini', random_state=layer, \\\n",
    "                                      isFirst=isFirst, min_samples_leaf=10\\\n",
    "                                     )\n",
    "    feval=roc_metrix_mult\n",
    "    train_loss = enhancedDTree.getTrainLoss(feval)\n",
    "    pass_train_loss = enhancedDTree.getPassTrainLoss(feval)\n",
    "    pass_train_loss_now = enhancedDTree.getPassTrainLossNow(feval)\n",
    "    vaild_loss = enhancedDTree.getVaildLoss(feval)\n",
    "    pass_vaild_loss = enhancedDTree.getPassVaildLoss(feval)\n",
    "    pass_vaild_loss_now = enhancedDTree.getPassVaildLossNow(feval)\n",
    "    test_loss = enhancedDTree.getTestLoss(feval)\n",
    "    pass_test_loss = enhancedDTree.getPassTestLoss(feval)\n",
    "    pass_test_loss_now = enhancedDTree.getPassTestLossNow(feval)\n",
    "    \n",
    "#     if train_loss[1] < last_train_loss and vaild_loss[1] < last_vaild_loss: \n",
    "# #     if vaild_loss[1] < last_vaild_loss: \n",
    "#         if not isFirst: enhancedDTree.remove_last_items()\n",
    "# #         early_stop_up += 1\n",
    "#         if layer > maxlayer or early_stop > 5 or early_stop_up > 15:\n",
    "#             break\n",
    "#         continue\n",
    "        \n",
    "    last_train_loss = train_loss[1]\n",
    "    last_vaild_loss = vaild_loss[1]\n",
    "    \n",
    "    X_train_np = enhancedDTree.X_train_np\n",
    "    y_train_np = enhancedDTree.y_train_np\n",
    "    \n",
    "    # 打印信息\n",
    "    pass_data_id = data_mask[data_mask==True]\n",
    "#     all_false_data_index = np.where(all_data_mask == False)[0]\n",
    "    all_false_data_index = np.where(all_data_mask == False)[0]\n",
    "    X_test_np = X_test[all_false_data_index]\n",
    "    print(\"%d [p:%d,1:%d/np:%d] \" % (layer, len(pass_data_id),\\\n",
    "                                      len(np.where(y_train_np == 1)[0]), \\\n",
    "                                      len(X_test_np) - len(pass_data_id)))#, end=\"\")\n",
    "    ### stackplot\n",
    "    pass_data_len.append(len(pass_data_id))\n",
    "    pass_data_pos_len.append(len(np.where(y_train_np == 1)[0]))\n",
    "    ### stackplot\n",
    "    if len(pass_data_id) == 0: early_stop += 1\n",
    "        \n",
    "    print(\"train loss\", train_loss)\n",
    "    print(\"pass train loss\", pass_train_loss)\n",
    "    print(\"pass train loss now\", pass_train_loss_now)\n",
    "    print(\"vaild loss\", vaild_loss)\n",
    "    print(\"pass vaild loss\", pass_vaild_loss)\n",
    "    print(\"pass vaild loss now\", pass_vaild_loss_now)\n",
    "    print(\"test loss\", test_loss)\n",
    "    print(\"pass test loss\", pass_test_loss)\n",
    "    print(\"pass test loss now\", pass_test_loss_now)\n",
    "    \n",
    "    ts = time.time()\n",
    "    tm = datetime.datetime.fromtimestamp(ts).strftime('%Y-%m-%d %H:%M:%S')\n",
    "    print(tm)\n",
    "    \n",
    "    \n",
    "#     tmp_all_data_mask = all_false_data_index[~data_mask]\n",
    "#     test_y[tmp_all_data_mask] = p_test[~data_mask]\n",
    "    tmp_test_loss = metrics.roc_auc_score(y_test, test_y)\n",
    "#     tmp_test_loss = metrics.accuracy_score(y_sub, test_y)\n",
    "    best_test_y = test_y.copy()\n",
    "    print(\"best test loss:\", tmp_test_loss)\n",
    "    \n",
    "    train_loss_lt.append(train_loss[1])\n",
    "    pass_train_loss_lt.append(pass_train_loss[1])\n",
    "    pass_train_loss_lt_now.append(pass_train_loss_now[1])\n",
    "    vaild_loss_lt.append(vaild_loss[1])\n",
    "    pass_vaild_loss_lt.append(pass_vaild_loss[1])\n",
    "    pass_vaild_loss_lt_now.append(pass_vaild_loss_now[1])\n",
    "    test_loss_lt.append(test_loss[1])\n",
    "    pass_test_loss_lt.append(pass_test_loss[1])\n",
    "    pass_test_loss_lt_now.append(pass_test_loss_now[1])\n",
    "    if len(pass_data_rate_lt) == 0:\n",
    "        pass_data_rate_lt.append(len(data_mask[data_mask==True])/len(X_test))\n",
    "        pass_data_rate_train_lt.append(0)\n",
    "    else:\n",
    "        pass_data_rate_lt.append(pass_data_rate_lt[-1]+len(data_mask[data_mask==True])/len(X_test))\n",
    "        pass_data_rate_train_lt.append(pass_data_rate_train_lt[-1]+len(enhancedDTree.pass_data_y_list[-1])/len(X_train))\n",
    "    # 打印信息结束\n",
    "    \n",
    "#     if X_train_np.shape[0] < 10 or layer > maxlayer or y_train_np[y_train_np==1].shape[0] <= 10 or early_stop > 5:\n",
    "    if layer > maxlayer or early_stop > 5:\n",
    "        break\n",
    "        \n",
    "    all_data_mask[~all_data_mask] = data_mask"
   ]
  },
  {
   "cell_type": "code",
   "execution_count": null,
   "metadata": {
    "collapsed": true
   },
   "outputs": [],
   "source": []
  },
  {
   "cell_type": "code",
   "execution_count": null,
   "metadata": {
    "collapsed": true
   },
   "outputs": [],
   "source": []
  },
  {
   "cell_type": "code",
   "execution_count": 35,
   "metadata": {},
   "outputs": [
    {
     "name": "stdout",
     "output_type": "stream",
     "text": [
      "StratifiedKFold(n_splits=2, random_state=None, shuffle=False)\n"
     ]
    },
    {
     "data": {
      "text/plain": [
       "((array([1, 3]), array([0, 2])), (array([0, 2]), array([1, 3])))"
      ]
     },
     "execution_count": 35,
     "metadata": {},
     "output_type": "execute_result"
    }
   ],
   "source": [
    "from sklearn.model_selection import StratifiedKFold\n",
    "X = np.array([[1, 2], [3, 4], [1, 2], [3, 4]])\n",
    "y = np.array([0, 0, 1, 1])\n",
    "skf = StratifiedKFold(n_splits=2)\n",
    "skf.get_n_splits(X, y)\n",
    "print(skf)  \n",
    "StratifiedKFold(n_splits=2, random_state=None, shuffle=False)\n",
    "# >>> for train_index, test_index in skf.split(X, y):\n",
    "tuple(skf.split(X, y))"
   ]
  },
  {
   "cell_type": "code",
   "execution_count": null,
   "metadata": {
    "collapsed": true
   },
   "outputs": [],
   "source": []
  },
  {
   "cell_type": "code",
   "execution_count": null,
   "metadata": {
    "collapsed": true
   },
   "outputs": [],
   "source": []
  },
  {
   "cell_type": "code",
   "execution_count": 15,
   "metadata": {
    "collapsed": true
   },
   "outputs": [
    {
     "data": {
      "text/plain": [
       "[0.0,\n",
       " 0.9816117091179037,\n",
       " 0.9838688642998304,\n",
       " 0.9853535708194978,\n",
       " 0.9860257014736715,\n",
       " 0.986266464693077,\n",
       " 0.9865272915140997,\n",
       " 0.986747991131888,\n",
       " 0.9869586589488679,\n",
       " 0.9870790405585707,\n",
       " 0.9871994221682734,\n",
       " 0.9875003761925303,\n",
       " 0.9876006942006159,\n",
       " 0.9877010122087015,\n",
       " 0.9877311076111273,\n",
       " 0.9877912984159787,\n",
       " 0.9878213938184044,\n",
       " 0.9878514892208301,\n",
       " 0.9879518072289157,\n",
       " 0.9879919344321499,\n",
       " 0.9880220298345757,\n",
       " 0.9880521252370014,\n",
       " 0.9880922524402356,\n",
       " 0.9882527612531726,\n",
       " 0.988312952058024,\n",
       " 0.9883530792612583,\n",
       " 0.9884333336677268,\n",
       " 0.9884533972693439,\n",
       " 0.9884834926717696,\n",
       " 0.9885336516758124,\n",
       " 0.9885637470782381,\n",
       " 0.988613906082281,\n",
       " 0.9887242558911752,\n",
       " 0.9887543512936009,\n",
       " 0.9887643830944095,\n",
       " 0.9888245738992609,\n",
       " 0.9888346057000695,\n",
       " 0.9888647011024952,\n",
       " 0.988894796504921,\n",
       " 0.9889048283057296,\n",
       " 0.9889449555089638,\n",
       " 0.988985082712198,\n",
       " 0.9890051463138151,\n",
       " 0.9890252099154322,\n",
       " 0.9890352417162408,\n",
       " 0.9890553053178579,\n",
       " 0.9890653371186665,\n",
       " 0.9891154961227093,\n",
       " 0.989145591525135,\n",
       " 0.9891556233259436,\n",
       " 0.9891556233259436,\n",
       " 0.9891756869275607,\n",
       " 0.9891957505291779,\n",
       " 0.989215814130795,\n",
       " 0.989215814130795,\n",
       " 0.9892258459316036,\n",
       " 0.9892358777324122,\n",
       " 0.9892760049356464,\n",
       " 0.9892760049356464,\n",
       " 0.9892960685372635,\n",
       " 0.9893261639396892,\n",
       " 0.9893261639396892,\n",
       " 0.9893261639396892]"
      ]
     },
     "execution_count": 15,
     "metadata": {},
     "output_type": "execute_result"
    }
   ],
   "source": [
    "pass_data_rate_lt"
   ]
  },
  {
   "cell_type": "code",
   "execution_count": 17,
   "metadata": {
    "collapsed": true
   },
   "outputs": [
    {
     "data": {
      "text/plain": [
       "[0,\n",
       " 0.9826872798772714,\n",
       " 0.9848101812838962,\n",
       " 0.9862308506730624,\n",
       " 0.9869654933990191,\n",
       " 0.9873490201162465,\n",
       " 0.9876353147079796,\n",
       " 0.9878405825284675,\n",
       " 0.9880566539184548,\n",
       " 0.9881592878286987,\n",
       " 0.9883807610034356,\n",
       " 0.988629243101921,\n",
       " 0.9887102698731662,\n",
       " 0.988748082366414,\n",
       " 0.9887750912901624,\n",
       " 0.9888723234156567,\n",
       " 0.9888993323394051,\n",
       " 0.9889479484021522,\n",
       " 0.9890451805276465,\n",
       " 0.9890775912361446,\n",
       " 0.9891100019446427,\n",
       " 0.989120805514142,\n",
       " 0.9891478144378905,\n",
       " 0.9892666537023834,\n",
       " 0.9892990644108816,\n",
       " 0.9893206715498802,\n",
       " 0.9894827250923707,\n",
       " 0.9895151358008688,\n",
       " 0.9895313411551179,\n",
       " 0.9895691536483656,\n",
       " 0.9896015643568637,\n",
       " 0.9896501804196108,\n",
       " 0.9897204036213567,\n",
       " 0.9897582161146045,\n",
       " 0.9897744214688535,\n",
       " 0.9898446446705994,\n",
       " 0.9898500464553491,\n",
       " 0.9898770553790975,\n",
       " 0.9898878589485969,\n",
       " 0.9898986625180962,\n",
       " 0.9899418767960937,\n",
       " 0.9899634839350924,\n",
       " 0.989985091074091,\n",
       " 0.9900283053520885,\n",
       " 0.9900499124910872,\n",
       " 0.9900715196300859,\n",
       " 0.9900769214148356,\n",
       " 0.9901201356928331,\n",
       " 0.9901309392623324,\n",
       " 0.9901525464013311,\n",
       " 0.9901687517555802,\n",
       " 0.9901741535403299,\n",
       " 0.990206564248828,\n",
       " 0.9902389749573262,\n",
       " 0.9902443767420759,\n",
       " 0.9902875910200734,\n",
       " 0.9903037963743224,\n",
       " 0.9903308052980708,\n",
       " 0.9903416088675702,\n",
       " 0.9903578142218192,\n",
       " 0.9903794213608179,\n",
       " 0.9903794213608179,\n",
       " 0.9903902249303173]"
      ]
     },
     "execution_count": 17,
     "metadata": {},
     "output_type": "execute_result"
    }
   ],
   "source": [
    "pass_data_rate_train_lt"
   ]
  },
  {
   "cell_type": "code",
   "execution_count": 93,
   "metadata": {},
   "outputs": [
    {
     "data": {
      "text/plain": [
       "(array([0, 0, 0, ..., 0, 0, 0], dtype=int64),\n",
       " array([  8.43700939e-05,   8.56291435e-05,   1.46813747e-04, ...,\n",
       "          9.44118448e-05,   8.39224793e-05,   1.18323335e-04]))"
      ]
     },
     "execution_count": 93,
     "metadata": {},
     "output_type": "execute_result"
    }
   ],
   "source": [
    "y_test, test_y"
   ]
  },
  {
   "cell_type": "code",
   "execution_count": null,
   "metadata": {
    "collapsed": true
   },
   "outputs": [],
   "source": []
  },
  {
   "cell_type": "code",
   "execution_count": 96,
   "metadata": {
    "collapsed": true
   },
   "outputs": [],
   "source": [
    "pass_data_len_ = []\n",
    "for index, item in enumerate(pass_data_len):\n",
    "    if index == 0: \n",
    "        pass_data_len_.append(item)\n",
    "    else:\n",
    "        pass_data_len_.append(item+pass_data_len_[-1])"
   ]
  },
  {
   "cell_type": "code",
   "execution_count": 97,
   "metadata": {},
   "outputs": [
    {
     "name": "stdout",
     "output_type": "stream",
     "text": [
      "[0, 98013, 98196, 98275, 98334, 98403, 98432, 98463, 98484, 98489, 98500, 98507, 98511, 98522, 98529, 98538, 98545, 98550, 98553, 98560, 98567, 98575, 98578, 98584, 98590, 98593, 98595, 98601, 98603, 98608, 98609, 98612, 98620, 98622, 98625, 98627, 98630, 98631, 98634, 98637, 98643, 98644, 98646, 98648, 98650, 98650, 98652, 98652, 98652, 98653, 98658, 98658]\n",
      "[0, 26, 26, 26, 26, 26, 26, 26, 26, 26, 26, 26, 26, 26, 26, 26, 26, 26, 26, 26, 26, 26, 26, 26, 26, 26, 26, 26, 26, 26, 26, 26, 26, 26, 26, 26, 26, 26, 26, 26, 26, 26, 26, 26, 26, 26, 26, 26, 26, 26, 26, 26]\n",
      "[99683, 1670, 1487, 1408, 1349, 1280, 1251, 1220, 1199, 1194, 1183, 1176, 1172, 1161, 1154, 1145, 1138, 1133, 1130, 1123, 1116, 1108, 1105, 1099, 1093, 1090, 1088, 1082, 1080, 1075, 1074, 1071, 1063, 1061, 1058, 1056, 1053, 1052, 1049, 1046, 1040, 1039, 1037, 1035, 1033, 1033, 1031, 1031, 1031, 1030, 1025, 1025]\n",
      "[316, 290, 290, 290, 290, 290, 290, 290, 290, 290, 290, 290, 290, 290, 290, 290, 290, 290, 290, 290, 290, 290, 290, 290, 290, 290, 290, 290, 290, 290, 290, 290, 290, 290, 290, 290, 290, 290, 290, 290, 290, 290, 290, 290, 290, 290, 290, 290, 290, 290, 290, 290]\n"
     ]
    }
   ],
   "source": [
    "print(pass_data_len_)\n",
    "print(list(np.array([316]*len(pass_data_len)) - np.array(pass_data_pos_len)))\n",
    "print(list(np.array([99683]*len(pass_data_len)) - np.array(pass_data_len_)))\n",
    "print(pass_data_pos_len)"
   ]
  },
  {
   "cell_type": "code",
   "execution_count": null,
   "metadata": {
    "collapsed": true
   },
   "outputs": [],
   "source": []
  },
  {
   "cell_type": "code",
   "execution_count": null,
   "metadata": {
    "collapsed": true
   },
   "outputs": [],
   "source": []
  },
  {
   "cell_type": "code",
   "execution_count": 85,
   "metadata": {
    "collapsed": true
   },
   "outputs": [],
   "source": [
    "pass_data_len_ = []\n",
    "for index, item in enumerate(pass_data_len):\n",
    "    if index == 0: \n",
    "        pass_data_len_.append(item)\n",
    "    else:\n",
    "        pass_data_len_.append(item+pass_data_len_[-1])"
   ]
  },
  {
   "cell_type": "code",
   "execution_count": 88,
   "metadata": {},
   "outputs": [
    {
     "name": "stdout",
     "output_type": "stream",
     "text": [
      "[0, 97821, 98103, 98240, 98347, 98375, 98410, 98434, 98456, 98467, 98482, 98493, 98504, 98515, 98521, 98532, 98533, 98534, 98536, 98545, 98552, 98552, 98557, 98570, 98572, 98576, 98583, 98584, 98590, 98591, 98598, 98599, 98602, 98604, 98604, 98609, 98612, 98614, 98614, 98614, 98617, 98618, 98620, 98623, 98625, 98628, 98629, 98630, 98630]\n",
      "[0, 25, 25, 25, 25, 25, 25, 25, 25, 25, 25, 25, 25, 25, 25, 25, 25, 25, 25, 25, 25, 25, 25, 25, 25, 25, 25, 25, 25, 25, 25, 25, 25, 25, 25, 25, 25, 25, 25, 25, 25, 25, 25, 25, 25, 25, 25, 25, 25]\n",
      "[99683, 1862, 1580, 1443, 1336, 1308, 1273, 1249, 1227, 1216, 1201, 1190, 1179, 1168, 1162, 1151, 1150, 1149, 1147, 1138, 1131, 1131, 1126, 1113, 1111, 1107, 1100, 1099, 1093, 1092, 1085, 1084, 1081, 1079, 1079, 1074, 1071, 1069, 1069, 1069, 1066, 1065, 1063, 1060, 1058, 1055, 1054, 1053, 1053]\n",
      "[316, 291, 291, 291, 291, 291, 291, 291, 291, 291, 291, 291, 291, 291, 291, 291, 291, 291, 291, 291, 291, 291, 291, 291, 291, 291, 291, 291, 291, 291, 291, 291, 291, 291, 291, 291, 291, 291, 291, 291, 291, 291, 291, 291, 291, 291, 291, 291, 291]\n"
     ]
    }
   ],
   "source": [
    "print(pass_data_len_)\n",
    "print(list(np.array([316]*len(pass_data_len)) - np.array(pass_data_pos_len)))\n",
    "print(list(np.array([99683]*len(pass_data_len)) - np.array(pass_data_len_)))\n",
    "print(pass_data_pos_len)"
   ]
  },
  {
   "cell_type": "code",
   "execution_count": null,
   "metadata": {
    "collapsed": true
   },
   "outputs": [],
   "source": []
  },
  {
   "cell_type": "code",
   "execution_count": null,
   "metadata": {
    "collapsed": true
   },
   "outputs": [],
   "source": []
  },
  {
   "cell_type": "code",
   "execution_count": null,
   "metadata": {
    "collapsed": true
   },
   "outputs": [],
   "source": []
  },
  {
   "cell_type": "code",
   "execution_count": 89,
   "metadata": {},
   "outputs": [
    {
     "data": {
      "image/png": "[encoded data removed]",
      "text/plain": [
       "<matplotlib.figure.Figure at 0x1d52b5eb240>"
      ]
     },
     "metadata": {},
     "output_type": "display_data"
    }
   ],
   "source": [
    "# 0123\n",
    "import matplotlib.pyplot as plt\n",
    "\n",
    "plt.figure(figsize=(10,10))\n",
    "x = range(len(train_loss_lt))\n",
    "\n",
    "plt.subplot(221)\n",
    "plt.plot(x[1:],pass_train_loss_lt[1:], label=\"train-pass\", color=\"blue\")\n",
    "plt.plot(x[1:],pass_vaild_loss_lt[1:], label=\"vaild-pass\", color=\"green\")\n",
    "plt.plot(x[1:],pass_test_loss_lt[1:], label=\"test-pass\", color=\"red\")\n",
    "plt.legend()\n",
    "plt.subplot(222)\n",
    "plt.plot(x[1:],pass_train_loss_lt_now[1:], label=\"train-pass-now\", color=\"blue\")\n",
    "plt.plot(x[1:],pass_vaild_loss_lt_now[1:], label=\"vaild-pass-now\", color=\"green\")\n",
    "plt.plot(x[1:],pass_test_loss_lt_now[1:], label=\"test-pass-now\", color=\"red\")\n",
    "plt.legend()\n",
    "plt.subplot(223)\n",
    "plt.plot(x,train_loss_lt, label=\"train-loss\", color=\"blue\")\n",
    "plt.plot(x,vaild_loss_lt, label=\"vaild-loss\", color=\"green\")\n",
    "plt.plot(x,test_loss_lt, label=\"test-loss\", color=\"red\")\n",
    "plt.legend()\n",
    "plt.subplot(224)\n",
    "plt.plot(x,pass_data_rate_lt[:], label=\"data-pass-rate\")\n",
    "plt.legend()\n",
    "\n",
    "plt.show()"
   ]
  },
  {
   "cell_type": "code",
   "execution_count": 18,
   "metadata": {},
   "outputs": [
    {
     "data": {
      "image/png": "[encoded data removed]",
      "text/plain": [
       "<matplotlib.figure.Figure at 0x1e686525160>"
      ]
     },
     "metadata": {},
     "output_type": "display_data"
    }
   ],
   "source": [
    "# 0123\n",
    "import matplotlib.pyplot as plt\n",
    "\n",
    "plt.figure(figsize=(10,10))\n",
    "x = range(len(train_loss_lt))\n",
    "\n",
    "plt.subplot(221)\n",
    "plt.plot(x[1:],pass_train_loss_lt[1:], label=\"train-pass\", color=\"blue\")\n",
    "plt.plot(x[1:],pass_vaild_loss_lt[1:], label=\"vaild-pass\", color=\"green\")\n",
    "plt.plot(x[1:],pass_test_loss_lt[1:], label=\"test-pass\", color=\"red\")\n",
    "plt.legend()\n",
    "plt.subplot(222)\n",
    "plt.plot(x[1:],pass_train_loss_lt_now[1:], label=\"train-pass-now\", color=\"blue\")\n",
    "plt.plot(x[1:],pass_vaild_loss_lt_now[1:], label=\"vaild-pass-now\", color=\"green\")\n",
    "plt.plot(x[1:],pass_test_loss_lt_now[1:], label=\"test-pass-now\", color=\"red\")\n",
    "plt.legend()\n",
    "plt.subplot(223)\n",
    "plt.plot(x,train_loss_lt, label=\"train-loss\", color=\"blue\")\n",
    "plt.plot(x,vaild_loss_lt, label=\"vaild-loss\", color=\"green\")\n",
    "plt.plot(x,test_loss_lt, label=\"test-loss\", color=\"red\")\n",
    "plt.legend()\n",
    "plt.subplot(224)\n",
    "plt.plot(x,pass_data_rate_lt[:], label=\"data-pass-rate\")\n",
    "plt.legend()\n",
    "\n",
    "plt.show()"
   ]
  },
  {
   "cell_type": "code",
   "execution_count": null,
   "metadata": {
    "collapsed": true
   },
   "outputs": [],
   "source": []
  },
  {
   "cell_type": "code",
   "execution_count": null,
   "metadata": {
    "collapsed": true
   },
   "outputs": [],
   "source": []
  },
  {
   "cell_type": "code",
   "execution_count": 36,
   "metadata": {
    "collapsed": true
   },
   "outputs": [],
   "source": [
    "import numpy as np\n",
    "\n",
    "import EnhancedForest_multiclass\n",
    "import DecomposerForest\n",
    "import LogUtils\n",
    "import AlgorithmUtils\n",
    "import importlib\n",
    "importlib.reload(DecomposerForest)\n",
    "importlib.reload(LogUtils)\n",
    "importlib.reload(EnhancedForest_multiclass)\n",
    "importlib.reload(AlgorithmUtils)\n",
    "np.seterr(divide='ignore', invalid='ignore')\n",
    "import warnings\n",
    "warnings.filterwarnings(\"ignore\")"
   ]
  },
  {
   "cell_type": "code",
   "execution_count": 40,
   "metadata": {
    "collapsed": true
   },
   "outputs": [],
   "source": []
  },
  {
   "cell_type": "code",
   "execution_count": 29,
   "metadata": {
    "collapsed": true
   },
   "outputs": [
    {
     "ename": "AttributeError",
     "evalue": "'numpy.ndarray' object has no attribute 'values'",
     "output_type": "error",
     "traceback": [
      "\u001b[1;31m---------------------------------------------------------------------------\u001b[0m",
      "\u001b[1;31mAttributeError\u001b[0m                            Traceback (most recent call last)",
      "\u001b[1;32m<ipython-input-29-0bc83adc44b2>\u001b[0m in \u001b[0;36m<module>\u001b[1;34m()\u001b[0m\n\u001b[1;32m----> 1\u001b[1;33m \u001b[0mX_train\u001b[0m \u001b[1;33m=\u001b[0m \u001b[0mX_train\u001b[0m\u001b[1;33m.\u001b[0m\u001b[0mvalues\u001b[0m\u001b[1;33m\u001b[0m\u001b[0m\n\u001b[0m\u001b[0;32m      2\u001b[0m \u001b[0mX_test\u001b[0m \u001b[1;33m=\u001b[0m \u001b[0mX_test\u001b[0m\u001b[1;33m.\u001b[0m\u001b[0mvalues\u001b[0m\u001b[1;33m\u001b[0m\u001b[0m\n\u001b[0;32m      3\u001b[0m \u001b[0my_train\u001b[0m \u001b[1;33m=\u001b[0m \u001b[0my_train\u001b[0m\u001b[1;33m.\u001b[0m\u001b[0mvalues\u001b[0m\u001b[1;33m\u001b[0m\u001b[0m\n\u001b[0;32m      4\u001b[0m \u001b[0my_test\u001b[0m \u001b[1;33m=\u001b[0m \u001b[0my_test\u001b[0m\u001b[1;33m.\u001b[0m\u001b[0mvalues\u001b[0m\u001b[1;33m\u001b[0m\u001b[0m\n",
      "\u001b[1;31mAttributeError\u001b[0m: 'numpy.ndarray' object has no attribute 'values'"
     ]
    }
   ],
   "source": [
    "X_train = X_train.values\n",
    "X_test = X_test.values\n",
    "y_train = y_train.values\n",
    "y_test = y_test.values"
   ]
  },
  {
   "cell_type": "code",
   "execution_count": null,
   "metadata": {
    "collapsed": true
   },
   "outputs": [
    {
     "name": "stdout",
     "output_type": "stream",
     "text": [
      "\n",
      "2018-01-27 15:26:17 layer: 1\n",
      "all data ('roc', 0.8695777887007381)\n",
      "train loss ('roc', 0.8695777887007381)\n",
      "pass train loss (0, 0)\n",
      "pass train loss now (0, 1)\n",
      "vaild loss ('roc', 0.86648865878226045)\n",
      "pass vaild loss (0, 0)\n",
      "pass vaild loss now (0, 1)\n",
      "test loss ('roc', 0.8614005647276346)\n",
      "pass test loss (0, 0)\n",
      "pass test loss now (0, 1)\n",
      "1 [p:0/np:0] \n",
      "\n",
      "2018-01-27 15:28:31 layer: 2\n",
      "all data ('roc', 0.86959131698567638)\n",
      "[p:3356/1:211|n:181768/1:115] \n",
      "train loss ('roc', 0.86959131698567638)\n",
      "pass train loss ('roc', 0.98182249715564462)\n",
      "pass train loss now ('roc', 0.98182249715564462)\n",
      "vaild loss ('roc', 0.86342658543365913)\n",
      "pass vaild loss ('roc', 0.97897588137342817)\n",
      "pass vaild loss now ('roc', 0.97897588137342817)\n",
      "test loss ('roc', 0.86743973391480855)\n",
      "pass test loss ('roc', 0.98038551706173482)\n",
      "pass test loss now ('roc', 0.98038551706173482)\n",
      "2 [p:1855/np:97828] \n",
      "\n",
      "2018-01-27 15:31:15 layer: 3\n",
      "all data ('roc', 0.63911391977872767)\n",
      "[p:213/1:32|n:181555/1:83] \n",
      "train loss ('roc', 0.86191989967224703)\n",
      "pass train loss ('roc', 0.95850005815262729)\n",
      "pass train loss now ('roc', 0.79592541436464093)\n",
      "vaild loss ('roc', 0.83738272802862113)\n",
      "pass vaild loss ('roc', 0.94013187036170942)\n",
      "pass vaild loss now ('roc', 0.68197513812154698)\n",
      "test loss ('roc', 0.84635539656541092)\n",
      "pass test loss ('roc', 0.96088187702265371)\n",
      "pass test loss now ('roc', 0.74541284403669728)\n",
      "not pass\n",
      "\n",
      "2018-01-27 15:33:45 layer: 4\n",
      "all data ('roc', 0.63911391977872767)\n",
      "[p:277/1:14|n:181491/1:101] \n",
      "train loss ('roc', 0.86191989967224703)\n",
      "pass train loss ('roc', 0.95853286384976522)\n",
      "pass train loss now ('roc', 0.6071428571428571)\n",
      "vaild loss ('roc', 0.83584628004034511)\n",
      "pass vaild loss ('roc', 0.94920383411580589)\n",
      "pass vaild loss now ('roc', 0.5)\n",
      "test loss ('roc', 0.84635539656541092)\n",
      "pass test loss ('roc', 0.96771833307863653)\n",
      "pass test loss now ('roc', 0.5)\n",
      "not pass\n",
      "\n",
      "2018-01-27 15:36:17 layer: 5\n",
      "all data ('roc', 0.63911667227937441)\n",
      "[p:5840/1:16|n:175928/1:99] \n",
      "train loss ('roc', 0.8619226053292347)\n",
      "pass train loss ('roc', 0.97736034495715296)\n",
      "pass train loss now ('roc', 0.90616414835164827)\n",
      "vaild loss ('roc', 0.8389110590459341)\n",
      "pass vaild loss ('roc', 0.96838252954498683)\n",
      "pass vaild loss now ('roc', 0.81241414835164827)\n",
      "test loss ('roc', 0.84937246902539265)\n",
      "pass test loss ('roc', 0.97384709884709875)\n",
      "pass test loss now ('roc', 0.85714285714285721)\n",
      "not pass\n",
      "\n",
      "2018-01-27 15:38:48 layer: 6\n",
      "all data ('roc', 0.63911391977872767)\n",
      "[p:5971/1:4|n:175797/1:111] \n",
      "train loss ('roc', 0.86191989967224703)\n",
      "pass train loss ('roc', 0.97614058639769685)\n",
      "pass train loss now ('roc', 0.62491620579855867)\n",
      "vaild loss ('roc', 0.83738272802862113)\n",
      "pass vaild loss ('roc', 0.97370525961165455)\n",
      "pass vaild loss now ('roc', 0.625)\n",
      "test loss ('roc', 0.84936242049097144)\n",
      "pass test loss ('roc', 0.97697099449530567)\n",
      "pass test loss now ('roc', 0.5)\n",
      "not pass\n",
      "\n",
      "2018-01-27 15:41:19 layer: 7\n",
      "all data ('roc', 0.63911116727808082)\n",
      "[p:7138/1:2|n:174630/1:113] \n",
      "train loss ('roc', 0.86191719401525946)\n",
      "pass train loss ('roc', 0.98073432326279431)\n",
      "pass train loss now ('roc', 0.75)\n",
      "vaild loss ('roc', 0.83890835338894654)\n",
      "pass vaild loss ('roc', 0.97589358737778276)\n",
      "pass vaild loss now ('roc', 0.5)\n",
      "test loss ('roc', 0.84635539656541092)\n",
      "pass test loss ('roc', 0.96857183786863765)\n",
      "pass test loss now ('roc', 0.5)\n",
      "not pass\n",
      "\n",
      "2018-01-27 15:43:49 layer: 8\n",
      "all data ('roc', 0.64346174586568428)\n",
      "[p:15750/1:8|n:166018/1:107] \n",
      "train loss ('roc', 0.86345364200353536)\n",
      "pass train loss ('roc', 0.98372705924903525)\n",
      "pass train loss now ('roc', 0.99996823783509092)\n",
      "vaild loss ('roc', 0.83738002237163356)\n",
      "pass vaild loss ('roc', 0.98136453451952776)\n",
      "pass vaild loss now ('roc', 0.99996823783509092)\n",
      "test loss ('roc', 0.84936744475818204)\n",
      "pass test loss ('roc', 0.98190138124215209)\n",
      "pass test loss now ('roc', 1.0)\n",
      "not pass\n",
      "\n",
      "2018-01-27 15:46:19 layer: 9\n",
      "all data ('roc', 0.63911116727808082)\n",
      "[p:138706/1:65|n:43062/1:50] \n",
      "train loss ('roc', 0.86191719401525946)\n",
      "pass train loss ('roc', 0.92566821462105475)\n",
      "pass train loss now ('roc', 0.7384398998409285)\n",
      "vaild loss ('roc', 0.83738002237163356)\n",
      "pass vaild loss ('roc', 0.89668270737467792)\n",
      "pass vaild loss now ('roc', 0.62306610376661808)\n",
      "test loss ('roc', 0.84635539656541092)\n",
      "pass test loss ('roc', 0.88586691714799637)\n",
      "pass test loss now ('roc', 0.61537794302420123)\n",
      "not pass\n",
      "\n",
      "2018-01-27 15:48:53 layer: 10\n"
     ]
    }
   ],
   "source": [
    "decoForest = DecomposerForest.DecomposerForest(X_train, y_train, X_test, y_test, num_class=2, flag=\"creditcard\", isLRStacker=True)\n",
    "decoForest.set_parameter(criterion=\"gini\", dropout=0.5, min_samples_leaf=10)\n",
    "decoForest.fit(n_estimators=200, kfold=3, feval=acc_metrix_mult)"
   ]
  },
  {
   "cell_type": "code",
   "execution_count": 23,
   "metadata": {
    "collapsed": true
   },
   "outputs": [
    {
     "data": {
      "text/plain": [
       "(0.99949840995957184,\n",
       " [(0, 0.99944825095552903),\n",
       "  (1, 0.99949840995957184),\n",
       "  (2, 0.99944825095552903),\n",
       "  (3, 0.99946831455714613),\n",
       "  (4, 0.99945828275633763),\n",
       "  (5, 0.99945828275633763),\n",
       "  (6, 0.99947834635795474),\n",
       "  (7, 0.99946831455714613),\n",
       "  (8, 0.99946831455714613),\n",
       "  (9, 0.99945828275633763),\n",
       "  (10, 0.99945828275633763),\n",
       "  (11, 0.99944825095552903),\n",
       "  (12, 0.99944825095552903),\n",
       "  (13, 0.99945828275633763),\n",
       "  (14, 0.99944825095552903),\n",
       "  (15, 0.99944825095552903),\n",
       "  (16, 0.99944825095552903),\n",
       "  (17, 0.99944825095552903),\n",
       "  (18, 0.99946831455714613),\n",
       "  (19, 0.99945828275633763),\n",
       "  (20, 0.99944825095552903)])"
      ]
     },
     "execution_count": 23,
     "metadata": {},
     "output_type": "execute_result"
    }
   ],
   "source": [
    "np.max(np.array(decoForest.test_loss_lt)),list(enumerate(decoForest.test_loss_lt) )"
   ]
  },
  {
   "cell_type": "code",
   "execution_count": 24,
   "metadata": {},
   "outputs": [
    {
     "data": {
      "image/png": "[encoded data removed]",
      "text/plain": [
       "<matplotlib.figure.Figure at 0x1d52b4b6f60>"
      ]
     },
     "metadata": {},
     "output_type": "display_data"
    }
   ],
   "source": [
    "import matplotlib.pyplot as plt\n",
    "\n",
    "plt.figure(figsize=(10,10))\n",
    "x = range(len(decoForest.train_loss_lt))\n",
    "\n",
    "plt.subplot(221)\n",
    "plt.plot(x[1:],decoForest.pass_train_loss_lt[1:], label=\"train-pass\", color=\"blue\")\n",
    "plt.plot(x[1:],decoForest.pass_vaild_loss_lt[1:], label=\"vaild-pass\", color=\"green\")\n",
    "plt.plot(x[1:],decoForest.pass_test_loss_lt[1:], label=\"test-pass\", color=\"red\")\n",
    "plt.legend()\n",
    "plt.subplot(222)\n",
    "plt.plot(x[1:],decoForest.pass_train_loss_lt_now[1:], label=\"train-pass-now\", color=\"blue\")\n",
    "plt.plot(x[1:],decoForest.pass_vaild_loss_lt_now[1:], label=\"vaild-pass-now\", color=\"green\")\n",
    "plt.plot(x[1:],decoForest.pass_test_loss_lt_now[1:], label=\"test-pass-now\", color=\"red\")\n",
    "plt.legend()\n",
    "plt.subplot(223)\n",
    "plt.plot(x,decoForest.train_loss_lt, label=\"train-loss\", color=\"blue\")\n",
    "plt.plot(x,decoForest.vaild_loss_lt, label=\"vaild-loss\", color=\"green\")\n",
    "plt.plot(x,decoForest.test_loss_lt, label=\"test-loss\", color=\"red\")\n",
    "plt.legend()\n",
    "plt.subplot(224)\n",
    "plt.plot(x,decoForest.pass_data_rate_lt[:], label=\"data-pass-rate\")\n",
    "plt.legend()\n",
    "\n",
    "plt.show()"
   ]
  },
  {
   "cell_type": "code",
   "execution_count": null,
   "metadata": {
    "collapsed": true
   },
   "outputs": [],
   "source": []
  }
 ],
 "metadata": {
  "kernelspec": {
   "display_name": "Python 3",
   "language": "python",
   "name": "python3"
  },
  "language_info": {
   "codemirror_mode": {
    "name": "ipython",
    "version": 3
   },
   "file_extension": ".py",
   "mimetype": "text/x-python",
   "name": "python",
   "nbconvert_exporter": "python",
   "pygments_lexer": "ipython3",
   "version": "3.7.3"
  }
 },
 "nbformat": 4,
 "nbformat_minor": 2
}
